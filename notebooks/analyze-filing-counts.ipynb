{
 "cells": [
  {
   "cell_type": "markdown",
   "id": "05ac5b4b",
   "metadata": {},
   "source": [
    "__<span style=\"background-color: yellow\">Note:</span> This is an updated version of [the original notebook](https://github.com/BuzzFeedNews/2021-09-guardianship-filings/blob/00e55ac3cf718f020f63cf2209ec7b5260a3d240/notebooks/analyze-filing-counts.ipynb), incorporating two additional states that provided or clarified data after the initial publication of the analysis. For more details [see here](https://github.com/BuzzFeedNews/2021-09-guardianship-filings/tree/updates). This update keeps the methodology and code the same as the original, but adjusts the phrasing of some numbers (for instance, the number of states analyzed) where appropriate.__\n",
    "\n",
    "\n",
    "# Estimating the national rate of guardianship filings\n",
    "\n",
    "This notebook attempts to estimate the number of guardianship cases filed annually, using data BuzzFeed News requested from all 50 US states and the District of Columbia. Data was not available from all states, and other states' data proved to be unusable, so we explore various approaches to extrapolating the national number from a limited sample. Please see this repository's landing page and/or `README.md` document for important details and methodological context."
   ]
  },
  {
   "cell_type": "code",
   "execution_count": 1,
   "id": "11bfa1f7",
   "metadata": {
    "execution": {
     "iopub.execute_input": "2021-09-30T14:59:50.851466Z",
     "iopub.status.busy": "2021-09-30T14:59:50.849684Z",
     "iopub.status.idle": "2021-09-30T15:00:47.062290Z",
     "shell.execute_reply": "2021-09-30T15:00:47.065209Z"
    }
   },
   "outputs": [],
   "source": [
    "import pandas as pd\n",
    "import numpy as np\n",
    "import random\n",
    "from us import states\n",
    "import statsmodels.api as sm\n",
    "from scipy.stats import nbinom\n",
    "import matplotlib.pyplot as plt\n",
    "import seaborn as sns\n",
    "import warnings\n",
    "warnings.filterwarnings(\"ignore\")\n",
    "sns.set()\n",
    "seed=sum(map(ord, \"BuzzFeed News\"))\n",
    "random.seed(seed)\n",
    "np.random.seed(seed)"
   ]
  },
  {
   "cell_type": "markdown",
   "id": "42693e91",
   "metadata": {},
   "source": [
    "# Load the guardianship data\n",
    "\n",
    "Here we load the guardianship filing counts we collected, for all years and disaggregated into several categories. See the `README.md` document for variable definitions."
   ]
  },
  {
   "cell_type": "code",
   "execution_count": 2,
   "id": "c515d7f1",
   "metadata": {
    "execution": {
     "iopub.execute_input": "2021-09-30T15:00:47.073387Z",
     "iopub.status.busy": "2021-09-30T15:00:47.070398Z",
     "iopub.status.idle": "2021-09-30T15:00:47.113476Z",
     "shell.execute_reply": "2021-09-30T15:00:47.112590Z"
    }
   },
   "outputs": [
    {
     "data": {
      "text/html": [
       "<div>\n",
       "<style scoped>\n",
       "    .dataframe tbody tr th:only-of-type {\n",
       "        vertical-align: middle;\n",
       "    }\n",
       "\n",
       "    .dataframe tbody tr th {\n",
       "        vertical-align: top;\n",
       "    }\n",
       "\n",
       "    .dataframe thead th {\n",
       "        text-align: right;\n",
       "    }\n",
       "</style>\n",
       "<table border=\"1\" class=\"dataframe\">\n",
       "  <thead>\n",
       "    <tr style=\"text-align: right;\">\n",
       "      <th></th>\n",
       "      <th>state</th>\n",
       "      <th>year</th>\n",
       "      <th>case_action</th>\n",
       "      <th>case_type</th>\n",
       "      <th>age_group</th>\n",
       "      <th>count</th>\n",
       "      <th>for_total</th>\n",
       "    </tr>\n",
       "  </thead>\n",
       "  <tbody>\n",
       "    <tr>\n",
       "      <th>0</th>\n",
       "      <td>Alaska</td>\n",
       "      <td>2020</td>\n",
       "      <td>Ambiguous</td>\n",
       "      <td>G+C+Joint</td>\n",
       "      <td>Adults+Minors</td>\n",
       "      <td>1171</td>\n",
       "      <td>Y</td>\n",
       "    </tr>\n",
       "    <tr>\n",
       "      <th>1</th>\n",
       "      <td>Alaska</td>\n",
       "      <td>2019</td>\n",
       "      <td>Ambiguous</td>\n",
       "      <td>G+C+Joint</td>\n",
       "      <td>Adults+Minors</td>\n",
       "      <td>1084</td>\n",
       "      <td>Y</td>\n",
       "    </tr>\n",
       "    <tr>\n",
       "      <th>2</th>\n",
       "      <td>Alaska</td>\n",
       "      <td>2018</td>\n",
       "      <td>Ambiguous</td>\n",
       "      <td>G+C+Joint</td>\n",
       "      <td>Adults+Minors</td>\n",
       "      <td>1227</td>\n",
       "      <td>Y</td>\n",
       "    </tr>\n",
       "    <tr>\n",
       "      <th>3</th>\n",
       "      <td>Alaska</td>\n",
       "      <td>2017</td>\n",
       "      <td>Ambiguous</td>\n",
       "      <td>G+C+Joint</td>\n",
       "      <td>Adults+Minors</td>\n",
       "      <td>1090</td>\n",
       "      <td>Y</td>\n",
       "    </tr>\n",
       "    <tr>\n",
       "      <th>4</th>\n",
       "      <td>Arizona</td>\n",
       "      <td>2020</td>\n",
       "      <td>Ambiguous</td>\n",
       "      <td>Guardianship ONLY</td>\n",
       "      <td>Adults ONLY</td>\n",
       "      <td>2520</td>\n",
       "      <td>Y</td>\n",
       "    </tr>\n",
       "  </tbody>\n",
       "</table>\n",
       "</div>"
      ],
      "text/plain": [
       "     state  year case_action          case_type      age_group  count  \\\n",
       "0   Alaska  2020   Ambiguous          G+C+Joint  Adults+Minors   1171   \n",
       "1   Alaska  2019   Ambiguous          G+C+Joint  Adults+Minors   1084   \n",
       "2   Alaska  2018   Ambiguous          G+C+Joint  Adults+Minors   1227   \n",
       "3   Alaska  2017   Ambiguous          G+C+Joint  Adults+Minors   1090   \n",
       "4  Arizona  2020   Ambiguous  Guardianship ONLY    Adults ONLY   2520   \n",
       "\n",
       "  for_total  \n",
       "0         Y  \n",
       "1         Y  \n",
       "2         Y  \n",
       "3         Y  \n",
       "4         Y  "
      ]
     },
     "execution_count": 2,
     "metadata": {},
     "output_type": "execute_result"
    }
   ],
   "source": [
    "counts = pd.read_csv(\"../data/raw/filing-counts.csv\")\n",
    "counts.head()"
   ]
  },
  {
   "cell_type": "code",
   "execution_count": 3,
   "id": "6c3fbcbc",
   "metadata": {
    "execution": {
     "iopub.execute_input": "2021-09-30T15:00:47.119515Z",
     "iopub.status.busy": "2021-09-30T15:00:47.118747Z",
     "iopub.status.idle": "2021-09-30T15:00:47.125435Z",
     "shell.execute_reply": "2021-09-30T15:00:47.126865Z"
    }
   },
   "outputs": [
    {
     "data": {
      "text/plain": [
       "384"
      ]
     },
     "execution_count": 3,
     "metadata": {},
     "output_type": "execute_result"
    }
   ],
   "source": [
    "len(counts)"
   ]
  },
  {
   "cell_type": "code",
   "execution_count": 4,
   "id": "40f9df14",
   "metadata": {
    "execution": {
     "iopub.execute_input": "2021-09-30T15:00:47.136375Z",
     "iopub.status.busy": "2021-09-30T15:00:47.135010Z",
     "iopub.status.idle": "2021-09-30T15:00:47.144113Z",
     "shell.execute_reply": "2021-09-30T15:00:47.146984Z"
    }
   },
   "outputs": [
    {
     "data": {
      "text/plain": [
       "38"
      ]
     },
     "execution_count": 4,
     "metadata": {},
     "output_type": "execute_result"
    }
   ],
   "source": [
    "counts[\"state\"].nunique()"
   ]
  },
  {
   "cell_type": "markdown",
   "id": "15a41ed8",
   "metadata": {},
   "source": [
    "Although we've collected data from most states, only 25 jurisdictions (24 states plus the District of Columbia) have data fully usable for generating annual totals of *adult* guardianship filings. See the `README.md` document for more details."
   ]
  },
  {
   "cell_type": "code",
   "execution_count": 5,
   "id": "eaa4c493",
   "metadata": {
    "execution": {
     "iopub.execute_input": "2021-09-30T15:00:47.157585Z",
     "iopub.status.busy": "2021-09-30T15:00:47.155640Z",
     "iopub.status.idle": "2021-09-30T15:00:47.162872Z",
     "shell.execute_reply": "2021-09-30T15:00:47.163501Z"
    }
   },
   "outputs": [
    {
     "data": {
      "text/plain": [
       "25"
      ]
     },
     "execution_count": 5,
     "metadata": {},
     "output_type": "execute_result"
    }
   ],
   "source": [
    "(\n",
    "    counts\n",
    "    .loc[lambda df: df[\"for_total\"] == \"Y\"]\n",
    "    .loc[lambda df: df[\"age_group\"] == \"Adults ONLY\"]\n",
    "    [\"state\"]\n",
    "    .nunique()\n",
    ")"
   ]
  },
  {
   "cell_type": "markdown",
   "id": "4ba4fa63",
   "metadata": {},
   "source": [
    "# Examine years available\n",
    "\n",
    "All usable jurisdictions have data for 2019, and all but one for 2018. (And although we have collected data for 2020 for many states, we will generally ignore it due to the likelihood that the COVID-19 pandemic affected filing rates.)"
   ]
  },
  {
   "cell_type": "code",
   "execution_count": 6,
   "id": "90ad44ef",
   "metadata": {
    "execution": {
     "iopub.execute_input": "2021-09-30T15:00:47.181372Z",
     "iopub.status.busy": "2021-09-30T15:00:47.177916Z",
     "iopub.status.idle": "2021-09-30T15:00:47.202799Z",
     "shell.execute_reply": "2021-09-30T15:00:47.206234Z"
    }
   },
   "outputs": [
    {
     "data": {
      "text/plain": [
       "year\n",
       "2016     8\n",
       "2017    16\n",
       "2018    24\n",
       "2019    25\n",
       "2020    21\n",
       "Name: state, dtype: int64"
      ]
     },
     "execution_count": 6,
     "metadata": {},
     "output_type": "execute_result"
    }
   ],
   "source": [
    "(\n",
    "    counts\n",
    "    .loc[lambda df: df[\"for_total\"] == \"Y\"]\n",
    "    .loc[lambda df: df[\"age_group\"] == \"Adults ONLY\"]\n",
    "    .groupby([\"year\"])\n",
    "    [\"state\"]\n",
    "    .nunique()\n",
    "    .sort_index()\n",
    ")"
   ]
  },
  {
   "cell_type": "markdown",
   "id": "74b7c3fc",
   "metadata": {},
   "source": [
    "Here we identify the latest year of usable data available for each jurisdiction. In this case, all values are `2019`, but the approach implemented in this code allows for flexibility when/if the data changes."
   ]
  },
  {
   "cell_type": "code",
   "execution_count": 7,
   "id": "d52a13b4",
   "metadata": {
    "execution": {
     "iopub.execute_input": "2021-09-30T15:00:47.229991Z",
     "iopub.status.busy": "2021-09-30T15:00:47.225831Z",
     "iopub.status.idle": "2021-09-30T15:00:47.319302Z",
     "shell.execute_reply": "2021-09-30T15:00:47.328117Z"
    }
   },
   "outputs": [
    {
     "data": {
      "text/html": [
       "<div>\n",
       "<style scoped>\n",
       "    .dataframe tbody tr th:only-of-type {\n",
       "        vertical-align: middle;\n",
       "    }\n",
       "\n",
       "    .dataframe tbody tr th {\n",
       "        vertical-align: top;\n",
       "    }\n",
       "\n",
       "    .dataframe thead th {\n",
       "        text-align: right;\n",
       "    }\n",
       "</style>\n",
       "<table border=\"1\" class=\"dataframe\">\n",
       "  <thead>\n",
       "    <tr style=\"text-align: right;\">\n",
       "      <th></th>\n",
       "      <th>state</th>\n",
       "      <th>year_max</th>\n",
       "    </tr>\n",
       "  </thead>\n",
       "  <tbody>\n",
       "    <tr>\n",
       "      <th>0</th>\n",
       "      <td>Arizona</td>\n",
       "      <td>2019</td>\n",
       "    </tr>\n",
       "    <tr>\n",
       "      <th>1</th>\n",
       "      <td>Arkansas</td>\n",
       "      <td>2019</td>\n",
       "    </tr>\n",
       "    <tr>\n",
       "      <th>2</th>\n",
       "      <td>Colorado</td>\n",
       "      <td>2019</td>\n",
       "    </tr>\n",
       "    <tr>\n",
       "      <th>3</th>\n",
       "      <td>Connecticut</td>\n",
       "      <td>2019</td>\n",
       "    </tr>\n",
       "    <tr>\n",
       "      <th>4</th>\n",
       "      <td>District of Columbia</td>\n",
       "      <td>2019</td>\n",
       "    </tr>\n",
       "    <tr>\n",
       "      <th>5</th>\n",
       "      <td>Idaho</td>\n",
       "      <td>2019</td>\n",
       "    </tr>\n",
       "    <tr>\n",
       "      <th>6</th>\n",
       "      <td>Kansas</td>\n",
       "      <td>2019</td>\n",
       "    </tr>\n",
       "    <tr>\n",
       "      <th>7</th>\n",
       "      <td>Kentucky</td>\n",
       "      <td>2019</td>\n",
       "    </tr>\n",
       "    <tr>\n",
       "      <th>8</th>\n",
       "      <td>Massachusetts</td>\n",
       "      <td>2019</td>\n",
       "    </tr>\n",
       "    <tr>\n",
       "      <th>9</th>\n",
       "      <td>Michigan</td>\n",
       "      <td>2019</td>\n",
       "    </tr>\n",
       "    <tr>\n",
       "      <th>10</th>\n",
       "      <td>Minnesota</td>\n",
       "      <td>2019</td>\n",
       "    </tr>\n",
       "    <tr>\n",
       "      <th>11</th>\n",
       "      <td>Missouri</td>\n",
       "      <td>2019</td>\n",
       "    </tr>\n",
       "    <tr>\n",
       "      <th>12</th>\n",
       "      <td>Nebraska</td>\n",
       "      <td>2019</td>\n",
       "    </tr>\n",
       "    <tr>\n",
       "      <th>13</th>\n",
       "      <td>New Hampshire</td>\n",
       "      <td>2019</td>\n",
       "    </tr>\n",
       "    <tr>\n",
       "      <th>14</th>\n",
       "      <td>New Jersey</td>\n",
       "      <td>2019</td>\n",
       "    </tr>\n",
       "    <tr>\n",
       "      <th>15</th>\n",
       "      <td>New Mexico</td>\n",
       "      <td>2019</td>\n",
       "    </tr>\n",
       "    <tr>\n",
       "      <th>16</th>\n",
       "      <td>North Dakota</td>\n",
       "      <td>2019</td>\n",
       "    </tr>\n",
       "    <tr>\n",
       "      <th>17</th>\n",
       "      <td>Ohio</td>\n",
       "      <td>2019</td>\n",
       "    </tr>\n",
       "    <tr>\n",
       "      <th>18</th>\n",
       "      <td>Oregon</td>\n",
       "      <td>2019</td>\n",
       "    </tr>\n",
       "    <tr>\n",
       "      <th>19</th>\n",
       "      <td>Pennsylvania</td>\n",
       "      <td>2019</td>\n",
       "    </tr>\n",
       "    <tr>\n",
       "      <th>20</th>\n",
       "      <td>Utah</td>\n",
       "      <td>2019</td>\n",
       "    </tr>\n",
       "    <tr>\n",
       "      <th>21</th>\n",
       "      <td>Vermont</td>\n",
       "      <td>2019</td>\n",
       "    </tr>\n",
       "    <tr>\n",
       "      <th>22</th>\n",
       "      <td>Virginia</td>\n",
       "      <td>2019</td>\n",
       "    </tr>\n",
       "    <tr>\n",
       "      <th>23</th>\n",
       "      <td>Washington</td>\n",
       "      <td>2019</td>\n",
       "    </tr>\n",
       "    <tr>\n",
       "      <th>24</th>\n",
       "      <td>West Virginia</td>\n",
       "      <td>2019</td>\n",
       "    </tr>\n",
       "  </tbody>\n",
       "</table>\n",
       "</div>"
      ],
      "text/plain": [
       "                   state  year_max\n",
       "0                Arizona      2019\n",
       "1               Arkansas      2019\n",
       "2               Colorado      2019\n",
       "3            Connecticut      2019\n",
       "4   District of Columbia      2019\n",
       "5                  Idaho      2019\n",
       "6                 Kansas      2019\n",
       "7               Kentucky      2019\n",
       "8          Massachusetts      2019\n",
       "9               Michigan      2019\n",
       "10             Minnesota      2019\n",
       "11              Missouri      2019\n",
       "12              Nebraska      2019\n",
       "13         New Hampshire      2019\n",
       "14            New Jersey      2019\n",
       "15            New Mexico      2019\n",
       "16          North Dakota      2019\n",
       "17                  Ohio      2019\n",
       "18                Oregon      2019\n",
       "19          Pennsylvania      2019\n",
       "20                  Utah      2019\n",
       "21               Vermont      2019\n",
       "22              Virginia      2019\n",
       "23            Washington      2019\n",
       "24         West Virginia      2019"
      ]
     },
     "execution_count": 7,
     "metadata": {},
     "output_type": "execute_result"
    }
   ],
   "source": [
    "states_latest_year = (\n",
    "    counts\n",
    "    .loc[lambda df: df[\"for_total\"] == \"Y\"]\n",
    "    .loc[lambda df: df[\"age_group\"] == \"Adults ONLY\"]\n",
    "    .loc[lambda df: df[\"year\"] < 2020]\n",
    "    .groupby([\"state\"])\n",
    "    [\"year\"].max()\n",
    "    .to_frame(\"year_max\")\n",
    "    .reset_index()\n",
    ")\n",
    "\n",
    "states_latest_year"
   ]
  },
  {
   "cell_type": "code",
   "execution_count": 8,
   "id": "8d99c09c",
   "metadata": {
    "execution": {
     "iopub.execute_input": "2021-09-30T15:00:47.395146Z",
     "iopub.status.busy": "2021-09-30T15:00:47.393889Z",
     "iopub.status.idle": "2021-09-30T15:00:47.457378Z",
     "shell.execute_reply": "2021-09-30T15:00:47.461125Z"
    }
   },
   "outputs": [
    {
     "data": {
      "text/plain": [
       "2019    25\n",
       "Name: year_max, dtype: int64"
      ]
     },
     "execution_count": 8,
     "metadata": {},
     "output_type": "execute_result"
    }
   ],
   "source": [
    "states_latest_year[\"year_max\"].value_counts()"
   ]
  },
  {
   "cell_type": "markdown",
   "id": "4409a3eb",
   "metadata": {},
   "source": [
    "Using the table above, we select *just* the counts belonging to each jurisdiction's most recent year:"
   ]
  },
  {
   "cell_type": "code",
   "execution_count": 9,
   "id": "393aa91e",
   "metadata": {
    "execution": {
     "iopub.execute_input": "2021-09-30T15:00:47.483009Z",
     "iopub.status.busy": "2021-09-30T15:00:47.475409Z",
     "iopub.status.idle": "2021-09-30T15:00:47.532879Z",
     "shell.execute_reply": "2021-09-30T15:00:47.536037Z"
    }
   },
   "outputs": [
    {
     "data": {
      "text/html": [
       "<div>\n",
       "<style scoped>\n",
       "    .dataframe tbody tr th:only-of-type {\n",
       "        vertical-align: middle;\n",
       "    }\n",
       "\n",
       "    .dataframe tbody tr th {\n",
       "        vertical-align: top;\n",
       "    }\n",
       "\n",
       "    .dataframe thead th {\n",
       "        text-align: right;\n",
       "    }\n",
       "</style>\n",
       "<table border=\"1\" class=\"dataframe\">\n",
       "  <thead>\n",
       "    <tr style=\"text-align: right;\">\n",
       "      <th></th>\n",
       "      <th>state</th>\n",
       "      <th>year</th>\n",
       "      <th>case_action</th>\n",
       "      <th>case_type</th>\n",
       "      <th>age_group</th>\n",
       "      <th>count</th>\n",
       "      <th>for_total</th>\n",
       "    </tr>\n",
       "  </thead>\n",
       "  <tbody>\n",
       "    <tr>\n",
       "      <th>8</th>\n",
       "      <td>Arizona</td>\n",
       "      <td>2019</td>\n",
       "      <td>Ambiguous</td>\n",
       "      <td>Guardianship ONLY</td>\n",
       "      <td>Adults ONLY</td>\n",
       "      <td>2383</td>\n",
       "      <td>Y</td>\n",
       "    </tr>\n",
       "    <tr>\n",
       "      <th>9</th>\n",
       "      <td>Arizona</td>\n",
       "      <td>2019</td>\n",
       "      <td>Ambiguous</td>\n",
       "      <td>Guardianship ONLY</td>\n",
       "      <td>Minors ONLY</td>\n",
       "      <td>3608</td>\n",
       "      <td>N</td>\n",
       "    </tr>\n",
       "    <tr>\n",
       "      <th>10</th>\n",
       "      <td>Arizona</td>\n",
       "      <td>2019</td>\n",
       "      <td>Ambiguous</td>\n",
       "      <td>Conservatorship ONLY</td>\n",
       "      <td>Adults ONLY</td>\n",
       "      <td>4003</td>\n",
       "      <td>N</td>\n",
       "    </tr>\n",
       "    <tr>\n",
       "      <th>11</th>\n",
       "      <td>Arizona</td>\n",
       "      <td>2019</td>\n",
       "      <td>Ambiguous</td>\n",
       "      <td>Conservatorship ONLY</td>\n",
       "      <td>Minors ONLY</td>\n",
       "      <td>1334</td>\n",
       "      <td>N</td>\n",
       "    </tr>\n",
       "    <tr>\n",
       "      <th>19</th>\n",
       "      <td>Arkansas</td>\n",
       "      <td>2019</td>\n",
       "      <td>Ambiguous</td>\n",
       "      <td>G+C+Joint</td>\n",
       "      <td>Adults ONLY</td>\n",
       "      <td>1164</td>\n",
       "      <td>Y</td>\n",
       "    </tr>\n",
       "  </tbody>\n",
       "</table>\n",
       "</div>"
      ],
      "text/plain": [
       "       state  year case_action             case_type    age_group  count  \\\n",
       "8    Arizona  2019   Ambiguous     Guardianship ONLY  Adults ONLY   2383   \n",
       "9    Arizona  2019   Ambiguous     Guardianship ONLY  Minors ONLY   3608   \n",
       "10   Arizona  2019   Ambiguous  Conservatorship ONLY  Adults ONLY   4003   \n",
       "11   Arizona  2019   Ambiguous  Conservatorship ONLY  Minors ONLY   1334   \n",
       "19  Arkansas  2019   Ambiguous             G+C+Joint  Adults ONLY   1164   \n",
       "\n",
       "   for_total  \n",
       "8          Y  \n",
       "9          N  \n",
       "10         N  \n",
       "11         N  \n",
       "19         Y  "
      ]
     },
     "execution_count": 9,
     "metadata": {},
     "output_type": "execute_result"
    }
   ],
   "source": [
    "latest = (\n",
    "    counts\n",
    "    .pipe(lambda df: (\n",
    "        df\n",
    "        .merge(\n",
    "            states_latest_year,\n",
    "            how = \"left\",\n",
    "            on = \"state\",\n",
    "        )\n",
    "    ))\n",
    "    .loc[lambda df: df[\"year\"] == df[\"year_max\"]]\n",
    "    .drop(columns = [\"year_max\"])\n",
    ")\n",
    "\n",
    "latest.head()"
   ]
  },
  {
   "cell_type": "code",
   "execution_count": 10,
   "id": "e59bd4c5",
   "metadata": {
    "execution": {
     "iopub.execute_input": "2021-09-30T15:00:47.554666Z",
     "iopub.status.busy": "2021-09-30T15:00:47.553103Z",
     "iopub.status.idle": "2021-09-30T15:00:47.723140Z",
     "shell.execute_reply": "2021-09-30T15:00:47.725270Z"
    }
   },
   "outputs": [],
   "source": [
    "latest.to_csv(\"../data/processed/latest-counts.csv\", index=False)"
   ]
  },
  {
   "cell_type": "markdown",
   "id": "3df68181",
   "metadata": {},
   "source": [
    "# Load population data"
   ]
  },
  {
   "cell_type": "markdown",
   "id": "815f079c",
   "metadata": {},
   "source": [
    "In order to get per-capita rates, we'll need popuation data. Here we use the [Census Population Estimates Program's estimates for 2019](https://www2.census.gov/programs-surveys/popest/tables/2010-2019/state/detail/SCPRC-EST2019-18+POP-RES.xlsx), overall and for age 18+:"
   ]
  },
  {
   "cell_type": "code",
   "execution_count": 11,
   "id": "36523615",
   "metadata": {
    "execution": {
     "iopub.execute_input": "2021-09-30T15:00:47.740396Z",
     "iopub.status.busy": "2021-09-30T15:00:47.738305Z",
     "iopub.status.idle": "2021-09-30T15:00:49.297087Z",
     "shell.execute_reply": "2021-09-30T15:00:49.298205Z"
    }
   },
   "outputs": [
    {
     "data": {
      "text/html": [
       "<div>\n",
       "<style scoped>\n",
       "    .dataframe tbody tr th:only-of-type {\n",
       "        vertical-align: middle;\n",
       "    }\n",
       "\n",
       "    .dataframe tbody tr th {\n",
       "        vertical-align: top;\n",
       "    }\n",
       "\n",
       "    .dataframe thead th {\n",
       "        text-align: right;\n",
       "    }\n",
       "</style>\n",
       "<table border=\"1\" class=\"dataframe\">\n",
       "  <thead>\n",
       "    <tr style=\"text-align: right;\">\n",
       "      <th></th>\n",
       "      <th>state</th>\n",
       "      <th>pop_total</th>\n",
       "      <th>pop_adult</th>\n",
       "    </tr>\n",
       "  </thead>\n",
       "  <tbody>\n",
       "    <tr>\n",
       "      <th>0</th>\n",
       "      <td>Alabama</td>\n",
       "      <td>4903185</td>\n",
       "      <td>3814879</td>\n",
       "    </tr>\n",
       "    <tr>\n",
       "      <th>1</th>\n",
       "      <td>Alaska</td>\n",
       "      <td>731545</td>\n",
       "      <td>551562</td>\n",
       "    </tr>\n",
       "    <tr>\n",
       "      <th>2</th>\n",
       "      <td>Arizona</td>\n",
       "      <td>7278717</td>\n",
       "      <td>5638481</td>\n",
       "    </tr>\n",
       "    <tr>\n",
       "      <th>3</th>\n",
       "      <td>Arkansas</td>\n",
       "      <td>3017804</td>\n",
       "      <td>2317649</td>\n",
       "    </tr>\n",
       "    <tr>\n",
       "      <th>4</th>\n",
       "      <td>California</td>\n",
       "      <td>39512223</td>\n",
       "      <td>30617582</td>\n",
       "    </tr>\n",
       "    <tr>\n",
       "      <th>5</th>\n",
       "      <td>Colorado</td>\n",
       "      <td>5758736</td>\n",
       "      <td>4499217</td>\n",
       "    </tr>\n",
       "    <tr>\n",
       "      <th>6</th>\n",
       "      <td>Connecticut</td>\n",
       "      <td>3565287</td>\n",
       "      <td>2837847</td>\n",
       "    </tr>\n",
       "    <tr>\n",
       "      <th>7</th>\n",
       "      <td>Delaware</td>\n",
       "      <td>973764</td>\n",
       "      <td>770192</td>\n",
       "    </tr>\n",
       "    <tr>\n",
       "      <th>8</th>\n",
       "      <td>District of Columbia</td>\n",
       "      <td>705749</td>\n",
       "      <td>577581</td>\n",
       "    </tr>\n",
       "    <tr>\n",
       "      <th>9</th>\n",
       "      <td>Florida</td>\n",
       "      <td>21477737</td>\n",
       "      <td>17247808</td>\n",
       "    </tr>\n",
       "  </tbody>\n",
       "</table>\n",
       "</div>"
      ],
      "text/plain": [
       "                  state  pop_total  pop_adult\n",
       "0               Alabama    4903185    3814879\n",
       "1                Alaska     731545     551562\n",
       "2               Arizona    7278717    5638481\n",
       "3              Arkansas    3017804    2317649\n",
       "4            California   39512223   30617582\n",
       "5              Colorado    5758736    4499217\n",
       "6           Connecticut    3565287    2837847\n",
       "7              Delaware     973764     770192\n",
       "8  District of Columbia     705749     577581\n",
       "9               Florida   21477737   17247808"
      ]
     },
     "execution_count": 11,
     "metadata": {},
     "output_type": "execute_result"
    }
   ],
   "source": [
    "populations = (\n",
    "    pd.read_excel(\n",
    "        \"../data/raw/census-populations-2019.xlsx\",\n",
    "        header=None,\n",
    "        skiprows=9,\n",
    "        skipfooter=7,\n",
    "        names = [ \"state\", \"pop_total\", \"pop_adult\", \"pct\" ],\n",
    "        dtype = {\n",
    "            \"pop_total\": int,\n",
    "            \"pop_adult\": int,\n",
    "        }\n",
    "    )\n",
    "    .drop(columns = [ \"pct\" ])\n",
    "    .assign(\n",
    "        state = lambda df: df[\"state\"].str.replace(r\"^\\.\", \"\", regex=True),\n",
    "    )\n",
    ")\n",
    "\n",
    "populations.head(10)"
   ]
  },
  {
   "cell_type": "code",
   "execution_count": 12,
   "id": "77bfd124",
   "metadata": {
    "execution": {
     "iopub.execute_input": "2021-09-30T15:00:49.303725Z",
     "iopub.status.busy": "2021-09-30T15:00:49.302878Z",
     "iopub.status.idle": "2021-09-30T15:00:49.311397Z",
     "shell.execute_reply": "2021-09-30T15:00:49.312898Z"
    }
   },
   "outputs": [
    {
     "data": {
      "text/plain": [
       "51"
      ]
     },
     "execution_count": 12,
     "metadata": {},
     "output_type": "execute_result"
    }
   ],
   "source": [
    "len(populations)"
   ]
  },
  {
   "cell_type": "code",
   "execution_count": 13,
   "id": "ba4c8e0d",
   "metadata": {
    "execution": {
     "iopub.execute_input": "2021-09-30T15:00:49.331841Z",
     "iopub.status.busy": "2021-09-30T15:00:49.322995Z",
     "iopub.status.idle": "2021-09-30T15:00:49.334204Z",
     "shell.execute_reply": "2021-09-30T15:00:49.335072Z"
    }
   },
   "outputs": [],
   "source": [
    "# Check that our state names match the Census's\n",
    "assert len(set(counts[\"state\"]) - set(populations[\"state\"])) == 0"
   ]
  },
  {
   "cell_type": "markdown",
   "id": "77e074b6",
   "metadata": {},
   "source": [
    "# Total the total-able data, and calculate per capita rates\n",
    "\n",
    "We merge the adult populations with the case count data and, for each jurisdiction and year, sum all `count`s where `for_total` is `\"Y\"` and `age_group` is `Adults ONLY`. Then we calculate the rate of filings per 100,000 adult residents."
   ]
  },
  {
   "cell_type": "code",
   "execution_count": 14,
   "id": "b1c80475",
   "metadata": {
    "execution": {
     "iopub.execute_input": "2021-09-30T15:00:49.342855Z",
     "iopub.status.busy": "2021-09-30T15:00:49.341619Z",
     "iopub.status.idle": "2021-09-30T15:00:49.348224Z",
     "shell.execute_reply": "2021-09-30T15:00:49.348893Z"
    }
   },
   "outputs": [],
   "source": [
    "def get_totals_and_rates(subset):\n",
    "    return (\n",
    "        subset\n",
    "        .groupby([\"state\", \"year\"])\n",
    "        [\"count\"]\n",
    "        .sum()\n",
    "        .to_frame(\"total\")\n",
    "        .reset_index()\n",
    "        .merge(\n",
    "            populations\n",
    "            [[\n",
    "                \"state\",\n",
    "                \"pop_adult\",\n",
    "            ]],\n",
    "            how = \"left\",\n",
    "            on = \"state\"\n",
    "        )\n",
    "        .assign(\n",
    "            per_100k = lambda df: df[\"total\"] / (df[\"pop_adult\"] / 1e5)\n",
    "        )\n",
    "    )"
   ]
  },
  {
   "cell_type": "code",
   "execution_count": 15,
   "id": "144b5f4c",
   "metadata": {
    "execution": {
     "iopub.execute_input": "2021-09-30T15:00:49.364248Z",
     "iopub.status.busy": "2021-09-30T15:00:49.362196Z",
     "iopub.status.idle": "2021-09-30T15:00:49.386193Z",
     "shell.execute_reply": "2021-09-30T15:00:49.386645Z"
    }
   },
   "outputs": [
    {
     "data": {
      "text/html": [
       "<div>\n",
       "<style scoped>\n",
       "    .dataframe tbody tr th:only-of-type {\n",
       "        vertical-align: middle;\n",
       "    }\n",
       "\n",
       "    .dataframe tbody tr th {\n",
       "        vertical-align: top;\n",
       "    }\n",
       "\n",
       "    .dataframe thead th {\n",
       "        text-align: right;\n",
       "    }\n",
       "</style>\n",
       "<table border=\"1\" class=\"dataframe\">\n",
       "  <thead>\n",
       "    <tr style=\"text-align: right;\">\n",
       "      <th></th>\n",
       "      <th>state</th>\n",
       "      <th>year</th>\n",
       "      <th>total</th>\n",
       "      <th>pop_adult</th>\n",
       "      <th>per_100k</th>\n",
       "    </tr>\n",
       "  </thead>\n",
       "  <tbody>\n",
       "    <tr>\n",
       "      <th>3</th>\n",
       "      <td>Connecticut</td>\n",
       "      <td>2019</td>\n",
       "      <td>4700</td>\n",
       "      <td>2837847</td>\n",
       "      <td>165.618513</td>\n",
       "    </tr>\n",
       "    <tr>\n",
       "      <th>9</th>\n",
       "      <td>Michigan</td>\n",
       "      <td>2019</td>\n",
       "      <td>12655</td>\n",
       "      <td>7842924</td>\n",
       "      <td>161.355637</td>\n",
       "    </tr>\n",
       "    <tr>\n",
       "      <th>12</th>\n",
       "      <td>Nebraska</td>\n",
       "      <td>2019</td>\n",
       "      <td>2109</td>\n",
       "      <td>1458334</td>\n",
       "      <td>144.617077</td>\n",
       "    </tr>\n",
       "    <tr>\n",
       "      <th>21</th>\n",
       "      <td>Vermont</td>\n",
       "      <td>2019</td>\n",
       "      <td>512</td>\n",
       "      <td>509984</td>\n",
       "      <td>100.395307</td>\n",
       "    </tr>\n",
       "    <tr>\n",
       "      <th>4</th>\n",
       "      <td>District of Columbia</td>\n",
       "      <td>2019</td>\n",
       "      <td>575</td>\n",
       "      <td>577581</td>\n",
       "      <td>99.553136</td>\n",
       "    </tr>\n",
       "    <tr>\n",
       "      <th>13</th>\n",
       "      <td>New Hampshire</td>\n",
       "      <td>2019</td>\n",
       "      <td>945</td>\n",
       "      <td>1104458</td>\n",
       "      <td>85.562330</td>\n",
       "    </tr>\n",
       "    <tr>\n",
       "      <th>17</th>\n",
       "      <td>Ohio</td>\n",
       "      <td>2019</td>\n",
       "      <td>6991</td>\n",
       "      <td>9111081</td>\n",
       "      <td>76.730741</td>\n",
       "    </tr>\n",
       "    <tr>\n",
       "      <th>8</th>\n",
       "      <td>Massachusetts</td>\n",
       "      <td>2019</td>\n",
       "      <td>4059</td>\n",
       "      <td>5539703</td>\n",
       "      <td>73.271076</td>\n",
       "    </tr>\n",
       "    <tr>\n",
       "      <th>24</th>\n",
       "      <td>West Virginia</td>\n",
       "      <td>2019</td>\n",
       "      <td>894</td>\n",
       "      <td>1432580</td>\n",
       "      <td>62.404892</td>\n",
       "    </tr>\n",
       "    <tr>\n",
       "      <th>11</th>\n",
       "      <td>Missouri</td>\n",
       "      <td>2019</td>\n",
       "      <td>2922</td>\n",
       "      <td>4766843</td>\n",
       "      <td>61.298432</td>\n",
       "    </tr>\n",
       "    <tr>\n",
       "      <th>10</th>\n",
       "      <td>Minnesota</td>\n",
       "      <td>2019</td>\n",
       "      <td>2658</td>\n",
       "      <td>4336475</td>\n",
       "      <td>61.294023</td>\n",
       "    </tr>\n",
       "    <tr>\n",
       "      <th>16</th>\n",
       "      <td>North Dakota</td>\n",
       "      <td>2019</td>\n",
       "      <td>314</td>\n",
       "      <td>581891</td>\n",
       "      <td>53.961996</td>\n",
       "    </tr>\n",
       "    <tr>\n",
       "      <th>6</th>\n",
       "      <td>Kansas</td>\n",
       "      <td>2019</td>\n",
       "      <td>1142</td>\n",
       "      <td>2213064</td>\n",
       "      <td>51.602665</td>\n",
       "    </tr>\n",
       "    <tr>\n",
       "      <th>1</th>\n",
       "      <td>Arkansas</td>\n",
       "      <td>2019</td>\n",
       "      <td>1164</td>\n",
       "      <td>2317649</td>\n",
       "      <td>50.223308</td>\n",
       "    </tr>\n",
       "    <tr>\n",
       "      <th>23</th>\n",
       "      <td>Washington</td>\n",
       "      <td>2019</td>\n",
       "      <td>2987</td>\n",
       "      <td>5951832</td>\n",
       "      <td>50.186228</td>\n",
       "    </tr>\n",
       "    <tr>\n",
       "      <th>5</th>\n",
       "      <td>Idaho</td>\n",
       "      <td>2019</td>\n",
       "      <td>594</td>\n",
       "      <td>1338864</td>\n",
       "      <td>44.365970</td>\n",
       "    </tr>\n",
       "    <tr>\n",
       "      <th>14</th>\n",
       "      <td>New Jersey</td>\n",
       "      <td>2019</td>\n",
       "      <td>3039</td>\n",
       "      <td>6943612</td>\n",
       "      <td>43.766846</td>\n",
       "    </tr>\n",
       "    <tr>\n",
       "      <th>7</th>\n",
       "      <td>Kentucky</td>\n",
       "      <td>2019</td>\n",
       "      <td>1493</td>\n",
       "      <td>3464802</td>\n",
       "      <td>43.090485</td>\n",
       "    </tr>\n",
       "    <tr>\n",
       "      <th>15</th>\n",
       "      <td>New Mexico</td>\n",
       "      <td>2019</td>\n",
       "      <td>696</td>\n",
       "      <td>1620991</td>\n",
       "      <td>42.936697</td>\n",
       "    </tr>\n",
       "    <tr>\n",
       "      <th>0</th>\n",
       "      <td>Arizona</td>\n",
       "      <td>2019</td>\n",
       "      <td>2383</td>\n",
       "      <td>5638481</td>\n",
       "      <td>42.263156</td>\n",
       "    </tr>\n",
       "    <tr>\n",
       "      <th>18</th>\n",
       "      <td>Oregon</td>\n",
       "      <td>2019</td>\n",
       "      <td>1355</td>\n",
       "      <td>3351175</td>\n",
       "      <td>40.433579</td>\n",
       "    </tr>\n",
       "    <tr>\n",
       "      <th>22</th>\n",
       "      <td>Virginia</td>\n",
       "      <td>2019</td>\n",
       "      <td>2518</td>\n",
       "      <td>6674671</td>\n",
       "      <td>37.724706</td>\n",
       "    </tr>\n",
       "    <tr>\n",
       "      <th>20</th>\n",
       "      <td>Utah</td>\n",
       "      <td>2019</td>\n",
       "      <td>823</td>\n",
       "      <td>2274774</td>\n",
       "      <td>36.179418</td>\n",
       "    </tr>\n",
       "    <tr>\n",
       "      <th>19</th>\n",
       "      <td>Pennsylvania</td>\n",
       "      <td>2019</td>\n",
       "      <td>3304</td>\n",
       "      <td>10167376</td>\n",
       "      <td>32.496093</td>\n",
       "    </tr>\n",
       "    <tr>\n",
       "      <th>2</th>\n",
       "      <td>Colorado</td>\n",
       "      <td>2019</td>\n",
       "      <td>1417</td>\n",
       "      <td>4499217</td>\n",
       "      <td>31.494369</td>\n",
       "    </tr>\n",
       "  </tbody>\n",
       "</table>\n",
       "</div>"
      ],
      "text/plain": [
       "                   state  year  total  pop_adult    per_100k\n",
       "3            Connecticut  2019   4700    2837847  165.618513\n",
       "9               Michigan  2019  12655    7842924  161.355637\n",
       "12              Nebraska  2019   2109    1458334  144.617077\n",
       "21               Vermont  2019    512     509984  100.395307\n",
       "4   District of Columbia  2019    575     577581   99.553136\n",
       "13         New Hampshire  2019    945    1104458   85.562330\n",
       "17                  Ohio  2019   6991    9111081   76.730741\n",
       "8          Massachusetts  2019   4059    5539703   73.271076\n",
       "24         West Virginia  2019    894    1432580   62.404892\n",
       "11              Missouri  2019   2922    4766843   61.298432\n",
       "10             Minnesota  2019   2658    4336475   61.294023\n",
       "16          North Dakota  2019    314     581891   53.961996\n",
       "6                 Kansas  2019   1142    2213064   51.602665\n",
       "1               Arkansas  2019   1164    2317649   50.223308\n",
       "23            Washington  2019   2987    5951832   50.186228\n",
       "5                  Idaho  2019    594    1338864   44.365970\n",
       "14            New Jersey  2019   3039    6943612   43.766846\n",
       "7               Kentucky  2019   1493    3464802   43.090485\n",
       "15            New Mexico  2019    696    1620991   42.936697\n",
       "0                Arizona  2019   2383    5638481   42.263156\n",
       "18                Oregon  2019   1355    3351175   40.433579\n",
       "22              Virginia  2019   2518    6674671   37.724706\n",
       "20                  Utah  2019    823    2274774   36.179418\n",
       "19          Pennsylvania  2019   3304   10167376   32.496093\n",
       "2               Colorado  2019   1417    4499217   31.494369"
      ]
     },
     "execution_count": 15,
     "metadata": {},
     "output_type": "execute_result"
    }
   ],
   "source": [
    "latest_totals = get_totals_and_rates(\n",
    "    latest\n",
    "    .loc[lambda df: df[\"for_total\"] == \"Y\"]\n",
    "    .loc[lambda df: df[\"age_group\"] == \"Adults ONLY\"]\n",
    ")\n",
    "\n",
    "latest_totals.sort_values(\"per_100k\", ascending=False)"
   ]
  },
  {
   "cell_type": "code",
   "execution_count": 16,
   "id": "a4145225",
   "metadata": {
    "execution": {
     "iopub.execute_input": "2021-09-30T15:00:49.401136Z",
     "iopub.status.busy": "2021-09-30T15:00:49.397798Z",
     "iopub.status.idle": "2021-09-30T15:00:49.404260Z",
     "shell.execute_reply": "2021-09-30T15:00:49.404670Z"
    }
   },
   "outputs": [
    {
     "data": {
      "text/plain": [
       "25"
      ]
     },
     "execution_count": 16,
     "metadata": {},
     "output_type": "execute_result"
    }
   ],
   "source": [
    "len(latest_totals)"
   ]
  },
  {
   "cell_type": "markdown",
   "id": "a903fcea",
   "metadata": {},
   "source": [
    "How many filings do these jurisdictions account for?:"
   ]
  },
  {
   "cell_type": "code",
   "execution_count": 17,
   "id": "08b9ded4",
   "metadata": {
    "execution": {
     "iopub.execute_input": "2021-09-30T15:00:49.410757Z",
     "iopub.status.busy": "2021-09-30T15:00:49.409865Z",
     "iopub.status.idle": "2021-09-30T15:00:49.412807Z",
     "shell.execute_reply": "2021-09-30T15:00:49.413245Z"
    }
   },
   "outputs": [
    {
     "name": "stdout",
     "output_type": "stream",
     "text": [
      "62249\n"
     ]
    }
   ],
   "source": [
    "known_total = latest_totals[\"total\"].sum()\n",
    "print(known_total)"
   ]
  },
  {
   "cell_type": "markdown",
   "id": "0154cac4",
   "metadata": {},
   "source": [
    "What proportion of the full adult population (of the 50 states and DC) do these jurisdictions account for?:"
   ]
  },
  {
   "cell_type": "code",
   "execution_count": 18,
   "id": "5add95db",
   "metadata": {
    "execution": {
     "iopub.execute_input": "2021-09-30T15:00:49.423038Z",
     "iopub.status.busy": "2021-09-30T15:00:49.419962Z",
     "iopub.status.idle": "2021-09-30T15:00:49.434968Z",
     "shell.execute_reply": "2021-09-30T15:00:49.435512Z"
    }
   },
   "outputs": [
    {
     "data": {
      "text/plain": [
       "0.378"
      ]
     },
     "execution_count": 18,
     "metadata": {},
     "output_type": "execute_result"
    }
   ],
   "source": [
    "(\n",
    "    (\n",
    "        populations\n",
    "        .loc[lambda df: df[\"state\"].isin(latest_totals[\"state\"])]\n",
    "        [\"pop_adult\"]\n",
    "        .sum() / populations[\"pop_adult\"].sum()\n",
    "    ) \n",
    "    .round(3)   \n",
    ")"
   ]
  },
  {
   "cell_type": "markdown",
   "id": "6758a3cb",
   "metadata": {},
   "source": [
    "And here we isolate the states for which we don't have usable totals:"
   ]
  },
  {
   "cell_type": "code",
   "execution_count": 19,
   "id": "e34e0726",
   "metadata": {
    "execution": {
     "iopub.execute_input": "2021-09-30T15:00:49.444395Z",
     "iopub.status.busy": "2021-09-30T15:00:49.443469Z",
     "iopub.status.idle": "2021-09-30T15:00:49.446968Z",
     "shell.execute_reply": "2021-09-30T15:00:49.447379Z"
    }
   },
   "outputs": [
    {
     "data": {
      "text/plain": [
       "26"
      ]
     },
     "execution_count": 19,
     "metadata": {},
     "output_type": "execute_result"
    }
   ],
   "source": [
    "not_counted = (\n",
    "    populations\n",
    "    .loc[~populations[\"state\"].isin(latest_totals[\"state\"])]\n",
    ")\n",
    "\n",
    "len(not_counted)"
   ]
  },
  {
   "cell_type": "markdown",
   "id": "bf67c8a4",
   "metadata": {},
   "source": [
    "# Examine the distribution of per capita filing rates\n",
    "\n",
    "To get an overview of our data, we examine some basic metrics (mean, median, range, standard deviation) of the filing rates:"
   ]
  },
  {
   "cell_type": "code",
   "execution_count": 20,
   "id": "c7d07457",
   "metadata": {
    "execution": {
     "iopub.execute_input": "2021-09-30T15:00:49.455200Z",
     "iopub.status.busy": "2021-09-30T15:00:49.451974Z",
     "iopub.status.idle": "2021-09-30T15:00:49.467617Z",
     "shell.execute_reply": "2021-09-30T15:00:49.470133Z"
    }
   },
   "outputs": [
    {
     "data": {
      "text/plain": [
       "count     25.000000\n",
       "mean      67.713067\n",
       "std       38.799605\n",
       "min       31.494369\n",
       "25%       42.936697\n",
       "50%       51.602665\n",
       "75%       76.730741\n",
       "max      165.618513\n",
       "Name: per_100k, dtype: float64"
      ]
     },
     "execution_count": 20,
     "metadata": {},
     "output_type": "execute_result"
    }
   ],
   "source": [
    "(\n",
    "    latest_totals\n",
    "    [\"per_100k\"]\n",
    "    .describe()\n",
    ")"
   ]
  },
  {
   "cell_type": "markdown",
   "id": "5dca5a45",
   "metadata": {},
   "source": [
    "... and create a histogram of the distribution:"
   ]
  },
  {
   "cell_type": "code",
   "execution_count": 21,
   "id": "d1865f30",
   "metadata": {
    "execution": {
     "iopub.execute_input": "2021-09-30T15:00:49.482506Z",
     "iopub.status.busy": "2021-09-30T15:00:49.481319Z",
     "iopub.status.idle": "2021-09-30T15:00:49.484008Z",
     "shell.execute_reply": "2021-09-30T15:00:49.484429Z"
    }
   },
   "outputs": [],
   "source": [
    "bin_width = 40\n",
    "bin_max = 250\n",
    "bin_count = int(bin_max / bin_width)\n",
    "bins = np.arange(0, bin_max, bin_width)"
   ]
  },
  {
   "cell_type": "code",
   "execution_count": 22,
   "id": "b87a1e34",
   "metadata": {
    "execution": {
     "iopub.execute_input": "2021-09-30T15:00:49.490237Z",
     "iopub.status.busy": "2021-09-30T15:00:49.488984Z",
     "iopub.status.idle": "2021-09-30T15:00:49.834066Z",
     "shell.execute_reply": "2021-09-30T15:00:49.834478Z"
    }
   },
   "outputs": [
    {
     "data": {
      "image/png": "[encoded data removed]",
      "text/plain": [
       "<Figure size 432x288 with 1 Axes>"
      ]
     },
     "metadata": {},
     "output_type": "display_data"
    }
   ],
   "source": [
    "ax = (\n",
    "    latest_totals\n",
    "    [\"per_100k\"]\n",
    "    .hist(bins=bins)\n",
    ")\n",
    "plt.xticks(bins)\n",
    "ax.set_xlabel(\"Cases per 100k Adults\")\n",
    "ax.set_ylabel(\"# States\")\n",
    "pass"
   ]
  },
  {
   "cell_type": "markdown",
   "id": "f4f65502",
   "metadata": {},
   "source": [
    "# Generating simple national estimates\n",
    "\n",
    "A simple approach to estimating the number of cases filed nationally in 2019 would be to multiply the *overall* filing rate per capita in the jurisdictions for which we have totals and to multiply it by the total adult population in all 50 states and DC (shortened below to the \"total US adult population,\" although please note that this number excludes US territories):"
   ]
  },
  {
   "cell_type": "code",
   "execution_count": 23,
   "id": "9ddb85b7",
   "metadata": {
    "execution": {
     "iopub.execute_input": "2021-09-30T15:00:49.844764Z",
     "iopub.status.busy": "2021-09-30T15:00:49.843368Z",
     "iopub.status.idle": "2021-09-30T15:00:49.847613Z",
     "shell.execute_reply": "2021-09-30T15:00:49.848826Z"
    }
   },
   "outputs": [
    {
     "data": {
      "text/plain": [
       "164526"
      ]
     },
     "execution_count": 23,
     "metadata": {},
     "output_type": "execute_result"
    }
   ],
   "source": [
    "round(\n",
    "    (latest_totals[\"total\"].sum() / latest_totals[\"pop_adult\"].sum()) * \n",
    "    populations[\"pop_adult\"].sum() \n",
    ")"
   ]
  },
  {
   "cell_type": "markdown",
   "id": "62a72018",
   "metadata": {},
   "source": [
    "Alternatively, but in the same vein, we could apply the *average state filing rate* to the total US adult population — an approach that mirrors [the methodology applied](https://www.eldersandcourts.org/__data/assets/pdf_file/0021/5844/ovc-brief-7.pdf) (see p. 4) by the National Center for State Courts to a survey of 2015 adult guardianship/conservatorship filings in 16 states, which resulted in a nearly identical figure (\"an estimated 180,000,\" [elsewhere summarized](http://web.archive.org/web/20170906012840/https://www.ncsc.org/Newsroom/Backgrounder/2016/Guardianship.aspx) as \"176,000\"):"
   ]
  },
  {
   "cell_type": "code",
   "execution_count": 24,
   "id": "ed072a68",
   "metadata": {
    "execution": {
     "iopub.execute_input": "2021-09-30T15:00:49.855866Z",
     "iopub.status.busy": "2021-09-30T15:00:49.853631Z",
     "iopub.status.idle": "2021-09-30T15:00:49.861723Z",
     "shell.execute_reply": "2021-09-30T15:00:49.862412Z"
    }
   },
   "outputs": [
    {
     "data": {
      "text/plain": [
       "172804"
      ]
     },
     "execution_count": 24,
     "metadata": {},
     "output_type": "execute_result"
    }
   ],
   "source": [
    "round(\n",
    "    (latest_totals[\"per_100k\"].mean() * populations[\"pop_adult\"].sum() / 1e5))"
   ]
  },
  {
   "cell_type": "markdown",
   "id": "051604ef",
   "metadata": {},
   "source": [
    "... or apply that average rate *only to the remaining states*, which reduces the estimate slightly:"
   ]
  },
  {
   "cell_type": "code",
   "execution_count": 25,
   "id": "4af79bd2",
   "metadata": {
    "execution": {
     "iopub.execute_input": "2021-09-30T15:00:49.869160Z",
     "iopub.status.busy": "2021-09-30T15:00:49.868454Z",
     "iopub.status.idle": "2021-09-30T15:00:49.873923Z",
     "shell.execute_reply": "2021-09-30T15:00:49.874959Z"
    }
   },
   "outputs": [
    {
     "data": {
      "text/plain": [
       "169672"
      ]
     },
     "execution_count": 25,
     "metadata": {},
     "output_type": "execute_result"
    }
   ],
   "source": [
    "round(\n",
    "    (latest_totals[\"per_100k\"].mean() * not_counted[\"pop_adult\"].sum() / 1e5)\n",
    "    + known_total\n",
    ")"
   ]
  },
  {
   "cell_type": "markdown",
   "id": "81314c66",
   "metadata": {},
   "source": [
    "These approaches may provide useful ballpark estimates but they also have some key disadvantages — mainly that they produce only single-number estimates, with no sense of how widely the range of actual possibilities may be.\n",
    "\n",
    "The first approach also gives more weight to the larger states we have observed, because they account for more of the population in the sample."
   ]
  },
  {
   "cell_type": "markdown",
   "id": "812ceceb",
   "metadata": {},
   "source": [
    "# Bootstrapping a national estimate\n",
    "\n",
    "Another approach we can take, to incorporate the uncertainty involved in the extrapolations, is to \"bootstrap\" a distribution of estimates for the remaining states. This method hypothetically assigns each of those states to one of the per capita filing rates we have observed (selected at random), calculates what the total would be for each of those state-rate combinations, and then sums up the total. Finally, we add each hypothetical's total for the those states to our known total."
   ]
  },
  {
   "cell_type": "code",
   "execution_count": 26,
   "id": "7c5215c0",
   "metadata": {
    "execution": {
     "iopub.execute_input": "2021-09-30T15:00:49.884225Z",
     "iopub.status.busy": "2021-09-30T15:00:49.883510Z",
     "iopub.status.idle": "2021-09-30T15:00:49.885466Z",
     "shell.execute_reply": "2021-09-30T15:00:49.885893Z"
    }
   },
   "outputs": [],
   "source": [
    "def gen_random_items(pool, n):\n",
    "    return [ random.choice(list(pool)) for _ in range(n) ]\n",
    "\n",
    "def gen_random_estimate(populations, rates):\n",
    "    rand_rates = gen_random_items(rates, len(populations))\n",
    "    return (populations * rand_rates).sum()\n",
    "\n",
    "def bootstrap(populations, rates, n=1e4):\n",
    "    return pd.Series(gen_random_estimate(populations, rates) for _ in range(int(n)))\n",
    "\n",
    "def describe(series):\n",
    "    return (\n",
    "        series\n",
    "        .describe(percentiles=[0.025, 0.25, 0.5, 0.75, 0.975])\n",
    "        .astype(int)\n",
    "    )\n",
    "\n",
    "def hist(series):\n",
    "    return (\n",
    "        series\n",
    "        .hist(\n",
    "            bins=np.arange(1e5, 3.1e5, int(1e4)),\n",
    "            alpha=0.5\n",
    "        )\n",
    "    )"
   ]
  },
  {
   "cell_type": "markdown",
   "id": "925b0278",
   "metadata": {},
   "source": [
    "Basic statistics about the resulting range of estimates:"
   ]
  },
  {
   "cell_type": "code",
   "execution_count": 27,
   "id": "28c8bb63",
   "metadata": {
    "execution": {
     "iopub.execute_input": "2021-09-30T15:00:50.034040Z",
     "iopub.status.busy": "2021-09-30T15:00:49.991352Z",
     "iopub.status.idle": "2021-09-30T15:00:55.370158Z",
     "shell.execute_reply": "2021-09-30T15:00:55.371018Z"
    }
   },
   "outputs": [
    {
     "data": {
      "text/plain": [
       "count     10000\n",
       "mean     169894\n",
       "std       18192\n",
       "min      130881\n",
       "2.5%     141745\n",
       "25%      156176\n",
       "50%      167242\n",
       "75%      181235\n",
       "97.5%    211340\n",
       "max      255332\n",
       "dtype: int64"
      ]
     },
     "execution_count": 27,
     "metadata": {},
     "output_type": "execute_result"
    }
   ],
   "source": [
    "bootstrapped_not_counted = bootstrap(\n",
    "    not_counted[\"pop_adult\"] / 1e5,\n",
    "    latest_totals[\"per_100k\"],\n",
    "    n = 1e4\n",
    ")\n",
    "\n",
    "describe(bootstrapped_not_counted + known_total)"
   ]
  },
  {
   "cell_type": "markdown",
   "id": "362ebe94",
   "metadata": {},
   "source": [
    "... and a histogram of of them:"
   ]
  },
  {
   "cell_type": "code",
   "execution_count": 28,
   "id": "44ac5c00",
   "metadata": {
    "execution": {
     "iopub.execute_input": "2021-09-30T15:00:55.377839Z",
     "iopub.status.busy": "2021-09-30T15:00:55.377117Z",
     "iopub.status.idle": "2021-09-30T15:00:55.628935Z",
     "shell.execute_reply": "2021-09-30T15:00:55.629422Z"
    }
   },
   "outputs": [
    {
     "data": {
      "image/png": "[encoded data removed]",
      "text/plain": [
       "<Figure size 432x288 with 1 Axes>"
      ]
     },
     "metadata": {},
     "output_type": "display_data"
    }
   ],
   "source": [
    "hist(bootstrapped_not_counted + known_total);"
   ]
  },
  {
   "cell_type": "markdown",
   "id": "20182653",
   "metadata": {},
   "source": [
    "# Modeling the counts through the negative binomial distribution\n",
    "\n",
    "The data collected represents a finite number of observations. If we had infinitely many states' of data, what might this distribution look like? We can \"model\" this by fitting the observed data to a statistical distribution that aligns — conceptually and empirically — with what we've seen.\n",
    "\n",
    "A reasonable candidate is the [negative binomial distribution](https://en.wikipedia.org/wiki/Negative_binomial_distribution), which statisticians often use to model count-based metrics and which in this case appears to match our observations reasonably well. Below we estimate the parameters for our negative binomial distribution, based on our *observed* per capita rates' mean and variance, and overlay it on our observed distribution in two ways:\n",
    "\n",
    "- A smooth line representing the negative binomial's [probability mass function](https://en.wikipedia.org/wiki/Probability_mass_function)\n",
    "\n",
    "- A histogram representing 10,000 hypothetical observations randomly generated from the negative binomial"
   ]
  },
  {
   "cell_type": "code",
   "execution_count": 29,
   "id": "b147876d",
   "metadata": {
    "execution": {
     "iopub.execute_input": "2021-09-30T15:00:55.636265Z",
     "iopub.status.busy": "2021-09-30T15:00:55.635483Z",
     "iopub.status.idle": "2021-09-30T15:00:55.637540Z",
     "shell.execute_reply": "2021-09-30T15:00:55.638059Z"
    }
   },
   "outputs": [],
   "source": [
    "def calculate_nbinom_np(rates):\n",
    "    mean = rates.mean()\n",
    "    variance = rates.var()\n",
    "    n = pow(mean, 2) / (variance - mean)\n",
    "    p = mean / variance\n",
    "    return n, p\n",
    "\n",
    "def nbinom_from_rates(rates):\n",
    "    return nbinom(*calculate_nbinom_np(rates))"
   ]
  },
  {
   "cell_type": "code",
   "execution_count": 30,
   "id": "8a94f12d",
   "metadata": {
    "execution": {
     "iopub.execute_input": "2021-09-30T15:00:55.648365Z",
     "iopub.status.busy": "2021-09-30T15:00:55.646671Z",
     "iopub.status.idle": "2021-09-30T15:00:55.650855Z",
     "shell.execute_reply": "2021-09-30T15:00:55.651325Z"
    }
   },
   "outputs": [],
   "source": [
    "nbinom_dist = nbinom_from_rates(latest_totals[\"per_100k\"])"
   ]
  },
  {
   "cell_type": "code",
   "execution_count": 31,
   "id": "19c9c421",
   "metadata": {
    "execution": {
     "iopub.execute_input": "2021-09-30T15:00:55.679578Z",
     "iopub.status.busy": "2021-09-30T15:00:55.675691Z",
     "iopub.status.idle": "2021-09-30T15:00:56.000246Z",
     "shell.execute_reply": "2021-09-30T15:00:56.001066Z"
    }
   },
   "outputs": [
    {
     "data": {
      "image/png": "[encoded data removed]",
      "text/plain": [
       "<Figure size 432x288 with 1 Axes>"
      ]
     },
     "metadata": {},
     "output_type": "display_data"
    }
   ],
   "source": [
    "_x = np.arange(0, bin_max)\n",
    "\n",
    "ax = (\n",
    "    latest_totals\n",
    "    [\"per_100k\"]\n",
    "    .hist(bins=bins, density=True)\n",
    ")\n",
    "plt.xticks(bins)\n",
    "ax.set_xlabel(\"Cases per 100k Adults\")\n",
    "ax.set_ylabel(\"Observation Density\")\n",
    "\n",
    "ax.hist(\n",
    "    nbinom_dist.rvs(size=10000),\n",
    "    bins=bins,\n",
    "    density=True,\n",
    "    alpha=0.5,\n",
    "    rwidth=0.25,\n",
    "    align=\"mid\",\n",
    "    edgecolor=\"orange\",\n",
    "    color=\"orange\",\n",
    ")\n",
    "\n",
    "ax.plot(_x, nbinom_dist.pmf(_x), color=\"orange\", alpha=0.5)\n",
    "pass"
   ]
  },
  {
   "cell_type": "markdown",
   "id": "2e11220e",
   "metadata": {},
   "source": [
    "The fit isn't *perfect*, and with our relatively small sample size we wouldn't expect it to be. But it appears to represent our data fairly well."
   ]
  },
  {
   "cell_type": "markdown",
   "id": "772fb9c2",
   "metadata": {},
   "source": [
    "# Using the negative binomial distribution for a Monte Carlo simulation\n",
    "\n",
    "One motivation for modeling the data with a negative binomial distribution is so that we can use it to generate a set of estimates using the \"Monte Carlo\" method — an approach similar to bootstrapping. Unlike the bootstrap method above, where we randomly select per capita filing rates from our pool of observations, we now randomly select them from our negative binomial distribution."
   ]
  },
  {
   "cell_type": "code",
   "execution_count": 32,
   "id": "524144d0",
   "metadata": {
    "execution": {
     "iopub.execute_input": "2021-09-30T15:00:56.021635Z",
     "iopub.status.busy": "2021-09-30T15:00:56.010197Z",
     "iopub.status.idle": "2021-09-30T15:00:56.033431Z",
     "shell.execute_reply": "2021-09-30T15:00:56.034673Z"
    }
   },
   "outputs": [],
   "source": [
    "def gen_random_estimate_mc(populations, dist):\n",
    "    rand_rates = dist.rvs(size=len(populations))\n",
    "    return (populations * rand_rates).sum()\n",
    "\n",
    "def monte_carlo(populations, dist, n=1e4):\n",
    "    return pd.Series(gen_random_estimate_mc(populations, dist) for _ in range(int(n)))"
   ]
  },
  {
   "cell_type": "code",
   "execution_count": 33,
   "id": "f900049f",
   "metadata": {
    "execution": {
     "iopub.execute_input": "2021-09-30T15:00:56.055610Z",
     "iopub.status.busy": "2021-09-30T15:00:56.051664Z",
     "iopub.status.idle": "2021-09-30T15:01:00.277369Z",
     "shell.execute_reply": "2021-09-30T15:01:00.284210Z"
    }
   },
   "outputs": [
    {
     "data": {
      "text/html": [
       "<div>\n",
       "<style scoped>\n",
       "    .dataframe tbody tr th:only-of-type {\n",
       "        vertical-align: middle;\n",
       "    }\n",
       "\n",
       "    .dataframe tbody tr th {\n",
       "        vertical-align: top;\n",
       "    }\n",
       "\n",
       "    .dataframe thead th {\n",
       "        text-align: right;\n",
       "    }\n",
       "</style>\n",
       "<table border=\"1\" class=\"dataframe\">\n",
       "  <thead>\n",
       "    <tr style=\"text-align: right;\">\n",
       "      <th></th>\n",
       "      <th>Bootstrap</th>\n",
       "      <th>Monte Carlo</th>\n",
       "    </tr>\n",
       "  </thead>\n",
       "  <tbody>\n",
       "    <tr>\n",
       "      <th>count</th>\n",
       "      <td>10000</td>\n",
       "      <td>10000</td>\n",
       "    </tr>\n",
       "    <tr>\n",
       "      <th>mean</th>\n",
       "      <td>169894</td>\n",
       "      <td>169664</td>\n",
       "    </tr>\n",
       "    <tr>\n",
       "      <th>std</th>\n",
       "      <td>18192</td>\n",
       "      <td>18666</td>\n",
       "    </tr>\n",
       "    <tr>\n",
       "      <th>min</th>\n",
       "      <td>130881</td>\n",
       "      <td>117724</td>\n",
       "    </tr>\n",
       "    <tr>\n",
       "      <th>2.5%</th>\n",
       "      <td>141745</td>\n",
       "      <td>137049</td>\n",
       "    </tr>\n",
       "    <tr>\n",
       "      <th>25%</th>\n",
       "      <td>156176</td>\n",
       "      <td>156575</td>\n",
       "    </tr>\n",
       "    <tr>\n",
       "      <th>50%</th>\n",
       "      <td>167242</td>\n",
       "      <td>168027</td>\n",
       "    </tr>\n",
       "    <tr>\n",
       "      <th>75%</th>\n",
       "      <td>181235</td>\n",
       "      <td>181087</td>\n",
       "    </tr>\n",
       "    <tr>\n",
       "      <th>97.5%</th>\n",
       "      <td>211340</td>\n",
       "      <td>209963</td>\n",
       "    </tr>\n",
       "    <tr>\n",
       "      <th>max</th>\n",
       "      <td>255332</td>\n",
       "      <td>258759</td>\n",
       "    </tr>\n",
       "  </tbody>\n",
       "</table>\n",
       "</div>"
      ],
      "text/plain": [
       "       Bootstrap  Monte Carlo\n",
       "count      10000        10000\n",
       "mean      169894       169664\n",
       "std        18192        18666\n",
       "min       130881       117724\n",
       "2.5%      141745       137049\n",
       "25%       156176       156575\n",
       "50%       167242       168027\n",
       "75%       181235       181087\n",
       "97.5%     211340       209963\n",
       "max       255332       258759"
      ]
     },
     "execution_count": 33,
     "metadata": {},
     "output_type": "execute_result"
    }
   ],
   "source": [
    "mc_nbinom_not_counted = monte_carlo(\n",
    "    not_counted[\"pop_adult\"] / 1e5,\n",
    "    nbinom_dist,\n",
    "    n = 1e4\n",
    ")\n",
    "\n",
    "pd.DataFrame({\n",
    "    \"Bootstrap\": describe(bootstrapped_not_counted + known_total),\n",
    "    \"Monte Carlo\": describe(mc_nbinom_not_counted + known_total),\n",
    "})"
   ]
  },
  {
   "cell_type": "markdown",
   "id": "bdefae58",
   "metadata": {},
   "source": [
    "Although the assumptions here are slightly different than for the bootstrap, and allow for a greater range of rates, the resulting estimates end up remarkable similar. Here are histograms of the two results, with the bootstrap in blue and the Monte Carlo simulation in orange:"
   ]
  },
  {
   "cell_type": "code",
   "execution_count": 34,
   "id": "9d27d252",
   "metadata": {
    "execution": {
     "iopub.execute_input": "2021-09-30T15:01:00.327042Z",
     "iopub.status.busy": "2021-09-30T15:01:00.325993Z",
     "iopub.status.idle": "2021-09-30T15:01:00.712592Z",
     "shell.execute_reply": "2021-09-30T15:01:00.713331Z"
    }
   },
   "outputs": [
    {
     "data": {
      "image/png": "[encoded data removed]",
      "text/plain": [
       "<Figure size 432x288 with 1 Axes>"
      ]
     },
     "metadata": {},
     "output_type": "display_data"
    }
   ],
   "source": [
    "hist(bootstrapped_not_counted + known_total)\n",
    "hist(mc_nbinom_not_counted + known_total);"
   ]
  },
  {
   "cell_type": "markdown",
   "id": "ea1884ed",
   "metadata": {},
   "source": [
    "# Incorporating data from states that do not disambiguate adults/minors\n",
    "\n",
    "Although we don't have fully-usable data from states that do not disambiguate between guardianships of adults and those of minors, we can still use this information to construct some bounds. There cannot be, for instance, more adult guardianship filings in these states than there are total adult+minor filings combined. And adult guardianship filings are likely to be some substantial portion of those filings. Although that portion is unknown, in states that do disambiguate those two types of cases the adult proportion appears to typically be between 50% and 95% of the total. Below, we generate a series of estimates that combine the following totals:\n",
    "\n",
    "- The known totals in our 25 disambiguated jurisdictions\n",
    "- The `Adults+Minors` totals for the states that provide them, multiplied by 0.5, 0.6, 0.7, 0.8, or 0.9\n",
    "- The results of a Monte Carlo simulation, using the same negative binomial distribution as above, for the remaining states\n",
    "\n",
    "This gives us a sense of the potential outcomes, given a range of adult:total ratios for the `Adults+Minors` states. Because we are multiplying all states by the same adult:total ratio, the distributions of each set of results is artificially narrow, but they provide a further sense of the possible national totals."
   ]
  },
  {
   "cell_type": "code",
   "execution_count": 35,
   "id": "efc85d4c",
   "metadata": {
    "execution": {
     "iopub.execute_input": "2021-09-30T15:01:00.722160Z",
     "iopub.status.busy": "2021-09-30T15:01:00.719383Z",
     "iopub.status.idle": "2021-09-30T15:01:00.748527Z",
     "shell.execute_reply": "2021-09-30T15:01:00.749220Z"
    }
   },
   "outputs": [
    {
     "name": "stdout",
     "output_type": "stream",
     "text": [
      "12 states with Adults+Minors counts\n"
     ]
    },
    {
     "data": {
      "text/html": [
       "<div>\n",
       "<style scoped>\n",
       "    .dataframe tbody tr th:only-of-type {\n",
       "        vertical-align: middle;\n",
       "    }\n",
       "\n",
       "    .dataframe tbody tr th {\n",
       "        vertical-align: top;\n",
       "    }\n",
       "\n",
       "    .dataframe thead th {\n",
       "        text-align: right;\n",
       "    }\n",
       "</style>\n",
       "<table border=\"1\" class=\"dataframe\">\n",
       "  <thead>\n",
       "    <tr style=\"text-align: right;\">\n",
       "      <th></th>\n",
       "      <th>state</th>\n",
       "      <th>year</th>\n",
       "      <th>total</th>\n",
       "      <th>pop_adult</th>\n",
       "      <th>per_100k</th>\n",
       "    </tr>\n",
       "  </thead>\n",
       "  <tbody>\n",
       "    <tr>\n",
       "      <th>0</th>\n",
       "      <td>Alaska</td>\n",
       "      <td>2019</td>\n",
       "      <td>1084</td>\n",
       "      <td>551562</td>\n",
       "      <td>196.532756</td>\n",
       "    </tr>\n",
       "    <tr>\n",
       "      <th>1</th>\n",
       "      <td>California</td>\n",
       "      <td>2019</td>\n",
       "      <td>16634</td>\n",
       "      <td>30617582</td>\n",
       "      <td>54.328261</td>\n",
       "    </tr>\n",
       "    <tr>\n",
       "      <th>2</th>\n",
       "      <td>Delaware</td>\n",
       "      <td>2019</td>\n",
       "      <td>1744</td>\n",
       "      <td>770192</td>\n",
       "      <td>226.437044</td>\n",
       "    </tr>\n",
       "    <tr>\n",
       "      <th>3</th>\n",
       "      <td>Florida</td>\n",
       "      <td>2019</td>\n",
       "      <td>7906</td>\n",
       "      <td>17247808</td>\n",
       "      <td>45.837709</td>\n",
       "    </tr>\n",
       "    <tr>\n",
       "      <th>4</th>\n",
       "      <td>Hawaii</td>\n",
       "      <td>2019</td>\n",
       "      <td>613</td>\n",
       "      <td>1116004</td>\n",
       "      <td>54.928119</td>\n",
       "    </tr>\n",
       "    <tr>\n",
       "      <th>5</th>\n",
       "      <td>Indiana</td>\n",
       "      <td>2019</td>\n",
       "      <td>8301</td>\n",
       "      <td>5164245</td>\n",
       "      <td>160.739856</td>\n",
       "    </tr>\n",
       "    <tr>\n",
       "      <th>6</th>\n",
       "      <td>Montana</td>\n",
       "      <td>2019</td>\n",
       "      <td>1129</td>\n",
       "      <td>840190</td>\n",
       "      <td>134.374368</td>\n",
       "    </tr>\n",
       "    <tr>\n",
       "      <th>7</th>\n",
       "      <td>Nevada</td>\n",
       "      <td>2019</td>\n",
       "      <td>2513</td>\n",
       "      <td>2387517</td>\n",
       "      <td>105.255795</td>\n",
       "    </tr>\n",
       "    <tr>\n",
       "      <th>8</th>\n",
       "      <td>New York</td>\n",
       "      <td>2019</td>\n",
       "      <td>26763</td>\n",
       "      <td>15425262</td>\n",
       "      <td>173.501105</td>\n",
       "    </tr>\n",
       "    <tr>\n",
       "      <th>9</th>\n",
       "      <td>North Carolina</td>\n",
       "      <td>2019</td>\n",
       "      <td>4649</td>\n",
       "      <td>8187369</td>\n",
       "      <td>56.782588</td>\n",
       "    </tr>\n",
       "    <tr>\n",
       "      <th>10</th>\n",
       "      <td>Tennessee</td>\n",
       "      <td>2019</td>\n",
       "      <td>3754</td>\n",
       "      <td>5319123</td>\n",
       "      <td>70.575544</td>\n",
       "    </tr>\n",
       "    <tr>\n",
       "      <th>11</th>\n",
       "      <td>Wisconsin</td>\n",
       "      <td>2019</td>\n",
       "      <td>6051</td>\n",
       "      <td>4555837</td>\n",
       "      <td>132.818624</td>\n",
       "    </tr>\n",
       "  </tbody>\n",
       "</table>\n",
       "</div>"
      ],
      "text/plain": [
       "             state  year  total  pop_adult    per_100k\n",
       "0           Alaska  2019   1084     551562  196.532756\n",
       "1       California  2019  16634   30617582   54.328261\n",
       "2         Delaware  2019   1744     770192  226.437044\n",
       "3          Florida  2019   7906   17247808   45.837709\n",
       "4           Hawaii  2019    613    1116004   54.928119\n",
       "5          Indiana  2019   8301    5164245  160.739856\n",
       "6          Montana  2019   1129     840190  134.374368\n",
       "7           Nevada  2019   2513    2387517  105.255795\n",
       "8         New York  2019  26763   15425262  173.501105\n",
       "9   North Carolina  2019   4649    8187369   56.782588\n",
       "10       Tennessee  2019   3754    5319123   70.575544\n",
       "11       Wisconsin  2019   6051    4555837  132.818624"
      ]
     },
     "execution_count": 35,
     "metadata": {},
     "output_type": "execute_result"
    }
   ],
   "source": [
    "latest_totals_all_ages = get_totals_and_rates(\n",
    "    counts\n",
    "    .loc[lambda df: df[\"year\"] == 2019]\n",
    "    .loc[lambda df: df[\"for_total\"] == \"Y\"]\n",
    "    .loc[lambda df: df[\"age_group\"] == \"Adults+Minors\"]\n",
    ")\n",
    "\n",
    "assert latest_totals_all_ages[\"state\"].isin(latest_totals[\"state\"]).sum() == 0\n",
    "\n",
    "print(f\"{len(latest_totals_all_ages)} states with Adults+Minors counts\")\n",
    "latest_totals_all_ages"
   ]
  },
  {
   "cell_type": "code",
   "execution_count": 36,
   "id": "8c2d933d",
   "metadata": {
    "execution": {
     "iopub.execute_input": "2021-09-30T15:01:00.766014Z",
     "iopub.status.busy": "2021-09-30T15:01:00.765288Z",
     "iopub.status.idle": "2021-09-30T15:01:06.609188Z",
     "shell.execute_reply": "2021-09-30T15:01:06.610041Z"
    }
   },
   "outputs": [],
   "source": [
    "mc_nbinom_no_data = monte_carlo(\n",
    "    (\n",
    "        populations\n",
    "        .loc[lambda df: ~df[\"state\"].isin(latest_totals[\"state\"])]\n",
    "        .loc[lambda df: ~df[\"state\"].isin(latest_totals_all_ages[\"state\"])]\n",
    "        [\"pop_adult\"]\n",
    "    ) / 1e5,\n",
    "    nbinom_dist,\n",
    "    n = 1e4\n",
    ")"
   ]
  },
  {
   "cell_type": "code",
   "execution_count": 37,
   "id": "ea567a35",
   "metadata": {
    "execution": {
     "iopub.execute_input": "2021-09-30T15:01:06.623218Z",
     "iopub.status.busy": "2021-09-30T15:01:06.622179Z",
     "iopub.status.idle": "2021-09-30T15:01:06.679089Z",
     "shell.execute_reply": "2021-09-30T15:01:06.681103Z"
    }
   },
   "outputs": [
    {
     "data": {
      "text/html": [
       "<div>\n",
       "<style scoped>\n",
       "    .dataframe tbody tr th:only-of-type {\n",
       "        vertical-align: middle;\n",
       "    }\n",
       "\n",
       "    .dataframe tbody tr th {\n",
       "        vertical-align: top;\n",
       "    }\n",
       "\n",
       "    .dataframe thead th {\n",
       "        text-align: right;\n",
       "    }\n",
       "</style>\n",
       "<table border=\"1\" class=\"dataframe\">\n",
       "  <thead>\n",
       "    <tr style=\"text-align: right;\">\n",
       "      <th></th>\n",
       "      <th>50%</th>\n",
       "      <th>60%</th>\n",
       "      <th>70%</th>\n",
       "      <th>80%</th>\n",
       "      <th>90%</th>\n",
       "    </tr>\n",
       "  </thead>\n",
       "  <tbody>\n",
       "    <tr>\n",
       "      <th>count</th>\n",
       "      <td>10000</td>\n",
       "      <td>10000</td>\n",
       "      <td>10000</td>\n",
       "      <td>10000</td>\n",
       "      <td>10000</td>\n",
       "    </tr>\n",
       "    <tr>\n",
       "      <th>mean</th>\n",
       "      <td>148017</td>\n",
       "      <td>156131</td>\n",
       "      <td>164245</td>\n",
       "      <td>172359</td>\n",
       "      <td>180473</td>\n",
       "    </tr>\n",
       "    <tr>\n",
       "      <th>std</th>\n",
       "      <td>10405</td>\n",
       "      <td>10405</td>\n",
       "      <td>10405</td>\n",
       "      <td>10405</td>\n",
       "      <td>10405</td>\n",
       "    </tr>\n",
       "    <tr>\n",
       "      <th>min</th>\n",
       "      <td>120576</td>\n",
       "      <td>128690</td>\n",
       "      <td>136804</td>\n",
       "      <td>144918</td>\n",
       "      <td>153032</td>\n",
       "    </tr>\n",
       "    <tr>\n",
       "      <th>2.5%</th>\n",
       "      <td>131015</td>\n",
       "      <td>139129</td>\n",
       "      <td>147243</td>\n",
       "      <td>155357</td>\n",
       "      <td>163471</td>\n",
       "    </tr>\n",
       "    <tr>\n",
       "      <th>25%</th>\n",
       "      <td>140479</td>\n",
       "      <td>148593</td>\n",
       "      <td>156707</td>\n",
       "      <td>164821</td>\n",
       "      <td>172935</td>\n",
       "    </tr>\n",
       "    <tr>\n",
       "      <th>50%</th>\n",
       "      <td>146878</td>\n",
       "      <td>154993</td>\n",
       "      <td>163107</td>\n",
       "      <td>171221</td>\n",
       "      <td>179335</td>\n",
       "    </tr>\n",
       "    <tr>\n",
       "      <th>75%</th>\n",
       "      <td>154153</td>\n",
       "      <td>162267</td>\n",
       "      <td>170381</td>\n",
       "      <td>178495</td>\n",
       "      <td>186609</td>\n",
       "    </tr>\n",
       "    <tr>\n",
       "      <th>97.5%</th>\n",
       "      <td>171526</td>\n",
       "      <td>179640</td>\n",
       "      <td>187754</td>\n",
       "      <td>195868</td>\n",
       "      <td>203982</td>\n",
       "    </tr>\n",
       "    <tr>\n",
       "      <th>max</th>\n",
       "      <td>201414</td>\n",
       "      <td>209528</td>\n",
       "      <td>217642</td>\n",
       "      <td>225756</td>\n",
       "      <td>233870</td>\n",
       "    </tr>\n",
       "  </tbody>\n",
       "</table>\n",
       "</div>"
      ],
      "text/plain": [
       "          50%     60%     70%     80%     90%\n",
       "count   10000   10000   10000   10000   10000\n",
       "mean   148017  156131  164245  172359  180473\n",
       "std     10405   10405   10405   10405   10405\n",
       "min    120576  128690  136804  144918  153032\n",
       "2.5%   131015  139129  147243  155357  163471\n",
       "25%    140479  148593  156707  164821  172935\n",
       "50%    146878  154993  163107  171221  179335\n",
       "75%    154153  162267  170381  178495  186609\n",
       "97.5%  171526  179640  187754  195868  203982\n",
       "max    201414  209528  217642  225756  233870"
      ]
     },
     "execution_count": 37,
     "metadata": {},
     "output_type": "execute_result"
    }
   ],
   "source": [
    "pd.DataFrame({\n",
    "    f\"{x*100:.0f}%\": describe(mc_nbinom_no_data + known_total + latest_totals_all_ages[\"total\"].sum() * x) \n",
    "    for x in np.arange(0.5, 1, 0.1)\n",
    "})"
   ]
  },
  {
   "cell_type": "markdown",
   "id": "f3ded250",
   "metadata": {},
   "source": [
    "# Examining prior years\n",
    "\n",
    "Although our data is most complete from 2019, which is also the most recent pre-pandemic year, we might be intersted to see how the rates have has changed from prior years. To do so, we calculate the negative binomial distribution for 2017 and 2018 and compare it to 2019. Such comparisons should be taken lightly, since the sample is different for each year, but they seem to indicate that filing rates have likely increased during this time: "
   ]
  },
  {
   "cell_type": "code",
   "execution_count": 38,
   "id": "27f6dd63",
   "metadata": {
    "execution": {
     "iopub.execute_input": "2021-09-30T15:01:06.704250Z",
     "iopub.status.busy": "2021-09-30T15:01:06.690611Z",
     "iopub.status.idle": "2021-09-30T15:01:06.744848Z",
     "shell.execute_reply": "2021-09-30T15:01:06.745448Z"
    }
   },
   "outputs": [],
   "source": [
    "nbinom_dist_years = pd.Series({ year:(\n",
    "    nbinom_from_rates(\n",
    "        get_totals_and_rates(\n",
    "            counts\n",
    "            .loc[lambda df: df[\"year\"] == year]\n",
    "            .loc[lambda df: df[\"for_total\"] == \"Y\"]\n",
    "            .loc[lambda df: df[\"age_group\"] == \"Adults ONLY\"]\n",
    "        )\n",
    "        [\"per_100k\"]\n",
    "    )\n",
    ") for year in [ 2017, 2018, 2019 ]})"
   ]
  },
  {
   "cell_type": "code",
   "execution_count": 39,
   "id": "621fcc66",
   "metadata": {
    "execution": {
     "iopub.execute_input": "2021-09-30T15:01:06.754013Z",
     "iopub.status.busy": "2021-09-30T15:01:06.750083Z",
     "iopub.status.idle": "2021-09-30T15:01:06.758204Z",
     "shell.execute_reply": "2021-09-30T15:01:06.759646Z"
    }
   },
   "outputs": [
    {
     "data": {
      "text/plain": [
       "2017    56.8\n",
       "2018    62.6\n",
       "2019    67.7\n",
       "dtype: float64"
      ]
     },
     "execution_count": 39,
     "metadata": {},
     "output_type": "execute_result"
    }
   ],
   "source": [
    "nbinom_dist_years.apply(lambda dist: dist.mean()).round(1)"
   ]
  },
  {
   "cell_type": "code",
   "execution_count": 40,
   "id": "067b2d13",
   "metadata": {
    "execution": {
     "iopub.execute_input": "2021-09-30T15:01:06.771227Z",
     "iopub.status.busy": "2021-09-30T15:01:06.762909Z",
     "iopub.status.idle": "2021-09-30T15:01:07.125953Z",
     "shell.execute_reply": "2021-09-30T15:01:07.126472Z"
    }
   },
   "outputs": [
    {
     "data": {
      "image/png": "[encoded data removed]",
      "text/plain": [
       "<Figure size 432x288 with 1 Axes>"
      ]
     },
     "metadata": {},
     "output_type": "display_data"
    }
   ],
   "source": [
    "nbinom_pmf_years = nbinom_dist_years.apply(lambda dist: pd.Series(dist.pmf(_x))).T\n",
    "nbinom_pmf_years.loc[:,:2019].plot();"
   ]
  },
  {
   "cell_type": "markdown",
   "id": "d5dd283f",
   "metadata": {},
   "source": [
    "Another, more direct way of looking at this is to compare filing rates in both 2018 and 2019 for the jurisdictions where we have both counts. Here, we see a slight increase in the majority of jurisdictions and overall:"
   ]
  },
  {
   "cell_type": "code",
   "execution_count": 41,
   "id": "d6a88591",
   "metadata": {
    "execution": {
     "iopub.execute_input": "2021-09-30T15:01:07.158189Z",
     "iopub.status.busy": "2021-09-30T15:01:07.143294Z",
     "iopub.status.idle": "2021-09-30T15:01:07.166081Z",
     "shell.execute_reply": "2021-09-30T15:01:07.165635Z"
    }
   },
   "outputs": [
    {
     "data": {
      "text/html": [
       "<div>\n",
       "<style scoped>\n",
       "    .dataframe tbody tr th:only-of-type {\n",
       "        vertical-align: middle;\n",
       "    }\n",
       "\n",
       "    .dataframe tbody tr th {\n",
       "        vertical-align: top;\n",
       "    }\n",
       "\n",
       "    .dataframe thead th {\n",
       "        text-align: right;\n",
       "    }\n",
       "</style>\n",
       "<table border=\"1\" class=\"dataframe\">\n",
       "  <thead>\n",
       "    <tr style=\"text-align: right;\">\n",
       "      <th>year</th>\n",
       "      <th>2018</th>\n",
       "      <th>2019</th>\n",
       "      <th>change</th>\n",
       "    </tr>\n",
       "    <tr>\n",
       "      <th>state</th>\n",
       "      <th></th>\n",
       "      <th></th>\n",
       "      <th></th>\n",
       "    </tr>\n",
       "  </thead>\n",
       "  <tbody>\n",
       "    <tr>\n",
       "      <th>Kentucky</th>\n",
       "      <td>35.62</td>\n",
       "      <td>43.09</td>\n",
       "      <td>7.48</td>\n",
       "    </tr>\n",
       "    <tr>\n",
       "      <th>Nebraska</th>\n",
       "      <td>138.31</td>\n",
       "      <td>144.62</td>\n",
       "      <td>6.31</td>\n",
       "    </tr>\n",
       "    <tr>\n",
       "      <th>West Virginia</th>\n",
       "      <td>57.66</td>\n",
       "      <td>62.40</td>\n",
       "      <td>4.75</td>\n",
       "    </tr>\n",
       "    <tr>\n",
       "      <th>Vermont</th>\n",
       "      <td>96.67</td>\n",
       "      <td>100.40</td>\n",
       "      <td>3.73</td>\n",
       "    </tr>\n",
       "    <tr>\n",
       "      <th>Utah</th>\n",
       "      <td>32.49</td>\n",
       "      <td>36.18</td>\n",
       "      <td>3.69</td>\n",
       "    </tr>\n",
       "    <tr>\n",
       "      <th>Washington</th>\n",
       "      <td>47.06</td>\n",
       "      <td>50.19</td>\n",
       "      <td>3.13</td>\n",
       "    </tr>\n",
       "    <tr>\n",
       "      <th>Kansas</th>\n",
       "      <td>49.07</td>\n",
       "      <td>51.60</td>\n",
       "      <td>2.53</td>\n",
       "    </tr>\n",
       "    <tr>\n",
       "      <th>Ohio</th>\n",
       "      <td>74.22</td>\n",
       "      <td>76.73</td>\n",
       "      <td>2.51</td>\n",
       "    </tr>\n",
       "    <tr>\n",
       "      <th>New Mexico</th>\n",
       "      <td>40.96</td>\n",
       "      <td>42.94</td>\n",
       "      <td>1.97</td>\n",
       "    </tr>\n",
       "    <tr>\n",
       "      <th>New Jersey</th>\n",
       "      <td>42.15</td>\n",
       "      <td>43.77</td>\n",
       "      <td>1.61</td>\n",
       "    </tr>\n",
       "    <tr>\n",
       "      <th>Michigan</th>\n",
       "      <td>159.77</td>\n",
       "      <td>161.36</td>\n",
       "      <td>1.58</td>\n",
       "    </tr>\n",
       "    <tr>\n",
       "      <th>Idaho</th>\n",
       "      <td>43.47</td>\n",
       "      <td>44.37</td>\n",
       "      <td>0.90</td>\n",
       "    </tr>\n",
       "    <tr>\n",
       "      <th>District of Columbia</th>\n",
       "      <td>98.86</td>\n",
       "      <td>99.55</td>\n",
       "      <td>0.69</td>\n",
       "    </tr>\n",
       "    <tr>\n",
       "      <th>Minnesota</th>\n",
       "      <td>60.63</td>\n",
       "      <td>61.29</td>\n",
       "      <td>0.67</td>\n",
       "    </tr>\n",
       "    <tr>\n",
       "      <th>Virginia</th>\n",
       "      <td>37.13</td>\n",
       "      <td>37.72</td>\n",
       "      <td>0.60</td>\n",
       "    </tr>\n",
       "    <tr>\n",
       "      <th>Massachusetts</th>\n",
       "      <td>72.71</td>\n",
       "      <td>73.27</td>\n",
       "      <td>0.56</td>\n",
       "    </tr>\n",
       "    <tr>\n",
       "      <th>Oregon</th>\n",
       "      <td>39.93</td>\n",
       "      <td>40.43</td>\n",
       "      <td>0.51</td>\n",
       "    </tr>\n",
       "    <tr>\n",
       "      <th>Arkansas</th>\n",
       "      <td>49.75</td>\n",
       "      <td>50.22</td>\n",
       "      <td>0.47</td>\n",
       "    </tr>\n",
       "    <tr>\n",
       "      <th>Colorado</th>\n",
       "      <td>31.16</td>\n",
       "      <td>31.49</td>\n",
       "      <td>0.33</td>\n",
       "    </tr>\n",
       "    <tr>\n",
       "      <th>Pennsylvania</th>\n",
       "      <td>33.59</td>\n",
       "      <td>32.50</td>\n",
       "      <td>-1.09</td>\n",
       "    </tr>\n",
       "    <tr>\n",
       "      <th>New Hampshire</th>\n",
       "      <td>86.83</td>\n",
       "      <td>85.56</td>\n",
       "      <td>-1.27</td>\n",
       "    </tr>\n",
       "    <tr>\n",
       "      <th>Missouri</th>\n",
       "      <td>64.55</td>\n",
       "      <td>61.30</td>\n",
       "      <td>-3.25</td>\n",
       "    </tr>\n",
       "    <tr>\n",
       "      <th>North Dakota</th>\n",
       "      <td>59.12</td>\n",
       "      <td>53.96</td>\n",
       "      <td>-5.16</td>\n",
       "    </tr>\n",
       "    <tr>\n",
       "      <th>Arizona</th>\n",
       "      <td>49.66</td>\n",
       "      <td>42.26</td>\n",
       "      <td>-7.40</td>\n",
       "    </tr>\n",
       "  </tbody>\n",
       "</table>\n",
       "</div>"
      ],
      "text/plain": [
       "year                    2018    2019  change\n",
       "state                                       \n",
       "Kentucky               35.62   43.09    7.48\n",
       "Nebraska              138.31  144.62    6.31\n",
       "West Virginia          57.66   62.40    4.75\n",
       "Vermont                96.67  100.40    3.73\n",
       "Utah                   32.49   36.18    3.69\n",
       "Washington             47.06   50.19    3.13\n",
       "Kansas                 49.07   51.60    2.53\n",
       "Ohio                   74.22   76.73    2.51\n",
       "New Mexico             40.96   42.94    1.97\n",
       "New Jersey             42.15   43.77    1.61\n",
       "Michigan              159.77  161.36    1.58\n",
       "Idaho                  43.47   44.37    0.90\n",
       "District of Columbia   98.86   99.55    0.69\n",
       "Minnesota              60.63   61.29    0.67\n",
       "Virginia               37.13   37.72    0.60\n",
       "Massachusetts          72.71   73.27    0.56\n",
       "Oregon                 39.93   40.43    0.51\n",
       "Arkansas               49.75   50.22    0.47\n",
       "Colorado               31.16   31.49    0.33\n",
       "Pennsylvania           33.59   32.50   -1.09\n",
       "New Hampshire          86.83   85.56   -1.27\n",
       "Missouri               64.55   61.30   -3.25\n",
       "North Dakota           59.12   53.96   -5.16\n",
       "Arizona                49.66   42.26   -7.40"
      ]
     },
     "execution_count": 41,
     "metadata": {},
     "output_type": "execute_result"
    }
   ],
   "source": [
    "change_2018_19 = (\n",
    "    get_totals_and_rates(\n",
    "        counts\n",
    "        .loc[lambda df: df[\"for_total\"] == \"Y\"]\n",
    "        .loc[lambda df: df[\"age_group\"] == \"Adults ONLY\"]        \n",
    "    )\n",
    "    .loc[lambda df: df[\"year\"].isin([ 2018, 2019 ])]\n",
    "    .set_index([\n",
    "        \"state\",\n",
    "        \"year\"\n",
    "    ])\n",
    "    [\"per_100k\"]\n",
    "    .unstack()\n",
    "    .dropna()\n",
    "    .assign(\n",
    "        change = lambda df: df[2019] - df[2018]\n",
    "    )\n",
    ")\n",
    "\n",
    "change_2018_19.sort_values(\"change\", ascending=False).round(2)"
   ]
  },
  {
   "cell_type": "code",
   "execution_count": 42,
   "id": "0adc7616",
   "metadata": {
    "execution": {
     "iopub.execute_input": "2021-09-30T15:01:07.175620Z",
     "iopub.status.busy": "2021-09-30T15:01:07.174489Z",
     "iopub.status.idle": "2021-09-30T15:01:07.178101Z",
     "shell.execute_reply": "2021-09-30T15:01:07.178583Z"
    }
   },
   "outputs": [
    {
     "data": {
      "text/plain": [
       "count    24.000000\n",
       "mean      1.077307\n",
       "std       3.277044\n",
       "min      -7.395609\n",
       "25%       0.439312\n",
       "50%       0.794413\n",
       "75%       2.679093\n",
       "max       7.475175\n",
       "Name: change, dtype: float64"
      ]
     },
     "execution_count": 42,
     "metadata": {},
     "output_type": "execute_result"
    }
   ],
   "source": [
    "change_2018_19[\"change\"].describe()"
   ]
  },
  {
   "cell_type": "markdown",
   "id": "734f5d7e",
   "metadata": {},
   "source": [
    "# Appendix A: Adjusting for population size\n",
    "\n",
    "Our sample of jurisdictions for which we have fully usable data spans a broad range of populations, but slightly overrepresents smaller states and slightly underrepresents larger states. We can this see by grouping all jurisdictions into three population terciles and comparing the size-distribution in and out of our sample:"
   ]
  },
  {
   "cell_type": "code",
   "execution_count": 43,
   "id": "3567e92e",
   "metadata": {
    "execution": {
     "iopub.execute_input": "2021-09-30T15:01:07.202544Z",
     "iopub.status.busy": "2021-09-30T15:01:07.191705Z",
     "iopub.status.idle": "2021-09-30T15:01:07.205290Z",
     "shell.execute_reply": "2021-09-30T15:01:07.205837Z"
    }
   },
   "outputs": [
    {
     "data": {
      "text/html": [
       "<div>\n",
       "<style scoped>\n",
       "    .dataframe tbody tr th:only-of-type {\n",
       "        vertical-align: middle;\n",
       "    }\n",
       "\n",
       "    .dataframe tbody tr th {\n",
       "        vertical-align: top;\n",
       "    }\n",
       "\n",
       "    .dataframe thead th {\n",
       "        text-align: right;\n",
       "    }\n",
       "</style>\n",
       "<table border=\"1\" class=\"dataframe\">\n",
       "  <thead>\n",
       "    <tr style=\"text-align: right;\">\n",
       "      <th>in_sample</th>\n",
       "      <th>False</th>\n",
       "      <th>True</th>\n",
       "    </tr>\n",
       "  </thead>\n",
       "  <tbody>\n",
       "    <tr>\n",
       "      <th>(445024.999, 2254204.0]</th>\n",
       "      <td>0.31</td>\n",
       "      <td>0.36</td>\n",
       "    </tr>\n",
       "    <tr>\n",
       "      <th>(2254204.0, 4899310.333]</th>\n",
       "      <td>0.35</td>\n",
       "      <td>0.32</td>\n",
       "    </tr>\n",
       "    <tr>\n",
       "      <th>(4899310.333, 30617582.0]</th>\n",
       "      <td>0.35</td>\n",
       "      <td>0.32</td>\n",
       "    </tr>\n",
       "  </tbody>\n",
       "</table>\n",
       "</div>"
      ],
      "text/plain": [
       "in_sample                  False  True\n",
       "(445024.999, 2254204.0]     0.31  0.36\n",
       "(2254204.0, 4899310.333]    0.35  0.32\n",
       "(4899310.333, 30617582.0]   0.35  0.32"
      ]
     },
     "execution_count": 43,
     "metadata": {},
     "output_type": "execute_result"
    }
   ],
   "source": [
    "(\n",
    "    populations\n",
    "    .assign(\n",
    "        in_sample = lambda df: df[\"state\"].isin(latest_totals[\"state\"]),\n",
    "        pop_adult_tercile = lambda df: pd.qcut(df[\"pop_adult\"], 3),\n",
    "    )\n",
    "    .groupby(\"in_sample\")\n",
    "    [\"pop_adult_tercile\"]\n",
    "    .value_counts(normalize=True)\n",
    "    .unstack()\n",
    "    .T\n",
    "    .round(2)\n",
    ")"
   ]
  },
  {
   "cell_type": "markdown",
   "id": "bc9f2bab",
   "metadata": {},
   "source": [
    "We also observe a *potential* negative correlation between population size and filings per capita:"
   ]
  },
  {
   "cell_type": "code",
   "execution_count": 44,
   "id": "1c491e95",
   "metadata": {
    "execution": {
     "iopub.execute_input": "2021-09-30T15:01:07.233570Z",
     "iopub.status.busy": "2021-09-30T15:01:07.230978Z",
     "iopub.status.idle": "2021-09-30T15:01:07.499389Z",
     "shell.execute_reply": "2021-09-30T15:01:07.499789Z"
    }
   },
   "outputs": [
    {
     "data": {
      "image/png": "[encoded data removed]",
      "text/plain": [
       "<Figure size 432x288 with 1 Axes>"
      ]
     },
     "metadata": {},
     "output_type": "display_data"
    }
   ],
   "source": [
    "(\n",
    "    latest_totals\n",
    "    .pipe(lambda df: sns.regplot(\n",
    "        x = df[\"pop_adult\"].apply(np.log10),\n",
    "        y = df[\"per_100k\"],\n",
    "        truncate = False,\n",
    "        scatter_kws = { \"alpha\": 0.5 }\n",
    "    ))\n",
    ")\n",
    "pass"
   ]
  },
  {
   "cell_type": "markdown",
   "id": "2048f6a0",
   "metadata": {},
   "source": [
    "The relationship does not reach standard levels of statistical significance, although our observations may be underpowered (i.e., sample size too small) to reach that level:"
   ]
  },
  {
   "cell_type": "code",
   "execution_count": 45,
   "id": "71cb048b",
   "metadata": {
    "execution": {
     "iopub.execute_input": "2021-09-30T15:01:07.517631Z",
     "iopub.status.busy": "2021-09-30T15:01:07.516655Z",
     "iopub.status.idle": "2021-09-30T15:01:07.521320Z",
     "shell.execute_reply": "2021-09-30T15:01:07.522072Z"
    }
   },
   "outputs": [
    {
     "data": {
      "text/html": [
       "<table class=\"simpletable\">\n",
       "<caption>OLS Regression Results</caption>\n",
       "<tr>\n",
       "  <th>Dep. Variable:</th>        <td>per_100k</td>     <th>  R-squared:         </th> <td>   0.033</td>\n",
       "</tr>\n",
       "<tr>\n",
       "  <th>Model:</th>                   <td>OLS</td>       <th>  Adj. R-squared:    </th> <td>  -0.009</td>\n",
       "</tr>\n",
       "<tr>\n",
       "  <th>Method:</th>             <td>Least Squares</td>  <th>  F-statistic:       </th> <td>  0.7838</td>\n",
       "</tr>\n",
       "<tr>\n",
       "  <th>Date:</th>             <td>Thu, 30 Sep 2021</td> <th>  Prob (F-statistic):</th>  <td> 0.385</td> \n",
       "</tr>\n",
       "<tr>\n",
       "  <th>Time:</th>                 <td>10:01:07</td>     <th>  Log-Likelihood:    </th> <td> -126.00</td>\n",
       "</tr>\n",
       "<tr>\n",
       "  <th>No. Observations:</th>      <td>    25</td>      <th>  AIC:               </th> <td>   256.0</td>\n",
       "</tr>\n",
       "<tr>\n",
       "  <th>Df Residuals:</th>          <td>    23</td>      <th>  BIC:               </th> <td>   258.4</td>\n",
       "</tr>\n",
       "<tr>\n",
       "  <th>Df Model:</th>              <td>     1</td>      <th>                     </th>     <td> </td>   \n",
       "</tr>\n",
       "<tr>\n",
       "  <th>Covariance Type:</th>      <td>nonrobust</td>    <th>                     </th>     <td> </td>   \n",
       "</tr>\n",
       "</table>\n",
       "<table class=\"simpletable\">\n",
       "<tr>\n",
       "      <td></td>         <th>coef</th>     <th>std err</th>      <th>t</th>      <th>P>|t|</th>  <th>[0.025</th>    <th>0.975]</th>  \n",
       "</tr>\n",
       "<tr>\n",
       "  <th>const</th>     <td>  186.6542</td> <td>  134.573</td> <td>    1.387</td> <td> 0.179</td> <td>  -91.730</td> <td>  465.039</td>\n",
       "</tr>\n",
       "<tr>\n",
       "  <th>pop_adult</th> <td>  -18.4366</td> <td>   20.825</td> <td>   -0.885</td> <td> 0.385</td> <td>  -61.516</td> <td>   24.642</td>\n",
       "</tr>\n",
       "</table>\n",
       "<table class=\"simpletable\">\n",
       "<tr>\n",
       "  <th>Omnibus:</th>       <td>14.990</td> <th>  Durbin-Watson:     </th> <td>   1.863</td>\n",
       "</tr>\n",
       "<tr>\n",
       "  <th>Prob(Omnibus):</th> <td> 0.001</td> <th>  Jarque-Bera (JB):  </th> <td>  14.601</td>\n",
       "</tr>\n",
       "<tr>\n",
       "  <th>Skew:</th>          <td> 1.653</td> <th>  Prob(JB):          </th> <td>0.000675</td>\n",
       "</tr>\n",
       "<tr>\n",
       "  <th>Kurtosis:</th>      <td> 4.758</td> <th>  Cond. No.          </th> <td>    114.</td>\n",
       "</tr>\n",
       "</table><br/><br/>Notes:<br/>[1] Standard Errors assume that the covariance matrix of the errors is correctly specified."
      ],
      "text/plain": [
       "<class 'statsmodels.iolib.summary.Summary'>\n",
       "\"\"\"\n",
       "                            OLS Regression Results                            \n",
       "==============================================================================\n",
       "Dep. Variable:               per_100k   R-squared:                       0.033\n",
       "Model:                            OLS   Adj. R-squared:                 -0.009\n",
       "Method:                 Least Squares   F-statistic:                    0.7838\n",
       "Date:                Thu, 30 Sep 2021   Prob (F-statistic):              0.385\n",
       "Time:                        10:01:07   Log-Likelihood:                -126.00\n",
       "No. Observations:                  25   AIC:                             256.0\n",
       "Df Residuals:                      23   BIC:                             258.4\n",
       "Df Model:                           1                                         \n",
       "Covariance Type:            nonrobust                                         \n",
       "==============================================================================\n",
       "                 coef    std err          t      P>|t|      [0.025      0.975]\n",
       "------------------------------------------------------------------------------\n",
       "const        186.6542    134.573      1.387      0.179     -91.730     465.039\n",
       "pop_adult    -18.4366     20.825     -0.885      0.385     -61.516      24.642\n",
       "==============================================================================\n",
       "Omnibus:                       14.990   Durbin-Watson:                   1.863\n",
       "Prob(Omnibus):                  0.001   Jarque-Bera (JB):               14.601\n",
       "Skew:                           1.653   Prob(JB):                     0.000675\n",
       "Kurtosis:                       4.758   Cond. No.                         114.\n",
       "==============================================================================\n",
       "\n",
       "Notes:\n",
       "[1] Standard Errors assume that the covariance matrix of the errors is correctly specified.\n",
       "\"\"\""
      ]
     },
     "execution_count": 45,
     "metadata": {},
     "output_type": "execute_result"
    }
   ],
   "source": [
    "pop_ols = (\n",
    "    latest_totals\n",
    "    .pipe(lambda df: (\n",
    "        sm.OLS(\n",
    "            df[\"per_100k\"],\n",
    "            sm.add_constant(df[\"pop_adult\"].apply(np.log10)),\n",
    "        )\n",
    "     ))\n",
    "    .fit()\n",
    ")\n",
    "\n",
    "pop_ols.summary()"
   ]
  },
  {
   "cell_type": "markdown",
   "id": "57c3bdc8",
   "metadata": {},
   "source": [
    "It's unclear whether the relationship is causal, or whether it even holds across the full set of states. But to test the sensitivity our estimates to such a possible influence, we can repeat our bootstrap approach while adjusting for population size.\n",
    "\n",
    "We'll use the observed correlation above; it is somewhat arbitrary, but should serve as a useful demonstration.\n",
    "\n",
    "We calculate the adjustment in this manner: `coef * (log10(state's adult population) - log10(average state adult population))`, where `coef` is the coefficient for `log10(adult_pop)` in the regression above."
   ]
  },
  {
   "cell_type": "code",
   "execution_count": 46,
   "id": "dcd6cdfb",
   "metadata": {
    "execution": {
     "iopub.execute_input": "2021-09-30T15:01:07.536173Z",
     "iopub.status.busy": "2021-09-30T15:01:07.535487Z",
     "iopub.status.idle": "2021-09-30T15:01:07.538478Z",
     "shell.execute_reply": "2021-09-30T15:01:07.538952Z"
    }
   },
   "outputs": [
    {
     "data": {
      "text/html": [
       "<div>\n",
       "<style scoped>\n",
       "    .dataframe tbody tr th:only-of-type {\n",
       "        vertical-align: middle;\n",
       "    }\n",
       "\n",
       "    .dataframe tbody tr th {\n",
       "        vertical-align: top;\n",
       "    }\n",
       "\n",
       "    .dataframe thead th {\n",
       "        text-align: right;\n",
       "    }\n",
       "</style>\n",
       "<table border=\"1\" class=\"dataframe\">\n",
       "  <thead>\n",
       "    <tr style=\"text-align: right;\">\n",
       "      <th></th>\n",
       "      <th>state</th>\n",
       "      <th>pop_total</th>\n",
       "      <th>pop_adult</th>\n",
       "      <th>pop_adult_log10</th>\n",
       "      <th>adj</th>\n",
       "    </tr>\n",
       "  </thead>\n",
       "  <tbody>\n",
       "    <tr>\n",
       "      <th>0</th>\n",
       "      <td>Alabama</td>\n",
       "      <td>4903185</td>\n",
       "      <td>3814879</td>\n",
       "      <td>6.581481</td>\n",
       "      <td>-1.864585</td>\n",
       "    </tr>\n",
       "    <tr>\n",
       "      <th>1</th>\n",
       "      <td>Alaska</td>\n",
       "      <td>731545</td>\n",
       "      <td>551562</td>\n",
       "      <td>5.741594</td>\n",
       "      <td>13.620104</td>\n",
       "    </tr>\n",
       "    <tr>\n",
       "      <th>2</th>\n",
       "      <td>Arizona</td>\n",
       "      <td>7278717</td>\n",
       "      <td>5638481</td>\n",
       "      <td>6.751162</td>\n",
       "      <td>-4.992940</td>\n",
       "    </tr>\n",
       "    <tr>\n",
       "      <th>3</th>\n",
       "      <td>Arkansas</td>\n",
       "      <td>3017804</td>\n",
       "      <td>2317649</td>\n",
       "      <td>6.365048</td>\n",
       "      <td>2.125716</td>\n",
       "    </tr>\n",
       "    <tr>\n",
       "      <th>4</th>\n",
       "      <td>California</td>\n",
       "      <td>39512223</td>\n",
       "      <td>30617582</td>\n",
       "      <td>7.485971</td>\n",
       "      <td>-18.540349</td>\n",
       "    </tr>\n",
       "  </tbody>\n",
       "</table>\n",
       "</div>"
      ],
      "text/plain": [
       "        state  pop_total  pop_adult  pop_adult_log10        adj\n",
       "0     Alabama    4903185    3814879         6.581481  -1.864585\n",
       "1      Alaska     731545     551562         5.741594  13.620104\n",
       "2     Arizona    7278717    5638481         6.751162  -4.992940\n",
       "3    Arkansas    3017804    2317649         6.365048   2.125716\n",
       "4  California   39512223   30617582         7.485971 -18.540349"
      ]
     },
     "execution_count": 46,
     "metadata": {},
     "output_type": "execute_result"
    }
   ],
   "source": [
    "adjustment_table = (\n",
    "    populations\n",
    "    .assign(\n",
    "        pop_adult_log10 = lambda df: df[\"pop_adult\"].apply(np.log10),\n",
    "        adj = lambda df: (\n",
    "            pop_ols.params[\"pop_adult\"] * \n",
    "            (df[\"pop_adult_log10\"] - df[\"pop_adult_log10\"].mean())\n",
    "        )\n",
    "    )\n",
    ")\n",
    "\n",
    "adjustment_table.head()"
   ]
  },
  {
   "cell_type": "code",
   "execution_count": 47,
   "id": "0176834e",
   "metadata": {
    "execution": {
     "iopub.execute_input": "2021-09-30T15:01:07.543219Z",
     "iopub.status.busy": "2021-09-30T15:01:07.542628Z",
     "iopub.status.idle": "2021-09-30T15:01:07.544854Z",
     "shell.execute_reply": "2021-09-30T15:01:07.545250Z"
    }
   },
   "outputs": [],
   "source": [
    "# Make sure that the positive and negative adjustments balance out\n",
    "assert int(adjustment_table[\"adj\"].sum()) == 0"
   ]
  },
  {
   "cell_type": "markdown",
   "id": "bbf43bfa",
   "metadata": {},
   "source": [
    "Next, we subtract the adjustment factor from each of our observed per capita filiing rates to generate a set of normalized rates, effectively asking \"What might this rate be if the state had the average population?\" \n",
    "\n",
    "We also plot the normalized rates (in orange) against the observed rates (in blue) to visualize the shift, and we observe that it acheives our goal of flattening the regression line:"
   ]
  },
  {
   "cell_type": "code",
   "execution_count": 48,
   "id": "b3b3d659",
   "metadata": {
    "execution": {
     "iopub.execute_input": "2021-09-30T15:01:07.591377Z",
     "iopub.status.busy": "2021-09-30T15:01:07.590438Z",
     "iopub.status.idle": "2021-09-30T15:01:07.974327Z",
     "shell.execute_reply": "2021-09-30T15:01:07.974752Z"
    }
   },
   "outputs": [
    {
     "data": {
      "image/png": "[encoded data removed]",
      "text/plain": [
       "<Figure size 432x288 with 1 Axes>"
      ]
     },
     "metadata": {},
     "output_type": "display_data"
    }
   ],
   "source": [
    "latest_totals_adj = (\n",
    "    latest_totals\n",
    "    .merge(\n",
    "        adjustment_table\n",
    "        [[\n",
    "            \"state\",\n",
    "            \"pop_adult_log10\",\n",
    "            \"adj\"\n",
    "        ]],\n",
    "        how = \"left\"\n",
    "    )\n",
    "    .assign(\n",
    "        per_100k_adj = lambda df: df[\"per_100k\"] - df[\"adj\"]\n",
    "    )\n",
    ")\n",
    "\n",
    "(\n",
    "    latest_totals_adj\n",
    "    .pipe(lambda df: sns.regplot(\n",
    "        y = df[\"per_100k\"],\n",
    "        x = df[\"pop_adult_log10\"],\n",
    "        truncate = False,\n",
    "        scatter_kws = { \"alpha\": 0.25 }\n",
    "    ))\n",
    ")\n",
    "\n",
    "(\n",
    "    latest_totals_adj\n",
    "    .pipe(lambda df: sns.regplot(\n",
    "        y = df[\"per_100k_adj\"],\n",
    "        x = df[\"pop_adult_log10\"],\n",
    "        truncate = False,\n",
    "        scatter_kws = { \"alpha\": 0.5 }\n",
    "    ))\n",
    ")\n",
    "\n",
    "pass"
   ]
  },
  {
   "cell_type": "markdown",
   "id": "56598350",
   "metadata": {},
   "source": [
    "Finally, we modify the bootstrap approach to take these adjustments into account. Specifically, for each sub-iteration, we pair a state with a random draw of one of the *normalized* rates, but then add the adjustment (increasing the effective rate for small states and decreasing it for large states) before calculating the product."
   ]
  },
  {
   "cell_type": "code",
   "execution_count": 49,
   "id": "d1eff566",
   "metadata": {
    "execution": {
     "iopub.execute_input": "2021-09-30T15:01:07.980526Z",
     "iopub.status.busy": "2021-09-30T15:01:07.979812Z",
     "iopub.status.idle": "2021-09-30T15:01:07.982055Z",
     "shell.execute_reply": "2021-09-30T15:01:07.981648Z"
    }
   },
   "outputs": [],
   "source": [
    "def gen_random_estimate_with_adj(populations, adj, rates):\n",
    "    rand_rates = gen_random_items(rates, len(populations))\n",
    "    return ((populations * (rand_rates + adj))).sum()\n",
    "\n",
    "def bootstrap_with_adj(populations, adj, rates, n=1e4):\n",
    "    return pd.Series(\n",
    "        gen_random_estimate_with_adj(populations, adj, rates)\n",
    "        for _ in range(int(n))\n",
    "    )"
   ]
  },
  {
   "cell_type": "markdown",
   "id": "3a242cad",
   "metadata": {},
   "source": [
    "This produces, as one would expect given the negative coefficient and the under-representation of large states in our sample, somewhat smaller estimates. Although, as noted above, unclear whether adjusting for population sizes produces a more accurate estimate, these results help provide an understanding of how the estimates might change *if* there were an underlying mechanism that decreased filing rates in larger states:"
   ]
  },
  {
   "cell_type": "code",
   "execution_count": 50,
   "id": "af39e6e7",
   "metadata": {
    "execution": {
     "iopub.execute_input": "2021-09-30T15:01:07.987514Z",
     "iopub.status.busy": "2021-09-30T15:01:07.986953Z",
     "iopub.status.idle": "2021-09-30T15:01:07.989596Z",
     "shell.execute_reply": "2021-09-30T15:01:07.989190Z"
    }
   },
   "outputs": [],
   "source": [
    "adjustment_table_not_counted = (\n",
    "    adjustment_table\n",
    "    .loc[lambda df: df[\"state\"].isin(not_counted[\"state\"])]\n",
    ")"
   ]
  },
  {
   "cell_type": "code",
   "execution_count": 51,
   "id": "267d8c61",
   "metadata": {
    "execution": {
     "iopub.execute_input": "2021-09-30T15:01:08.056748Z",
     "iopub.status.busy": "2021-09-30T15:01:08.016058Z",
     "iopub.status.idle": "2021-09-30T15:01:13.870393Z",
     "shell.execute_reply": "2021-09-30T15:01:13.870881Z"
    }
   },
   "outputs": [],
   "source": [
    "bootstrapped_adj_not_counted = bootstrap_with_adj(\n",
    "    adjustment_table_not_counted[\"pop_adult\"] / 1e5,\n",
    "    adjustment_table_not_counted[\"adj\"],\n",
    "    latest_totals_adj[\"per_100k_adj\"],\n",
    "    1e4\n",
    ")"
   ]
  },
  {
   "cell_type": "code",
   "execution_count": 52,
   "id": "349e042d",
   "metadata": {
    "execution": {
     "iopub.execute_input": "2021-09-30T15:01:13.880657Z",
     "iopub.status.busy": "2021-09-30T15:01:13.880043Z",
     "iopub.status.idle": "2021-09-30T15:01:13.892923Z",
     "shell.execute_reply": "2021-09-30T15:01:13.893314Z"
    }
   },
   "outputs": [
    {
     "data": {
      "text/html": [
       "<div>\n",
       "<style scoped>\n",
       "    .dataframe tbody tr th:only-of-type {\n",
       "        vertical-align: middle;\n",
       "    }\n",
       "\n",
       "    .dataframe tbody tr th {\n",
       "        vertical-align: top;\n",
       "    }\n",
       "\n",
       "    .dataframe thead th {\n",
       "        text-align: right;\n",
       "    }\n",
       "</style>\n",
       "<table border=\"1\" class=\"dataframe\">\n",
       "  <thead>\n",
       "    <tr style=\"text-align: right;\">\n",
       "      <th></th>\n",
       "      <th>Bootstrap</th>\n",
       "      <th>Monte Carlo</th>\n",
       "      <th>Pop.-adj. Bootstrap</th>\n",
       "    </tr>\n",
       "  </thead>\n",
       "  <tbody>\n",
       "    <tr>\n",
       "      <th>count</th>\n",
       "      <td>10000</td>\n",
       "      <td>10000</td>\n",
       "      <td>10000</td>\n",
       "    </tr>\n",
       "    <tr>\n",
       "      <th>mean</th>\n",
       "      <td>169894</td>\n",
       "      <td>169664</td>\n",
       "      <td>152585</td>\n",
       "    </tr>\n",
       "    <tr>\n",
       "      <th>std</th>\n",
       "      <td>18192</td>\n",
       "      <td>18666</td>\n",
       "      <td>17822</td>\n",
       "    </tr>\n",
       "    <tr>\n",
       "      <th>min</th>\n",
       "      <td>130881</td>\n",
       "      <td>117724</td>\n",
       "      <td>112751</td>\n",
       "    </tr>\n",
       "    <tr>\n",
       "      <th>2.5%</th>\n",
       "      <td>141745</td>\n",
       "      <td>137049</td>\n",
       "      <td>125252</td>\n",
       "    </tr>\n",
       "    <tr>\n",
       "      <th>25%</th>\n",
       "      <td>156176</td>\n",
       "      <td>156575</td>\n",
       "      <td>139456</td>\n",
       "    </tr>\n",
       "    <tr>\n",
       "      <th>50%</th>\n",
       "      <td>167242</td>\n",
       "      <td>168027</td>\n",
       "      <td>149849</td>\n",
       "    </tr>\n",
       "    <tr>\n",
       "      <th>75%</th>\n",
       "      <td>181235</td>\n",
       "      <td>181087</td>\n",
       "      <td>163292</td>\n",
       "    </tr>\n",
       "    <tr>\n",
       "      <th>97.5%</th>\n",
       "      <td>211340</td>\n",
       "      <td>209963</td>\n",
       "      <td>193819</td>\n",
       "    </tr>\n",
       "    <tr>\n",
       "      <th>max</th>\n",
       "      <td>255332</td>\n",
       "      <td>258759</td>\n",
       "      <td>238517</td>\n",
       "    </tr>\n",
       "  </tbody>\n",
       "</table>\n",
       "</div>"
      ],
      "text/plain": [
       "       Bootstrap  Monte Carlo  Pop.-adj. Bootstrap\n",
       "count      10000        10000                10000\n",
       "mean      169894       169664               152585\n",
       "std        18192        18666                17822\n",
       "min       130881       117724               112751\n",
       "2.5%      141745       137049               125252\n",
       "25%       156176       156575               139456\n",
       "50%       167242       168027               149849\n",
       "75%       181235       181087               163292\n",
       "97.5%     211340       209963               193819\n",
       "max       255332       258759               238517"
      ]
     },
     "execution_count": 52,
     "metadata": {},
     "output_type": "execute_result"
    }
   ],
   "source": [
    "pd.DataFrame({\n",
    "    \"Bootstrap\": describe(bootstrapped_not_counted + known_total),\n",
    "    \"Monte Carlo\": describe(mc_nbinom_not_counted + known_total),\n",
    "    \"Pop.-adj. Bootstrap\": describe(bootstrapped_adj_not_counted + known_total),\n",
    "})"
   ]
  },
  {
   "cell_type": "markdown",
   "id": "5792943a",
   "metadata": {},
   "source": [
    "Here we compare the initial bootstrap estimates (in blue) to the population-adjusted ones (in orange):"
   ]
  },
  {
   "cell_type": "code",
   "execution_count": 53,
   "id": "8b0fac77",
   "metadata": {
    "execution": {
     "iopub.execute_input": "2021-09-30T15:01:13.916411Z",
     "iopub.status.busy": "2021-09-30T15:01:13.911912Z",
     "iopub.status.idle": "2021-09-30T15:01:14.191155Z",
     "shell.execute_reply": "2021-09-30T15:01:14.191578Z"
    }
   },
   "outputs": [
    {
     "data": {
      "image/png": "[encoded data removed]",
      "text/plain": [
       "<Figure size 432x288 with 1 Axes>"
      ]
     },
     "metadata": {},
     "output_type": "display_data"
    }
   ],
   "source": [
    "hist(bootstrapped_not_counted + known_total)\n",
    "hist(bootstrapped_adj_not_counted + known_total)\n",
    "pass"
   ]
  },
  {
   "cell_type": "markdown",
   "id": "c0f491eb",
   "metadata": {},
   "source": [
    "# Appendix B: Incorporating information about legal requirements\n",
    "\n",
    "Various factors likely influence the number of guardianship cases filed in a given state. Some state laws make filing guardianship cases harder than others, for instance by requiring certain types of documentation. Others try to create alternatives to guardianship, such as through [Supported Decision-Making Agreements](https://www.americanbar.org/groups/law_aging/publications/bifocal/vol-41/volume-41-issue-1/where-states-stand-on-supported-decision-making/). BuzzFeed News collected data on four such aspects of guardianship law for each jurisdiction, and compared them to the observed filing rates:\n",
    "\n",
    "- `sdma`: Did the state allow for Supported Decision-Making Agreements in 2019?\n",
    "- `lra`: Did the state require judges to consider less restrictive alternatives to guardianship before granting a petition in 2019?\n",
    "- `ex_parte`: Did the state allow for ex parte orders of guardianship in 2019?\n",
    "- `documentation_required`: Did the state require documentation of incapacity to be submitted with the guardianship petition in 2019?\n",
    "\n",
    "Although it would be reasonable to assume these laws have some effect, we saw no clear pattern we could confidently incorporate into our estimates, perhaps due to our small sample size or perhaps because other factors outweigh these."
   ]
  },
  {
   "cell_type": "code",
   "execution_count": 54,
   "id": "9b99aefd",
   "metadata": {
    "execution": {
     "iopub.execute_input": "2021-09-30T15:01:14.200753Z",
     "iopub.status.busy": "2021-09-30T15:01:14.200054Z",
     "iopub.status.idle": "2021-09-30T15:01:14.312530Z",
     "shell.execute_reply": "2021-09-30T15:01:14.313238Z"
    }
   },
   "outputs": [
    {
     "data": {
      "text/html": [
       "<div>\n",
       "<style scoped>\n",
       "    .dataframe tbody tr th:only-of-type {\n",
       "        vertical-align: middle;\n",
       "    }\n",
       "\n",
       "    .dataframe tbody tr th {\n",
       "        vertical-align: top;\n",
       "    }\n",
       "\n",
       "    .dataframe thead th {\n",
       "        text-align: right;\n",
       "    }\n",
       "</style>\n",
       "<table border=\"1\" class=\"dataframe\">\n",
       "  <thead>\n",
       "    <tr style=\"text-align: right;\">\n",
       "      <th></th>\n",
       "      <th>state</th>\n",
       "      <th>sdma</th>\n",
       "      <th>lra</th>\n",
       "      <th>ex_parte</th>\n",
       "      <th>docu_req</th>\n",
       "      <th>num_constraints</th>\n",
       "      <th>has_constraint</th>\n",
       "      <th>per_100k</th>\n",
       "      <th>pop_adult</th>\n",
       "      <th>pop_adult_log10</th>\n",
       "      <th>in_sample</th>\n",
       "    </tr>\n",
       "  </thead>\n",
       "  <tbody>\n",
       "    <tr>\n",
       "      <th>6</th>\n",
       "      <td>Connecticut</td>\n",
       "      <td>0</td>\n",
       "      <td>1</td>\n",
       "      <td>1</td>\n",
       "      <td>0</td>\n",
       "      <td>1</td>\n",
       "      <td>True</td>\n",
       "      <td>165.618513</td>\n",
       "      <td>2837847</td>\n",
       "      <td>6.452989</td>\n",
       "      <td>True</td>\n",
       "    </tr>\n",
       "    <tr>\n",
       "      <th>22</th>\n",
       "      <td>Michigan</td>\n",
       "      <td>0</td>\n",
       "      <td>0</td>\n",
       "      <td>1</td>\n",
       "      <td>0</td>\n",
       "      <td>0</td>\n",
       "      <td>False</td>\n",
       "      <td>161.355637</td>\n",
       "      <td>7842924</td>\n",
       "      <td>6.894478</td>\n",
       "      <td>True</td>\n",
       "    </tr>\n",
       "    <tr>\n",
       "      <th>27</th>\n",
       "      <td>Nebraska</td>\n",
       "      <td>0</td>\n",
       "      <td>1</td>\n",
       "      <td>1</td>\n",
       "      <td>0</td>\n",
       "      <td>1</td>\n",
       "      <td>True</td>\n",
       "      <td>144.617077</td>\n",
       "      <td>1458334</td>\n",
       "      <td>6.163857</td>\n",
       "      <td>True</td>\n",
       "    </tr>\n",
       "    <tr>\n",
       "      <th>45</th>\n",
       "      <td>Vermont</td>\n",
       "      <td>0</td>\n",
       "      <td>0</td>\n",
       "      <td>1</td>\n",
       "      <td>0</td>\n",
       "      <td>0</td>\n",
       "      <td>False</td>\n",
       "      <td>100.395307</td>\n",
       "      <td>509984</td>\n",
       "      <td>5.707557</td>\n",
       "      <td>True</td>\n",
       "    </tr>\n",
       "    <tr>\n",
       "      <th>8</th>\n",
       "      <td>District of Columbia</td>\n",
       "      <td>1</td>\n",
       "      <td>1</td>\n",
       "      <td>1</td>\n",
       "      <td>0</td>\n",
       "      <td>2</td>\n",
       "      <td>True</td>\n",
       "      <td>99.553136</td>\n",
       "      <td>577581</td>\n",
       "      <td>5.761613</td>\n",
       "      <td>True</td>\n",
       "    </tr>\n",
       "    <tr>\n",
       "      <th>29</th>\n",
       "      <td>New Hampshire</td>\n",
       "      <td>0</td>\n",
       "      <td>1</td>\n",
       "      <td>1</td>\n",
       "      <td>1</td>\n",
       "      <td>2</td>\n",
       "      <td>True</td>\n",
       "      <td>85.562330</td>\n",
       "      <td>1104458</td>\n",
       "      <td>6.043149</td>\n",
       "      <td>True</td>\n",
       "    </tr>\n",
       "    <tr>\n",
       "      <th>35</th>\n",
       "      <td>Ohio</td>\n",
       "      <td>0</td>\n",
       "      <td>0</td>\n",
       "      <td>1</td>\n",
       "      <td>0</td>\n",
       "      <td>0</td>\n",
       "      <td>False</td>\n",
       "      <td>76.730741</td>\n",
       "      <td>9111081</td>\n",
       "      <td>6.959570</td>\n",
       "      <td>True</td>\n",
       "    </tr>\n",
       "    <tr>\n",
       "      <th>21</th>\n",
       "      <td>Massachusetts</td>\n",
       "      <td>0</td>\n",
       "      <td>1</td>\n",
       "      <td>1</td>\n",
       "      <td>1</td>\n",
       "      <td>2</td>\n",
       "      <td>True</td>\n",
       "      <td>73.271076</td>\n",
       "      <td>5539703</td>\n",
       "      <td>6.743486</td>\n",
       "      <td>True</td>\n",
       "    </tr>\n",
       "    <tr>\n",
       "      <th>48</th>\n",
       "      <td>West Virginia</td>\n",
       "      <td>0</td>\n",
       "      <td>1</td>\n",
       "      <td>1</td>\n",
       "      <td>1</td>\n",
       "      <td>2</td>\n",
       "      <td>True</td>\n",
       "      <td>62.404892</td>\n",
       "      <td>1432580</td>\n",
       "      <td>6.156119</td>\n",
       "      <td>True</td>\n",
       "    </tr>\n",
       "    <tr>\n",
       "      <th>25</th>\n",
       "      <td>Missouri</td>\n",
       "      <td>0</td>\n",
       "      <td>1</td>\n",
       "      <td>0</td>\n",
       "      <td>0</td>\n",
       "      <td>2</td>\n",
       "      <td>True</td>\n",
       "      <td>61.298432</td>\n",
       "      <td>4766843</td>\n",
       "      <td>6.678231</td>\n",
       "      <td>True</td>\n",
       "    </tr>\n",
       "    <tr>\n",
       "      <th>23</th>\n",
       "      <td>Minnesota</td>\n",
       "      <td>0</td>\n",
       "      <td>1</td>\n",
       "      <td>1</td>\n",
       "      <td>0</td>\n",
       "      <td>1</td>\n",
       "      <td>True</td>\n",
       "      <td>61.294023</td>\n",
       "      <td>4336475</td>\n",
       "      <td>6.637137</td>\n",
       "      <td>True</td>\n",
       "    </tr>\n",
       "    <tr>\n",
       "      <th>34</th>\n",
       "      <td>North Dakota</td>\n",
       "      <td>1</td>\n",
       "      <td>1</td>\n",
       "      <td>1</td>\n",
       "      <td>0</td>\n",
       "      <td>2</td>\n",
       "      <td>True</td>\n",
       "      <td>53.961996</td>\n",
       "      <td>581891</td>\n",
       "      <td>5.764842</td>\n",
       "      <td>True</td>\n",
       "    </tr>\n",
       "    <tr>\n",
       "      <th>16</th>\n",
       "      <td>Kansas</td>\n",
       "      <td>0</td>\n",
       "      <td>1</td>\n",
       "      <td>1</td>\n",
       "      <td>0</td>\n",
       "      <td>1</td>\n",
       "      <td>True</td>\n",
       "      <td>51.602665</td>\n",
       "      <td>2213064</td>\n",
       "      <td>6.344994</td>\n",
       "      <td>True</td>\n",
       "    </tr>\n",
       "    <tr>\n",
       "      <th>3</th>\n",
       "      <td>Arkansas</td>\n",
       "      <td>0</td>\n",
       "      <td>1</td>\n",
       "      <td>1</td>\n",
       "      <td>0</td>\n",
       "      <td>1</td>\n",
       "      <td>True</td>\n",
       "      <td>50.223308</td>\n",
       "      <td>2317649</td>\n",
       "      <td>6.365048</td>\n",
       "      <td>True</td>\n",
       "    </tr>\n",
       "    <tr>\n",
       "      <th>47</th>\n",
       "      <td>Washington</td>\n",
       "      <td>0</td>\n",
       "      <td>1</td>\n",
       "      <td>1</td>\n",
       "      <td>0</td>\n",
       "      <td>1</td>\n",
       "      <td>True</td>\n",
       "      <td>50.186228</td>\n",
       "      <td>5951832</td>\n",
       "      <td>6.774651</td>\n",
       "      <td>True</td>\n",
       "    </tr>\n",
       "    <tr>\n",
       "      <th>12</th>\n",
       "      <td>Idaho</td>\n",
       "      <td>0</td>\n",
       "      <td>0</td>\n",
       "      <td>1</td>\n",
       "      <td>0</td>\n",
       "      <td>0</td>\n",
       "      <td>False</td>\n",
       "      <td>44.365970</td>\n",
       "      <td>1338864</td>\n",
       "      <td>6.126736</td>\n",
       "      <td>True</td>\n",
       "    </tr>\n",
       "    <tr>\n",
       "      <th>30</th>\n",
       "      <td>New Jersey</td>\n",
       "      <td>0</td>\n",
       "      <td>1</td>\n",
       "      <td>1</td>\n",
       "      <td>1</td>\n",
       "      <td>2</td>\n",
       "      <td>True</td>\n",
       "      <td>43.766846</td>\n",
       "      <td>6943612</td>\n",
       "      <td>6.841585</td>\n",
       "      <td>True</td>\n",
       "    </tr>\n",
       "    <tr>\n",
       "      <th>17</th>\n",
       "      <td>Kentucky</td>\n",
       "      <td>0</td>\n",
       "      <td>0</td>\n",
       "      <td>0</td>\n",
       "      <td>0</td>\n",
       "      <td>1</td>\n",
       "      <td>True</td>\n",
       "      <td>43.090485</td>\n",
       "      <td>3464802</td>\n",
       "      <td>6.539678</td>\n",
       "      <td>True</td>\n",
       "    </tr>\n",
       "    <tr>\n",
       "      <th>31</th>\n",
       "      <td>New Mexico</td>\n",
       "      <td>0</td>\n",
       "      <td>1</td>\n",
       "      <td>1</td>\n",
       "      <td>0</td>\n",
       "      <td>1</td>\n",
       "      <td>True</td>\n",
       "      <td>42.936697</td>\n",
       "      <td>1620991</td>\n",
       "      <td>6.209781</td>\n",
       "      <td>True</td>\n",
       "    </tr>\n",
       "    <tr>\n",
       "      <th>2</th>\n",
       "      <td>Arizona</td>\n",
       "      <td>0</td>\n",
       "      <td>1</td>\n",
       "      <td>1</td>\n",
       "      <td>0</td>\n",
       "      <td>1</td>\n",
       "      <td>True</td>\n",
       "      <td>42.263156</td>\n",
       "      <td>5638481</td>\n",
       "      <td>6.751162</td>\n",
       "      <td>True</td>\n",
       "    </tr>\n",
       "    <tr>\n",
       "      <th>37</th>\n",
       "      <td>Oregon</td>\n",
       "      <td>0</td>\n",
       "      <td>1</td>\n",
       "      <td>1</td>\n",
       "      <td>0</td>\n",
       "      <td>1</td>\n",
       "      <td>True</td>\n",
       "      <td>40.433579</td>\n",
       "      <td>3351175</td>\n",
       "      <td>6.525197</td>\n",
       "      <td>True</td>\n",
       "    </tr>\n",
       "    <tr>\n",
       "      <th>46</th>\n",
       "      <td>Virginia</td>\n",
       "      <td>0</td>\n",
       "      <td>1</td>\n",
       "      <td>1</td>\n",
       "      <td>0</td>\n",
       "      <td>1</td>\n",
       "      <td>True</td>\n",
       "      <td>37.724706</td>\n",
       "      <td>6674671</td>\n",
       "      <td>6.824430</td>\n",
       "      <td>True</td>\n",
       "    </tr>\n",
       "    <tr>\n",
       "      <th>44</th>\n",
       "      <td>Utah</td>\n",
       "      <td>0</td>\n",
       "      <td>1</td>\n",
       "      <td>1</td>\n",
       "      <td>0</td>\n",
       "      <td>1</td>\n",
       "      <td>True</td>\n",
       "      <td>36.179418</td>\n",
       "      <td>2274774</td>\n",
       "      <td>6.356938</td>\n",
       "      <td>True</td>\n",
       "    </tr>\n",
       "    <tr>\n",
       "      <th>38</th>\n",
       "      <td>Pennsylvania</td>\n",
       "      <td>0</td>\n",
       "      <td>1</td>\n",
       "      <td>1</td>\n",
       "      <td>1</td>\n",
       "      <td>2</td>\n",
       "      <td>True</td>\n",
       "      <td>32.496093</td>\n",
       "      <td>10167376</td>\n",
       "      <td>7.007209</td>\n",
       "      <td>True</td>\n",
       "    </tr>\n",
       "    <tr>\n",
       "      <th>5</th>\n",
       "      <td>Colorado</td>\n",
       "      <td>0</td>\n",
       "      <td>1</td>\n",
       "      <td>1</td>\n",
       "      <td>0</td>\n",
       "      <td>1</td>\n",
       "      <td>True</td>\n",
       "      <td>31.494369</td>\n",
       "      <td>4499217</td>\n",
       "      <td>6.653137</td>\n",
       "      <td>True</td>\n",
       "    </tr>\n",
       "  </tbody>\n",
       "</table>\n",
       "</div>"
      ],
      "text/plain": [
       "                   state  sdma  lra  ex_parte  docu_req  num_constraints  \\\n",
       "6            Connecticut     0    1         1         0                1   \n",
       "22              Michigan     0    0         1         0                0   \n",
       "27              Nebraska     0    1         1         0                1   \n",
       "45               Vermont     0    0         1         0                0   \n",
       "8   District of Columbia     1    1         1         0                2   \n",
       "29         New Hampshire     0    1         1         1                2   \n",
       "35                  Ohio     0    0         1         0                0   \n",
       "21         Massachusetts     0    1         1         1                2   \n",
       "48         West Virginia     0    1         1         1                2   \n",
       "25              Missouri     0    1         0         0                2   \n",
       "23             Minnesota     0    1         1         0                1   \n",
       "34          North Dakota     1    1         1         0                2   \n",
       "16                Kansas     0    1         1         0                1   \n",
       "3               Arkansas     0    1         1         0                1   \n",
       "47            Washington     0    1         1         0                1   \n",
       "12                 Idaho     0    0         1         0                0   \n",
       "30            New Jersey     0    1         1         1                2   \n",
       "17              Kentucky     0    0         0         0                1   \n",
       "31            New Mexico     0    1         1         0                1   \n",
       "2                Arizona     0    1         1         0                1   \n",
       "37                Oregon     0    1         1         0                1   \n",
       "46              Virginia     0    1         1         0                1   \n",
       "44                  Utah     0    1         1         0                1   \n",
       "38          Pennsylvania     0    1         1         1                2   \n",
       "5               Colorado     0    1         1         0                1   \n",
       "\n",
       "    has_constraint    per_100k  pop_adult  pop_adult_log10  in_sample  \n",
       "6             True  165.618513    2837847         6.452989       True  \n",
       "22           False  161.355637    7842924         6.894478       True  \n",
       "27            True  144.617077    1458334         6.163857       True  \n",
       "45           False  100.395307     509984         5.707557       True  \n",
       "8             True   99.553136     577581         5.761613       True  \n",
       "29            True   85.562330    1104458         6.043149       True  \n",
       "35           False   76.730741    9111081         6.959570       True  \n",
       "21            True   73.271076    5539703         6.743486       True  \n",
       "48            True   62.404892    1432580         6.156119       True  \n",
       "25            True   61.298432    4766843         6.678231       True  \n",
       "23            True   61.294023    4336475         6.637137       True  \n",
       "34            True   53.961996     581891         5.764842       True  \n",
       "16            True   51.602665    2213064         6.344994       True  \n",
       "3             True   50.223308    2317649         6.365048       True  \n",
       "47            True   50.186228    5951832         6.774651       True  \n",
       "12           False   44.365970    1338864         6.126736       True  \n",
       "30            True   43.766846    6943612         6.841585       True  \n",
       "17            True   43.090485    3464802         6.539678       True  \n",
       "31            True   42.936697    1620991         6.209781       True  \n",
       "2             True   42.263156    5638481         6.751162       True  \n",
       "37            True   40.433579    3351175         6.525197       True  \n",
       "46            True   37.724706    6674671         6.824430       True  \n",
       "44            True   36.179418    2274774         6.356938       True  \n",
       "38            True   32.496093   10167376         7.007209       True  \n",
       "5             True   31.494369    4499217         6.653137       True  "
      ]
     },
     "execution_count": 54,
     "metadata": {},
     "output_type": "execute_result"
    }
   ],
   "source": [
    "regimes = (\n",
    "    pd.read_csv(\"../data/raw/legal-regimes.csv\")\n",
    "    [[\n",
    "        \"state\",\n",
    "        \"sdma\",\n",
    "        \"lra\",\n",
    "        \"ex_parte\",\n",
    "        \"documentation_required\",\n",
    "    ]]\n",
    "    .rename(columns = {\"documentation_required\": \"docu_req\"})\n",
    "    .assign(\n",
    "        num_constraints = lambda df: (\n",
    "            df[\"sdma\"] + df[\"lra\"] + (df[\"ex_parte\"] == 0) + df[\"docu_req\"]\n",
    "        ),\n",
    "        has_constraint = lambda df: df[\"num_constraints\"] > 0\n",
    "    )\n",
    "    .merge(\n",
    "        latest_totals_adj\n",
    "        [[\n",
    "            \"state\",\n",
    "            \"per_100k\",\n",
    "        ]],\n",
    "        how = \"left\",\n",
    "    )\n",
    "    .merge(\n",
    "        populations\n",
    "        [[\n",
    "            \"state\",\n",
    "            \"pop_adult\",\n",
    "        ]],\n",
    "        how = \"left\"\n",
    "    )\n",
    "    .assign(\n",
    "        pop_adult_log10 = lambda df: df[\"pop_adult\"].apply(np.log10),\n",
    "        in_sample = lambda df: df[\"state\"].isin(latest_totals[\"state\"])\n",
    "    )\n",
    ")\n",
    "\n",
    "regimes.sort_values(\"per_100k\", ascending=False).dropna()"
   ]
  },
  {
   "cell_type": "markdown",
   "id": "4307d942",
   "metadata": {},
   "source": [
    "Jurisdictions outside our sample were roughly equally likely (~80%) to exhibit at least one of these four constraints (either `sdma==1`, `lra==1`, `documentation_required==1`, or `ex_parte==0`):"
   ]
  },
  {
   "cell_type": "code",
   "execution_count": 55,
   "id": "b1e33cca",
   "metadata": {
    "execution": {
     "iopub.execute_input": "2021-09-30T15:01:14.338129Z",
     "iopub.status.busy": "2021-09-30T15:01:14.334891Z",
     "iopub.status.idle": "2021-09-30T15:01:14.343052Z",
     "shell.execute_reply": "2021-09-30T15:01:14.343693Z"
    }
   },
   "outputs": [
    {
     "data": {
      "text/html": [
       "<div>\n",
       "<style scoped>\n",
       "    .dataframe tbody tr th:only-of-type {\n",
       "        vertical-align: middle;\n",
       "    }\n",
       "\n",
       "    .dataframe tbody tr th {\n",
       "        vertical-align: top;\n",
       "    }\n",
       "\n",
       "    .dataframe thead th {\n",
       "        text-align: right;\n",
       "    }\n",
       "</style>\n",
       "<table border=\"1\" class=\"dataframe\">\n",
       "  <thead>\n",
       "    <tr style=\"text-align: right;\">\n",
       "      <th>has_constraint</th>\n",
       "      <th>False</th>\n",
       "      <th>True</th>\n",
       "      <th>prop</th>\n",
       "    </tr>\n",
       "    <tr>\n",
       "      <th>in_sample</th>\n",
       "      <th></th>\n",
       "      <th></th>\n",
       "      <th></th>\n",
       "    </tr>\n",
       "  </thead>\n",
       "  <tbody>\n",
       "    <tr>\n",
       "      <th>False</th>\n",
       "      <td>6</td>\n",
       "      <td>20</td>\n",
       "      <td>0.769</td>\n",
       "    </tr>\n",
       "    <tr>\n",
       "      <th>True</th>\n",
       "      <td>4</td>\n",
       "      <td>21</td>\n",
       "      <td>0.840</td>\n",
       "    </tr>\n",
       "  </tbody>\n",
       "</table>\n",
       "</div>"
      ],
      "text/plain": [
       "has_constraint  False  True   prop\n",
       "in_sample                         \n",
       "False               6    20  0.769\n",
       "True                4    21  0.840"
      ]
     },
     "execution_count": 55,
     "metadata": {},
     "output_type": "execute_result"
    }
   ],
   "source": [
    "(    \n",
    "    regimes\n",
    "    .groupby([\"in_sample\"])\n",
    "    [\"has_constraint\"]\n",
    "    .value_counts(normalize=False)\n",
    "    .unstack()\n",
    "    .assign(prop = lambda df: (df[True] / df.sum(axis = 1)).round(3))\n",
    ")"
   ]
  },
  {
   "cell_type": "markdown",
   "id": "2a6ad029",
   "metadata": {},
   "source": [
    "... and both had a median of one constraint, though out-of-sample jurisdictions had slightly more total constraints on average:"
   ]
  },
  {
   "cell_type": "code",
   "execution_count": 56,
   "id": "ea83f1ec",
   "metadata": {
    "execution": {
     "iopub.execute_input": "2021-09-30T15:01:14.358184Z",
     "iopub.status.busy": "2021-09-30T15:01:14.356941Z",
     "iopub.status.idle": "2021-09-30T15:01:14.374330Z",
     "shell.execute_reply": "2021-09-30T15:01:14.375021Z"
    }
   },
   "outputs": [
    {
     "data": {
      "text/html": [
       "<div>\n",
       "<style scoped>\n",
       "    .dataframe tbody tr th:only-of-type {\n",
       "        vertical-align: middle;\n",
       "    }\n",
       "\n",
       "    .dataframe tbody tr th {\n",
       "        vertical-align: top;\n",
       "    }\n",
       "\n",
       "    .dataframe thead th {\n",
       "        text-align: right;\n",
       "    }\n",
       "</style>\n",
       "<table border=\"1\" class=\"dataframe\">\n",
       "  <thead>\n",
       "    <tr style=\"text-align: right;\">\n",
       "      <th></th>\n",
       "      <th>c_median</th>\n",
       "      <th>c_mean</th>\n",
       "    </tr>\n",
       "    <tr>\n",
       "      <th>in_sample</th>\n",
       "      <th></th>\n",
       "      <th></th>\n",
       "    </tr>\n",
       "  </thead>\n",
       "  <tbody>\n",
       "    <tr>\n",
       "      <th>False</th>\n",
       "      <td>1.0</td>\n",
       "      <td>1.423</td>\n",
       "    </tr>\n",
       "    <tr>\n",
       "      <th>True</th>\n",
       "      <td>1.0</td>\n",
       "      <td>1.160</td>\n",
       "    </tr>\n",
       "  </tbody>\n",
       "</table>\n",
       "</div>"
      ],
      "text/plain": [
       "           c_median  c_mean\n",
       "in_sample                  \n",
       "False           1.0   1.423\n",
       "True            1.0   1.160"
      ]
     },
     "execution_count": 56,
     "metadata": {},
     "output_type": "execute_result"
    }
   ],
   "source": [
    "(    \n",
    "    regimes\n",
    "    .groupby([\"in_sample\"])\n",
    "    .pipe(lambda grp: pd.DataFrame({\n",
    "        \"c_median\": grp[\"num_constraints\"].median(),\n",
    "        \"c_mean\": grp[\"num_constraints\"].mean().round(3),\n",
    "    }))\n",
    ")"
   ]
  },
  {
   "cell_type": "markdown",
   "id": "b3a8a0fe",
   "metadata": {},
   "source": [
    "The number of constraints, however, does not seem to be clearly predictive of per-capita filing rates, especially given how few jurisdictions fall into most buckets:"
   ]
  },
  {
   "cell_type": "code",
   "execution_count": 57,
   "id": "39ae4602",
   "metadata": {
    "execution": {
     "iopub.execute_input": "2021-09-30T15:01:14.382316Z",
     "iopub.status.busy": "2021-09-30T15:01:14.381076Z",
     "iopub.status.idle": "2021-09-30T15:01:14.447959Z",
     "shell.execute_reply": "2021-09-30T15:01:14.448418Z"
    }
   },
   "outputs": [
    {
     "data": {
      "text/html": [
       "<div>\n",
       "<style scoped>\n",
       "    .dataframe tbody tr th:only-of-type {\n",
       "        vertical-align: middle;\n",
       "    }\n",
       "\n",
       "    .dataframe tbody tr th {\n",
       "        vertical-align: top;\n",
       "    }\n",
       "\n",
       "    .dataframe thead th {\n",
       "        text-align: right;\n",
       "    }\n",
       "</style>\n",
       "<table border=\"1\" class=\"dataframe\">\n",
       "  <thead>\n",
       "    <tr style=\"text-align: right;\">\n",
       "      <th></th>\n",
       "      <th>count</th>\n",
       "      <th>mean</th>\n",
       "      <th>std</th>\n",
       "      <th>min</th>\n",
       "      <th>25%</th>\n",
       "      <th>50%</th>\n",
       "      <th>75%</th>\n",
       "      <th>max</th>\n",
       "    </tr>\n",
       "    <tr>\n",
       "      <th>num_constraints</th>\n",
       "      <th></th>\n",
       "      <th></th>\n",
       "      <th></th>\n",
       "      <th></th>\n",
       "      <th></th>\n",
       "      <th></th>\n",
       "      <th></th>\n",
       "      <th></th>\n",
       "    </tr>\n",
       "  </thead>\n",
       "  <tbody>\n",
       "    <tr>\n",
       "      <th>0</th>\n",
       "      <td>4.0</td>\n",
       "      <td>95.71</td>\n",
       "      <td>49.42</td>\n",
       "      <td>44.37</td>\n",
       "      <td>68.64</td>\n",
       "      <td>88.56</td>\n",
       "      <td>115.64</td>\n",
       "      <td>161.36</td>\n",
       "    </tr>\n",
       "    <tr>\n",
       "      <th>1</th>\n",
       "      <td>13.0</td>\n",
       "      <td>61.36</td>\n",
       "      <td>42.53</td>\n",
       "      <td>31.49</td>\n",
       "      <td>40.43</td>\n",
       "      <td>43.09</td>\n",
       "      <td>51.60</td>\n",
       "      <td>165.62</td>\n",
       "    </tr>\n",
       "    <tr>\n",
       "      <th>2</th>\n",
       "      <td>8.0</td>\n",
       "      <td>64.04</td>\n",
       "      <td>21.80</td>\n",
       "      <td>32.50</td>\n",
       "      <td>51.41</td>\n",
       "      <td>61.85</td>\n",
       "      <td>76.34</td>\n",
       "      <td>99.55</td>\n",
       "    </tr>\n",
       "    <tr>\n",
       "      <th>3</th>\n",
       "      <td>0.0</td>\n",
       "      <td>NaN</td>\n",
       "      <td>NaN</td>\n",
       "      <td>NaN</td>\n",
       "      <td>NaN</td>\n",
       "      <td>NaN</td>\n",
       "      <td>NaN</td>\n",
       "      <td>NaN</td>\n",
       "    </tr>\n",
       "  </tbody>\n",
       "</table>\n",
       "</div>"
      ],
      "text/plain": [
       "                 count   mean    std    min    25%    50%     75%     max\n",
       "num_constraints                                                          \n",
       "0                  4.0  95.71  49.42  44.37  68.64  88.56  115.64  161.36\n",
       "1                 13.0  61.36  42.53  31.49  40.43  43.09   51.60  165.62\n",
       "2                  8.0  64.04  21.80  32.50  51.41  61.85   76.34   99.55\n",
       "3                  0.0    NaN    NaN    NaN    NaN    NaN     NaN     NaN"
      ]
     },
     "execution_count": 57,
     "metadata": {},
     "output_type": "execute_result"
    }
   ],
   "source": [
    "(    \n",
    "    regimes\n",
    "    .groupby(\"num_constraints\")\n",
    "    [\"per_100k\"]\n",
    "    .describe()\n",
    "    .round(2)\n",
    ")"
   ]
  },
  {
   "cell_type": "markdown",
   "id": "cb4adaba",
   "metadata": {},
   "source": [
    "... and it is difficult to discern clear patterns from each individual constraint, in part because the comparisons each involve one very small grouping:"
   ]
  },
  {
   "cell_type": "code",
   "execution_count": 58,
   "id": "bd732b1e",
   "metadata": {
    "execution": {
     "iopub.execute_input": "2021-09-30T15:01:14.467918Z",
     "iopub.status.busy": "2021-09-30T15:01:14.456303Z",
     "iopub.status.idle": "2021-09-30T15:01:14.502378Z",
     "shell.execute_reply": "2021-09-30T15:01:14.502942Z"
    }
   },
   "outputs": [
    {
     "name": "stdout",
     "output_type": "stream",
     "text": [
      "=== sdma ===\n",
      "sdma        0      1\n",
      "count   23.00   2.00\n",
      "mean    66.93  76.76\n",
      "std     39.84  32.24\n",
      "min     31.49  53.96\n",
      "25%     42.60  65.36\n",
      "50%     50.22  76.76\n",
      "75%     75.00  88.16\n",
      "max    165.62  99.55\n",
      "\n",
      "=== lra ===\n",
      "lra         0       1\n",
      "count    5.00   20.00\n",
      "mean    85.19   63.34\n",
      "std     48.84   36.04\n",
      "min     43.09   31.49\n",
      "25%     44.37   41.81\n",
      "50%     76.73   50.91\n",
      "75%    100.40   65.12\n",
      "max    161.36  165.62\n",
      "\n",
      "=== ex_parte ===\n",
      "ex_parte      0       1\n",
      "count      2.00   23.00\n",
      "mean      52.19   69.06\n",
      "std       12.87   40.14\n",
      "min       43.09   31.49\n",
      "25%       47.64   42.60\n",
      "50%       52.19   51.60\n",
      "75%       56.75   81.15\n",
      "max       61.30  165.62\n",
      "\n",
      "=== docu_req ===\n",
      "docu_req       0      1\n",
      "count      20.00   5.00\n",
      "mean       69.77  59.50\n",
      "std        42.21  21.53\n",
      "min        31.49  32.50\n",
      "25%        42.77  43.77\n",
      "50%        50.91  62.40\n",
      "75%        82.44  73.27\n",
      "max       165.62  85.56\n",
      "\n"
     ]
    }
   ],
   "source": [
    "for col in [ \"sdma\", \"lra\", \"ex_parte\", \"docu_req\" ]:\n",
    "    print(f\"=== {col} ===\")\n",
    "    print(regimes.groupby(col)[\"per_100k\"].describe().T.round(2))\n",
    "    print(\"\")"
   ]
  },
  {
   "cell_type": "markdown",
   "id": "30d4b17f",
   "metadata": {},
   "source": [
    "# Appendix C: Examining spatial correlation\n",
    "\n",
    "Statisticians suggested that we also check for spatial correlation in our observations — i.e., do states near one another have a greater tendency to have similar rates?\n",
    "\n",
    "To do so, we compare each state's filing rate to those of its neighbors (states that share a border or corner):"
   ]
  },
  {
   "cell_type": "code",
   "execution_count": 59,
   "id": "6f817159",
   "metadata": {
    "execution": {
     "iopub.execute_input": "2021-09-30T15:01:14.507955Z",
     "iopub.status.busy": "2021-09-30T15:01:14.507364Z",
     "iopub.status.idle": "2021-09-30T15:01:14.519692Z",
     "shell.execute_reply": "2021-09-30T15:01:14.520192Z"
    }
   },
   "outputs": [
    {
     "data": {
      "text/html": [
       "<div>\n",
       "<style scoped>\n",
       "    .dataframe tbody tr th:only-of-type {\n",
       "        vertical-align: middle;\n",
       "    }\n",
       "\n",
       "    .dataframe tbody tr th {\n",
       "        vertical-align: top;\n",
       "    }\n",
       "\n",
       "    .dataframe thead th {\n",
       "        text-align: right;\n",
       "    }\n",
       "</style>\n",
       "<table border=\"1\" class=\"dataframe\">\n",
       "  <thead>\n",
       "    <tr style=\"text-align: right;\">\n",
       "      <th></th>\n",
       "      <th>state</th>\n",
       "      <th>neighbor</th>\n",
       "    </tr>\n",
       "  </thead>\n",
       "  <tbody>\n",
       "    <tr>\n",
       "      <th>0</th>\n",
       "      <td>Alabama</td>\n",
       "      <td>Florida</td>\n",
       "    </tr>\n",
       "    <tr>\n",
       "      <th>1</th>\n",
       "      <td>Alabama</td>\n",
       "      <td>Georgia</td>\n",
       "    </tr>\n",
       "    <tr>\n",
       "      <th>2</th>\n",
       "      <td>Alabama</td>\n",
       "      <td>Mississippi</td>\n",
       "    </tr>\n",
       "    <tr>\n",
       "      <th>3</th>\n",
       "      <td>Alabama</td>\n",
       "      <td>Tennessee</td>\n",
       "    </tr>\n",
       "    <tr>\n",
       "      <th>4</th>\n",
       "      <td>Arkansas</td>\n",
       "      <td>Louisiana</td>\n",
       "    </tr>\n",
       "  </tbody>\n",
       "</table>\n",
       "</div>"
      ],
      "text/plain": [
       "      state     neighbor\n",
       "0   Alabama      Florida\n",
       "1   Alabama      Georgia\n",
       "2   Alabama  Mississippi\n",
       "3   Alabama    Tennessee\n",
       "4  Arkansas    Louisiana"
      ]
     },
     "execution_count": 59,
     "metadata": {},
     "output_type": "execute_result"
    }
   ],
   "source": [
    "adjacencies = (\n",
    "    # Data source: https://gist.github.com/rietta/4112447\n",
    "    pd.read_csv(\"../data/raw/adjacent-states.csv\")\n",
    "    .assign(\n",
    "        state = lambda df: df[\"state\"].apply(states.lookup).astype(str),\n",
    "        neighbor = lambda df: df[\"neighbor\"].apply(states.lookup).astype(str),\n",
    "    )\n",
    ")    \n",
    "adjacencies.head()"
   ]
  },
  {
   "cell_type": "code",
   "execution_count": 60,
   "id": "f8d0b122",
   "metadata": {
    "execution": {
     "iopub.execute_input": "2021-09-30T15:01:14.526630Z",
     "iopub.status.busy": "2021-09-30T15:01:14.525856Z",
     "iopub.status.idle": "2021-09-30T15:01:14.528681Z",
     "shell.execute_reply": "2021-09-30T15:01:14.529205Z"
    }
   },
   "outputs": [],
   "source": [
    "def compare_neighbors(rates):\n",
    "    return (\n",
    "        rates\n",
    "        [[\n",
    "            \"state\",\n",
    "            \"per_100k\",\n",
    "        ]]\n",
    "        .rename(columns = { \"state\": \"neighbor\" })\n",
    "        .merge(\n",
    "            adjacencies,\n",
    "            on = \"neighbor\",\n",
    "            how = \"left\",\n",
    "        )\n",
    "        .groupby(\"state\")\n",
    "        .pipe(lambda grp: pd.DataFrame({\n",
    "            \"per_100k_neighbor_mean\": grp[\"per_100k\"].mean(),\n",
    "            \"neighbors\": grp[\"neighbor\"].apply(set).apply(sorted),\n",
    "        }))\n",
    "        .reset_index()\n",
    "        .pipe(lambda df: (\n",
    "            rates\n",
    "            [[\n",
    "                \"state\",\n",
    "                \"per_100k\",\n",
    "            ]]\n",
    "            .merge(\n",
    "                df,\n",
    "                how = \"left\",\n",
    "                on = \"state\",\n",
    "            )\n",
    "        ))\n",
    "        .dropna()\n",
    "    )"
   ]
  },
  {
   "cell_type": "code",
   "execution_count": 61,
   "id": "64f97c5a",
   "metadata": {
    "execution": {
     "iopub.execute_input": "2021-09-30T15:01:14.548515Z",
     "iopub.status.busy": "2021-09-30T15:01:14.540728Z",
     "iopub.status.idle": "2021-09-30T15:01:14.551071Z",
     "shell.execute_reply": "2021-09-30T15:01:14.551633Z"
    }
   },
   "outputs": [
    {
     "data": {
      "text/html": [
       "<div>\n",
       "<style scoped>\n",
       "    .dataframe tbody tr th:only-of-type {\n",
       "        vertical-align: middle;\n",
       "    }\n",
       "\n",
       "    .dataframe tbody tr th {\n",
       "        vertical-align: top;\n",
       "    }\n",
       "\n",
       "    .dataframe thead th {\n",
       "        text-align: right;\n",
       "    }\n",
       "</style>\n",
       "<table border=\"1\" class=\"dataframe\">\n",
       "  <thead>\n",
       "    <tr style=\"text-align: right;\">\n",
       "      <th></th>\n",
       "      <th>state</th>\n",
       "      <th>per_100k</th>\n",
       "      <th>per_100k_neighbor_mean</th>\n",
       "      <th>neighbors</th>\n",
       "    </tr>\n",
       "  </thead>\n",
       "  <tbody>\n",
       "    <tr>\n",
       "      <th>0</th>\n",
       "      <td>Arizona</td>\n",
       "      <td>42.263156</td>\n",
       "      <td>36.870162</td>\n",
       "      <td>[Colorado, New Mexico, Utah]</td>\n",
       "    </tr>\n",
       "    <tr>\n",
       "      <th>1</th>\n",
       "      <td>Arkansas</td>\n",
       "      <td>50.223308</td>\n",
       "      <td>61.298432</td>\n",
       "      <td>[Missouri]</td>\n",
       "    </tr>\n",
       "    <tr>\n",
       "      <th>2</th>\n",
       "      <td>Colorado</td>\n",
       "      <td>31.494369</td>\n",
       "      <td>63.519803</td>\n",
       "      <td>[Arizona, Kansas, Nebraska, New Mexico, Utah]</td>\n",
       "    </tr>\n",
       "    <tr>\n",
       "      <th>3</th>\n",
       "      <td>Connecticut</td>\n",
       "      <td>165.618513</td>\n",
       "      <td>73.271076</td>\n",
       "      <td>[Massachusetts]</td>\n",
       "    </tr>\n",
       "    <tr>\n",
       "      <th>4</th>\n",
       "      <td>District of Columbia</td>\n",
       "      <td>99.553136</td>\n",
       "      <td>37.724706</td>\n",
       "      <td>[Virginia]</td>\n",
       "    </tr>\n",
       "  </tbody>\n",
       "</table>\n",
       "</div>"
      ],
      "text/plain": [
       "                  state    per_100k  per_100k_neighbor_mean  \\\n",
       "0               Arizona   42.263156               36.870162   \n",
       "1              Arkansas   50.223308               61.298432   \n",
       "2              Colorado   31.494369               63.519803   \n",
       "3           Connecticut  165.618513               73.271076   \n",
       "4  District of Columbia   99.553136               37.724706   \n",
       "\n",
       "                                       neighbors  \n",
       "0                   [Colorado, New Mexico, Utah]  \n",
       "1                                     [Missouri]  \n",
       "2  [Arizona, Kansas, Nebraska, New Mexico, Utah]  \n",
       "3                                [Massachusetts]  \n",
       "4                                     [Virginia]  "
      ]
     },
     "execution_count": 61,
     "metadata": {},
     "output_type": "execute_result"
    }
   ],
   "source": [
    "neighbor_comparison = compare_neighbors(latest_totals)\n",
    "\n",
    "neighbor_comparison.head()"
   ]
  },
  {
   "cell_type": "markdown",
   "id": "c2e1595a",
   "metadata": {},
   "source": [
    "We see some correlation, but it does not reach the standard level of statistical significance — although, again, our sample size may simply be too small to detect it."
   ]
  },
  {
   "cell_type": "code",
   "execution_count": 62,
   "id": "9a73e837",
   "metadata": {
    "execution": {
     "iopub.execute_input": "2021-09-30T15:01:14.582852Z",
     "iopub.status.busy": "2021-09-30T15:01:14.579841Z",
     "iopub.status.idle": "2021-09-30T15:01:14.816017Z",
     "shell.execute_reply": "2021-09-30T15:01:14.816489Z"
    },
    "scrolled": true
   },
   "outputs": [
    {
     "data": {
      "image/png": "[encoded data removed]",
      "text/plain": [
       "<Figure size 432x288 with 1 Axes>"
      ]
     },
     "metadata": {},
     "output_type": "display_data"
    }
   ],
   "source": [
    "(\n",
    "    neighbor_comparison\n",
    "    .pipe(lambda df: sns.regplot(\n",
    "        y = df[\"per_100k\"],\n",
    "        x = df[\"per_100k_neighbor_mean\"],\n",
    "        truncate = False,\n",
    "        scatter_kws = { \"alpha\": 0.5 },\n",
    "    ))\n",
    ")\n",
    "pass"
   ]
  },
  {
   "cell_type": "code",
   "execution_count": 63,
   "id": "e1e6171e",
   "metadata": {
    "execution": {
     "iopub.execute_input": "2021-09-30T15:01:14.837290Z",
     "iopub.status.busy": "2021-09-30T15:01:14.821334Z",
     "iopub.status.idle": "2021-09-30T15:01:14.840667Z",
     "shell.execute_reply": "2021-09-30T15:01:14.841185Z"
    }
   },
   "outputs": [
    {
     "data": {
      "text/html": [
       "<table class=\"simpletable\">\n",
       "<caption>OLS Regression Results</caption>\n",
       "<tr>\n",
       "  <th>Dep. Variable:</th>        <td>per_100k</td>     <th>  R-squared:         </th> <td>   0.092</td>\n",
       "</tr>\n",
       "<tr>\n",
       "  <th>Model:</th>                   <td>OLS</td>       <th>  Adj. R-squared:    </th> <td>   0.052</td>\n",
       "</tr>\n",
       "<tr>\n",
       "  <th>Method:</th>             <td>Least Squares</td>  <th>  F-statistic:       </th> <td>   2.318</td>\n",
       "</tr>\n",
       "<tr>\n",
       "  <th>Date:</th>             <td>Thu, 30 Sep 2021</td> <th>  Prob (F-statistic):</th>  <td> 0.142</td> \n",
       "</tr>\n",
       "<tr>\n",
       "  <th>Time:</th>                 <td>10:01:14</td>     <th>  Log-Likelihood:    </th> <td> -125.22</td>\n",
       "</tr>\n",
       "<tr>\n",
       "  <th>No. Observations:</th>      <td>    25</td>      <th>  AIC:               </th> <td>   254.4</td>\n",
       "</tr>\n",
       "<tr>\n",
       "  <th>Df Residuals:</th>          <td>    23</td>      <th>  BIC:               </th> <td>   256.9</td>\n",
       "</tr>\n",
       "<tr>\n",
       "  <th>Df Model:</th>              <td>     1</td>      <th>                     </th>     <td> </td>   \n",
       "</tr>\n",
       "<tr>\n",
       "  <th>Covariance Type:</th>      <td>nonrobust</td>    <th>                     </th>     <td> </td>   \n",
       "</tr>\n",
       "</table>\n",
       "<table class=\"simpletable\">\n",
       "<tr>\n",
       "             <td></td>               <th>coef</th>     <th>std err</th>      <th>t</th>      <th>P>|t|</th>  <th>[0.025</th>    <th>0.975]</th>  \n",
       "</tr>\n",
       "<tr>\n",
       "  <th>const</th>                  <td>   32.2875</td> <td>   24.465</td> <td>    1.320</td> <td> 0.200</td> <td>  -18.322</td> <td>   82.897</td>\n",
       "</tr>\n",
       "<tr>\n",
       "  <th>per_100k_neighbor_mean</th> <td>    0.5903</td> <td>    0.388</td> <td>    1.522</td> <td> 0.142</td> <td>   -0.212</td> <td>    1.392</td>\n",
       "</tr>\n",
       "</table>\n",
       "<table class=\"simpletable\">\n",
       "<tr>\n",
       "  <th>Omnibus:</th>       <td>11.896</td> <th>  Durbin-Watson:     </th> <td>   2.007</td>\n",
       "</tr>\n",
       "<tr>\n",
       "  <th>Prob(Omnibus):</th> <td> 0.003</td> <th>  Jarque-Bera (JB):  </th> <td>  10.530</td>\n",
       "</tr>\n",
       "<tr>\n",
       "  <th>Skew:</th>          <td> 1.493</td> <th>  Prob(JB):          </th> <td> 0.00517</td>\n",
       "</tr>\n",
       "<tr>\n",
       "  <th>Kurtosis:</th>      <td> 4.093</td> <th>  Cond. No.          </th> <td>    204.</td>\n",
       "</tr>\n",
       "</table><br/><br/>Notes:<br/>[1] Standard Errors assume that the covariance matrix of the errors is correctly specified."
      ],
      "text/plain": [
       "<class 'statsmodels.iolib.summary.Summary'>\n",
       "\"\"\"\n",
       "                            OLS Regression Results                            \n",
       "==============================================================================\n",
       "Dep. Variable:               per_100k   R-squared:                       0.092\n",
       "Model:                            OLS   Adj. R-squared:                  0.052\n",
       "Method:                 Least Squares   F-statistic:                     2.318\n",
       "Date:                Thu, 30 Sep 2021   Prob (F-statistic):              0.142\n",
       "Time:                        10:01:14   Log-Likelihood:                -125.22\n",
       "No. Observations:                  25   AIC:                             254.4\n",
       "Df Residuals:                      23   BIC:                             256.9\n",
       "Df Model:                           1                                         \n",
       "Covariance Type:            nonrobust                                         \n",
       "==========================================================================================\n",
       "                             coef    std err          t      P>|t|      [0.025      0.975]\n",
       "------------------------------------------------------------------------------------------\n",
       "const                     32.2875     24.465      1.320      0.200     -18.322      82.897\n",
       "per_100k_neighbor_mean     0.5903      0.388      1.522      0.142      -0.212       1.392\n",
       "==============================================================================\n",
       "Omnibus:                       11.896   Durbin-Watson:                   2.007\n",
       "Prob(Omnibus):                  0.003   Jarque-Bera (JB):               10.530\n",
       "Skew:                           1.493   Prob(JB):                      0.00517\n",
       "Kurtosis:                       4.093   Cond. No.                         204.\n",
       "==============================================================================\n",
       "\n",
       "Notes:\n",
       "[1] Standard Errors assume that the covariance matrix of the errors is correctly specified.\n",
       "\"\"\""
      ]
     },
     "execution_count": 63,
     "metadata": {},
     "output_type": "execute_result"
    }
   ],
   "source": [
    "(\n",
    "    neighbor_comparison\n",
    "    .pipe(lambda df: (\n",
    "        sm.OLS(\n",
    "            df[\"per_100k\"],\n",
    "            sm.add_constant(df[\"per_100k_neighbor_mean\"]),\n",
    "        )\n",
    "     ))\n",
    "    .fit()\n",
    "    .summary()\n",
    ")"
   ]
  },
  {
   "cell_type": "markdown",
   "id": "45e3fd99",
   "metadata": {},
   "source": [
    "---\n",
    "\n",
    "---\n",
    "\n",
    "---"
   ]
  }
 ],
 "metadata": {
  "kernelspec": {
   "display_name": "Python 3 (ipykernel)",
   "language": "python",
   "name": "python3"
  },
  "language_info": {
   "codemirror_mode": {
    "name": "ipython",
    "version": 3
   },
   "file_extension": ".py",
   "mimetype": "text/x-python",
   "name": "python",
   "nbconvert_exporter": "python",
   "pygments_lexer": "ipython3",
   "version": "3.9.7"
  }
 },
 "nbformat": 4,
 "nbformat_minor": 5
}
