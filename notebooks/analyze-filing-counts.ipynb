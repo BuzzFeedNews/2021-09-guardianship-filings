{
 "cells": [
  {
   "cell_type": "markdown",
   "id": "05ac5b4b",
   "metadata": {},
   "source": [
    "# Estimating the national rate of guardianship filings\n",
    "\n",
    "This notebook attempts to estimate the number of guardianship cases filed annually, using data BuzzFeed News requested from all 50 US states and the District of Columbia. Data was not available from all states, and other states' data proved to be unusable, so we explore various approaches to extrapolating the national number from a limited sample. Please see this repository's landing page and/or `README.md` document for important details and methodological context."
   ]
  },
  {
   "cell_type": "code",
   "execution_count": 1,
   "id": "11bfa1f7",
   "metadata": {
    "execution": {
     "iopub.execute_input": "2021-09-15T18:32:19.418786Z",
     "iopub.status.busy": "2021-09-15T18:32:19.410586Z",
     "iopub.status.idle": "2021-09-15T18:32:26.424549Z",
     "shell.execute_reply": "2021-09-15T18:32:26.425258Z"
    }
   },
   "outputs": [],
   "source": [
    "import pandas as pd\n",
    "import numpy as np\n",
    "import random\n",
    "from us import states\n",
    "import statsmodels.api as sm\n",
    "from scipy.stats import nbinom\n",
    "import matplotlib.pyplot as plt\n",
    "import seaborn as sns\n",
    "import warnings\n",
    "warnings.filterwarnings(\"ignore\")\n",
    "sns.set()\n",
    "seed=sum(map(ord, \"BuzzFeed News\"))\n",
    "random.seed(seed)\n",
    "np.random.seed(seed)"
   ]
  },
  {
   "cell_type": "markdown",
   "id": "42693e91",
   "metadata": {},
   "source": [
    "# Load the guardianship data\n",
    "\n",
    "Here we load the guardianship filing counts we collected, for all years and disaggregated into several categories. See the `README.md` document for variable definitions."
   ]
  },
  {
   "cell_type": "code",
   "execution_count": 2,
   "id": "c515d7f1",
   "metadata": {
    "execution": {
     "iopub.execute_input": "2021-09-15T18:32:26.431141Z",
     "iopub.status.busy": "2021-09-15T18:32:26.429857Z",
     "iopub.status.idle": "2021-09-15T18:32:26.446552Z",
     "shell.execute_reply": "2021-09-15T18:32:26.446044Z"
    }
   },
   "outputs": [
    {
     "data": {
      "text/html": [
       "<div>\n",
       "<style scoped>\n",
       "    .dataframe tbody tr th:only-of-type {\n",
       "        vertical-align: middle;\n",
       "    }\n",
       "\n",
       "    .dataframe tbody tr th {\n",
       "        vertical-align: top;\n",
       "    }\n",
       "\n",
       "    .dataframe thead th {\n",
       "        text-align: right;\n",
       "    }\n",
       "</style>\n",
       "<table border=\"1\" class=\"dataframe\">\n",
       "  <thead>\n",
       "    <tr style=\"text-align: right;\">\n",
       "      <th></th>\n",
       "      <th>state</th>\n",
       "      <th>year</th>\n",
       "      <th>case_action</th>\n",
       "      <th>case_type</th>\n",
       "      <th>age_group</th>\n",
       "      <th>count</th>\n",
       "      <th>for_total</th>\n",
       "    </tr>\n",
       "  </thead>\n",
       "  <tbody>\n",
       "    <tr>\n",
       "      <th>0</th>\n",
       "      <td>Alaska</td>\n",
       "      <td>2020</td>\n",
       "      <td>Ambiguous</td>\n",
       "      <td>G+C+Joint</td>\n",
       "      <td>Adults+Minors</td>\n",
       "      <td>1171</td>\n",
       "      <td>Y</td>\n",
       "    </tr>\n",
       "    <tr>\n",
       "      <th>1</th>\n",
       "      <td>Alaska</td>\n",
       "      <td>2019</td>\n",
       "      <td>Ambiguous</td>\n",
       "      <td>G+C+Joint</td>\n",
       "      <td>Adults+Minors</td>\n",
       "      <td>1084</td>\n",
       "      <td>Y</td>\n",
       "    </tr>\n",
       "    <tr>\n",
       "      <th>2</th>\n",
       "      <td>Alaska</td>\n",
       "      <td>2018</td>\n",
       "      <td>Ambiguous</td>\n",
       "      <td>G+C+Joint</td>\n",
       "      <td>Adults+Minors</td>\n",
       "      <td>1227</td>\n",
       "      <td>Y</td>\n",
       "    </tr>\n",
       "    <tr>\n",
       "      <th>3</th>\n",
       "      <td>Alaska</td>\n",
       "      <td>2017</td>\n",
       "      <td>Ambiguous</td>\n",
       "      <td>G+C+Joint</td>\n",
       "      <td>Adults+Minors</td>\n",
       "      <td>1090</td>\n",
       "      <td>Y</td>\n",
       "    </tr>\n",
       "    <tr>\n",
       "      <th>4</th>\n",
       "      <td>Arizona</td>\n",
       "      <td>2020</td>\n",
       "      <td>Ambiguous</td>\n",
       "      <td>Guardianship ONLY</td>\n",
       "      <td>Adults ONLY</td>\n",
       "      <td>2520</td>\n",
       "      <td>Y</td>\n",
       "    </tr>\n",
       "  </tbody>\n",
       "</table>\n",
       "</div>"
      ],
      "text/plain": [
       "     state  year case_action          case_type      age_group  count  \\\n",
       "0   Alaska  2020   Ambiguous          G+C+Joint  Adults+Minors   1171   \n",
       "1   Alaska  2019   Ambiguous          G+C+Joint  Adults+Minors   1084   \n",
       "2   Alaska  2018   Ambiguous          G+C+Joint  Adults+Minors   1227   \n",
       "3   Alaska  2017   Ambiguous          G+C+Joint  Adults+Minors   1090   \n",
       "4  Arizona  2020   Ambiguous  Guardianship ONLY    Adults ONLY   2520   \n",
       "\n",
       "  for_total  \n",
       "0         Y  \n",
       "1         Y  \n",
       "2         Y  \n",
       "3         Y  \n",
       "4         Y  "
      ]
     },
     "execution_count": 2,
     "metadata": {},
     "output_type": "execute_result"
    }
   ],
   "source": [
    "counts = pd.read_csv(\"../data/raw/filing-counts.csv\")\n",
    "counts.head()"
   ]
  },
  {
   "cell_type": "code",
   "execution_count": 3,
   "id": "6c3fbcbc",
   "metadata": {
    "execution": {
     "iopub.execute_input": "2021-09-15T18:32:26.451359Z",
     "iopub.status.busy": "2021-09-15T18:32:26.450695Z",
     "iopub.status.idle": "2021-09-15T18:32:26.453092Z",
     "shell.execute_reply": "2021-09-15T18:32:26.453514Z"
    }
   },
   "outputs": [
    {
     "data": {
      "text/plain": [
       "380"
      ]
     },
     "execution_count": 3,
     "metadata": {},
     "output_type": "execute_result"
    }
   ],
   "source": [
    "len(counts)"
   ]
  },
  {
   "cell_type": "code",
   "execution_count": 4,
   "id": "40f9df14",
   "metadata": {
    "execution": {
     "iopub.execute_input": "2021-09-15T18:32:26.461370Z",
     "iopub.status.busy": "2021-09-15T18:32:26.460554Z",
     "iopub.status.idle": "2021-09-15T18:32:26.463778Z",
     "shell.execute_reply": "2021-09-15T18:32:26.464335Z"
    }
   },
   "outputs": [
    {
     "data": {
      "text/plain": [
       "37"
      ]
     },
     "execution_count": 4,
     "metadata": {},
     "output_type": "execute_result"
    }
   ],
   "source": [
    "counts[\"state\"].nunique()"
   ]
  },
  {
   "cell_type": "markdown",
   "id": "15a41ed8",
   "metadata": {},
   "source": [
    "Although we've collected data from most states, only 23 jurisdictions (22 states plus the District of Columbia) have data fully usable for generating annual totals of *adult* guardianship filings. See the `README.md` document for more details."
   ]
  },
  {
   "cell_type": "code",
   "execution_count": 5,
   "id": "eaa4c493",
   "metadata": {
    "execution": {
     "iopub.execute_input": "2021-09-15T18:32:26.473308Z",
     "iopub.status.busy": "2021-09-15T18:32:26.472505Z",
     "iopub.status.idle": "2021-09-15T18:32:26.475313Z",
     "shell.execute_reply": "2021-09-15T18:32:26.475800Z"
    }
   },
   "outputs": [
    {
     "data": {
      "text/plain": [
       "23"
      ]
     },
     "execution_count": 5,
     "metadata": {},
     "output_type": "execute_result"
    }
   ],
   "source": [
    "(\n",
    "    counts\n",
    "    .loc[lambda df: df[\"for_total\"] == \"Y\"]\n",
    "    .loc[lambda df: df[\"age_group\"] == \"Adults ONLY\"]\n",
    "    [\"state\"]\n",
    "    .nunique()\n",
    ")"
   ]
  },
  {
   "cell_type": "markdown",
   "id": "4ba4fa63",
   "metadata": {},
   "source": [
    "# Examine years available\n",
    "\n",
    "All usable jurisdictions have data for 2019, and all but one for 2018. (And although we have collected data for 2020 for many states, we will generally ignore it due to the likelihood that the COVID-19 pandemic affected filing rates.)"
   ]
  },
  {
   "cell_type": "code",
   "execution_count": 6,
   "id": "90ad44ef",
   "metadata": {
    "execution": {
     "iopub.execute_input": "2021-09-15T18:32:26.485090Z",
     "iopub.status.busy": "2021-09-15T18:32:26.484022Z",
     "iopub.status.idle": "2021-09-15T18:32:26.490179Z",
     "shell.execute_reply": "2021-09-15T18:32:26.490618Z"
    }
   },
   "outputs": [
    {
     "data": {
      "text/plain": [
       "year\n",
       "2016     7\n",
       "2017    14\n",
       "2018    22\n",
       "2019    23\n",
       "2020    19\n",
       "Name: state, dtype: int64"
      ]
     },
     "execution_count": 6,
     "metadata": {},
     "output_type": "execute_result"
    }
   ],
   "source": [
    "(\n",
    "    counts\n",
    "    .loc[lambda df: df[\"for_total\"] == \"Y\"]\n",
    "    .loc[lambda df: df[\"age_group\"] == \"Adults ONLY\"]\n",
    "    .groupby([\"year\"])\n",
    "    [\"state\"]\n",
    "    .nunique()\n",
    "    .sort_index()\n",
    ")"
   ]
  },
  {
   "cell_type": "markdown",
   "id": "74b7c3fc",
   "metadata": {},
   "source": [
    "Here we identify the latest year of usable data available for each jurisdiction. In this case, all values are `2019`, but the approach implemented in this code allows for flexibility when/if the data changes."
   ]
  },
  {
   "cell_type": "code",
   "execution_count": 7,
   "id": "d52a13b4",
   "metadata": {
    "execution": {
     "iopub.execute_input": "2021-09-15T18:32:26.505656Z",
     "iopub.status.busy": "2021-09-15T18:32:26.501041Z",
     "iopub.status.idle": "2021-09-15T18:32:26.508609Z",
     "shell.execute_reply": "2021-09-15T18:32:26.509035Z"
    }
   },
   "outputs": [
    {
     "data": {
      "text/html": [
       "<div>\n",
       "<style scoped>\n",
       "    .dataframe tbody tr th:only-of-type {\n",
       "        vertical-align: middle;\n",
       "    }\n",
       "\n",
       "    .dataframe tbody tr th {\n",
       "        vertical-align: top;\n",
       "    }\n",
       "\n",
       "    .dataframe thead th {\n",
       "        text-align: right;\n",
       "    }\n",
       "</style>\n",
       "<table border=\"1\" class=\"dataframe\">\n",
       "  <thead>\n",
       "    <tr style=\"text-align: right;\">\n",
       "      <th></th>\n",
       "      <th>state</th>\n",
       "      <th>year_max</th>\n",
       "    </tr>\n",
       "  </thead>\n",
       "  <tbody>\n",
       "    <tr>\n",
       "      <th>0</th>\n",
       "      <td>Arizona</td>\n",
       "      <td>2019</td>\n",
       "    </tr>\n",
       "    <tr>\n",
       "      <th>1</th>\n",
       "      <td>Arkansas</td>\n",
       "      <td>2019</td>\n",
       "    </tr>\n",
       "    <tr>\n",
       "      <th>2</th>\n",
       "      <td>Colorado</td>\n",
       "      <td>2019</td>\n",
       "    </tr>\n",
       "    <tr>\n",
       "      <th>3</th>\n",
       "      <td>Connecticut</td>\n",
       "      <td>2019</td>\n",
       "    </tr>\n",
       "    <tr>\n",
       "      <th>4</th>\n",
       "      <td>District of Columbia</td>\n",
       "      <td>2019</td>\n",
       "    </tr>\n",
       "    <tr>\n",
       "      <th>5</th>\n",
       "      <td>Idaho</td>\n",
       "      <td>2019</td>\n",
       "    </tr>\n",
       "    <tr>\n",
       "      <th>6</th>\n",
       "      <td>Kansas</td>\n",
       "      <td>2019</td>\n",
       "    </tr>\n",
       "    <tr>\n",
       "      <th>7</th>\n",
       "      <td>Kentucky</td>\n",
       "      <td>2019</td>\n",
       "    </tr>\n",
       "    <tr>\n",
       "      <th>8</th>\n",
       "      <td>Massachusetts</td>\n",
       "      <td>2019</td>\n",
       "    </tr>\n",
       "    <tr>\n",
       "      <th>9</th>\n",
       "      <td>Michigan</td>\n",
       "      <td>2019</td>\n",
       "    </tr>\n",
       "    <tr>\n",
       "      <th>10</th>\n",
       "      <td>Minnesota</td>\n",
       "      <td>2019</td>\n",
       "    </tr>\n",
       "    <tr>\n",
       "      <th>11</th>\n",
       "      <td>Missouri</td>\n",
       "      <td>2019</td>\n",
       "    </tr>\n",
       "    <tr>\n",
       "      <th>12</th>\n",
       "      <td>Nebraska</td>\n",
       "      <td>2019</td>\n",
       "    </tr>\n",
       "    <tr>\n",
       "      <th>13</th>\n",
       "      <td>New Hampshire</td>\n",
       "      <td>2019</td>\n",
       "    </tr>\n",
       "    <tr>\n",
       "      <th>14</th>\n",
       "      <td>New Mexico</td>\n",
       "      <td>2019</td>\n",
       "    </tr>\n",
       "    <tr>\n",
       "      <th>15</th>\n",
       "      <td>North Dakota</td>\n",
       "      <td>2019</td>\n",
       "    </tr>\n",
       "    <tr>\n",
       "      <th>16</th>\n",
       "      <td>Ohio</td>\n",
       "      <td>2019</td>\n",
       "    </tr>\n",
       "    <tr>\n",
       "      <th>17</th>\n",
       "      <td>Oregon</td>\n",
       "      <td>2019</td>\n",
       "    </tr>\n",
       "    <tr>\n",
       "      <th>18</th>\n",
       "      <td>Pennsylvania</td>\n",
       "      <td>2019</td>\n",
       "    </tr>\n",
       "    <tr>\n",
       "      <th>19</th>\n",
       "      <td>Utah</td>\n",
       "      <td>2019</td>\n",
       "    </tr>\n",
       "    <tr>\n",
       "      <th>20</th>\n",
       "      <td>Vermont</td>\n",
       "      <td>2019</td>\n",
       "    </tr>\n",
       "    <tr>\n",
       "      <th>21</th>\n",
       "      <td>Virginia</td>\n",
       "      <td>2019</td>\n",
       "    </tr>\n",
       "    <tr>\n",
       "      <th>22</th>\n",
       "      <td>Washington</td>\n",
       "      <td>2019</td>\n",
       "    </tr>\n",
       "  </tbody>\n",
       "</table>\n",
       "</div>"
      ],
      "text/plain": [
       "                   state  year_max\n",
       "0                Arizona      2019\n",
       "1               Arkansas      2019\n",
       "2               Colorado      2019\n",
       "3            Connecticut      2019\n",
       "4   District of Columbia      2019\n",
       "5                  Idaho      2019\n",
       "6                 Kansas      2019\n",
       "7               Kentucky      2019\n",
       "8          Massachusetts      2019\n",
       "9               Michigan      2019\n",
       "10             Minnesota      2019\n",
       "11              Missouri      2019\n",
       "12              Nebraska      2019\n",
       "13         New Hampshire      2019\n",
       "14            New Mexico      2019\n",
       "15          North Dakota      2019\n",
       "16                  Ohio      2019\n",
       "17                Oregon      2019\n",
       "18          Pennsylvania      2019\n",
       "19                  Utah      2019\n",
       "20               Vermont      2019\n",
       "21              Virginia      2019\n",
       "22            Washington      2019"
      ]
     },
     "execution_count": 7,
     "metadata": {},
     "output_type": "execute_result"
    }
   ],
   "source": [
    "states_latest_year = (\n",
    "    counts\n",
    "    .loc[lambda df: df[\"for_total\"] == \"Y\"]\n",
    "    .loc[lambda df: df[\"age_group\"] == \"Adults ONLY\"]\n",
    "    .loc[lambda df: df[\"year\"] < 2020]\n",
    "    .groupby([\"state\"])\n",
    "    [\"year\"].max()\n",
    "    .to_frame(\"year_max\")\n",
    "    .reset_index()\n",
    ")\n",
    "\n",
    "states_latest_year"
   ]
  },
  {
   "cell_type": "code",
   "execution_count": 8,
   "id": "8d99c09c",
   "metadata": {
    "execution": {
     "iopub.execute_input": "2021-09-15T18:32:26.517062Z",
     "iopub.status.busy": "2021-09-15T18:32:26.516188Z",
     "iopub.status.idle": "2021-09-15T18:32:26.519075Z",
     "shell.execute_reply": "2021-09-15T18:32:26.519494Z"
    }
   },
   "outputs": [
    {
     "data": {
      "text/plain": [
       "2019    23\n",
       "Name: year_max, dtype: int64"
      ]
     },
     "execution_count": 8,
     "metadata": {},
     "output_type": "execute_result"
    }
   ],
   "source": [
    "states_latest_year[\"year_max\"].value_counts()"
   ]
  },
  {
   "cell_type": "markdown",
   "id": "4409a3eb",
   "metadata": {},
   "source": [
    "Using the table above, we select *just* the counts belonging to each jurisdiction's most recent year:"
   ]
  },
  {
   "cell_type": "code",
   "execution_count": 9,
   "id": "393aa91e",
   "metadata": {
    "execution": {
     "iopub.execute_input": "2021-09-15T18:32:26.542251Z",
     "iopub.status.busy": "2021-09-15T18:32:26.541516Z",
     "iopub.status.idle": "2021-09-15T18:32:26.544331Z",
     "shell.execute_reply": "2021-09-15T18:32:26.544751Z"
    }
   },
   "outputs": [
    {
     "data": {
      "text/html": [
       "<div>\n",
       "<style scoped>\n",
       "    .dataframe tbody tr th:only-of-type {\n",
       "        vertical-align: middle;\n",
       "    }\n",
       "\n",
       "    .dataframe tbody tr th {\n",
       "        vertical-align: top;\n",
       "    }\n",
       "\n",
       "    .dataframe thead th {\n",
       "        text-align: right;\n",
       "    }\n",
       "</style>\n",
       "<table border=\"1\" class=\"dataframe\">\n",
       "  <thead>\n",
       "    <tr style=\"text-align: right;\">\n",
       "      <th></th>\n",
       "      <th>state</th>\n",
       "      <th>year</th>\n",
       "      <th>case_action</th>\n",
       "      <th>case_type</th>\n",
       "      <th>age_group</th>\n",
       "      <th>count</th>\n",
       "      <th>for_total</th>\n",
       "    </tr>\n",
       "  </thead>\n",
       "  <tbody>\n",
       "    <tr>\n",
       "      <th>8</th>\n",
       "      <td>Arizona</td>\n",
       "      <td>2019</td>\n",
       "      <td>Ambiguous</td>\n",
       "      <td>Guardianship ONLY</td>\n",
       "      <td>Adults ONLY</td>\n",
       "      <td>2383</td>\n",
       "      <td>Y</td>\n",
       "    </tr>\n",
       "    <tr>\n",
       "      <th>9</th>\n",
       "      <td>Arizona</td>\n",
       "      <td>2019</td>\n",
       "      <td>Ambiguous</td>\n",
       "      <td>Guardianship ONLY</td>\n",
       "      <td>Minors ONLY</td>\n",
       "      <td>3608</td>\n",
       "      <td>N</td>\n",
       "    </tr>\n",
       "    <tr>\n",
       "      <th>10</th>\n",
       "      <td>Arizona</td>\n",
       "      <td>2019</td>\n",
       "      <td>Ambiguous</td>\n",
       "      <td>Conservatorship ONLY</td>\n",
       "      <td>Adults ONLY</td>\n",
       "      <td>4003</td>\n",
       "      <td>N</td>\n",
       "    </tr>\n",
       "    <tr>\n",
       "      <th>11</th>\n",
       "      <td>Arizona</td>\n",
       "      <td>2019</td>\n",
       "      <td>Ambiguous</td>\n",
       "      <td>Conservatorship ONLY</td>\n",
       "      <td>Minors ONLY</td>\n",
       "      <td>1334</td>\n",
       "      <td>N</td>\n",
       "    </tr>\n",
       "    <tr>\n",
       "      <th>19</th>\n",
       "      <td>Arkansas</td>\n",
       "      <td>2019</td>\n",
       "      <td>Ambiguous</td>\n",
       "      <td>G+C+Joint</td>\n",
       "      <td>Adults ONLY</td>\n",
       "      <td>1164</td>\n",
       "      <td>Y</td>\n",
       "    </tr>\n",
       "  </tbody>\n",
       "</table>\n",
       "</div>"
      ],
      "text/plain": [
       "       state  year case_action             case_type    age_group  count  \\\n",
       "8    Arizona  2019   Ambiguous     Guardianship ONLY  Adults ONLY   2383   \n",
       "9    Arizona  2019   Ambiguous     Guardianship ONLY  Minors ONLY   3608   \n",
       "10   Arizona  2019   Ambiguous  Conservatorship ONLY  Adults ONLY   4003   \n",
       "11   Arizona  2019   Ambiguous  Conservatorship ONLY  Minors ONLY   1334   \n",
       "19  Arkansas  2019   Ambiguous             G+C+Joint  Adults ONLY   1164   \n",
       "\n",
       "   for_total  \n",
       "8          Y  \n",
       "9          N  \n",
       "10         N  \n",
       "11         N  \n",
       "19         Y  "
      ]
     },
     "execution_count": 9,
     "metadata": {},
     "output_type": "execute_result"
    }
   ],
   "source": [
    "latest = (\n",
    "    counts\n",
    "    .pipe(lambda df: (\n",
    "        df\n",
    "        .merge(\n",
    "            states_latest_year,\n",
    "            how = \"left\",\n",
    "            on = \"state\",\n",
    "        )\n",
    "    ))\n",
    "    .loc[lambda df: df[\"year\"] == df[\"year_max\"]]\n",
    "    .drop(columns = [\"year_max\"])\n",
    ")\n",
    "\n",
    "latest.head()"
   ]
  },
  {
   "cell_type": "code",
   "execution_count": 10,
   "id": "e59bd4c5",
   "metadata": {
    "execution": {
     "iopub.execute_input": "2021-09-15T18:32:26.549221Z",
     "iopub.status.busy": "2021-09-15T18:32:26.548460Z",
     "iopub.status.idle": "2021-09-15T18:32:26.553625Z",
     "shell.execute_reply": "2021-09-15T18:32:26.554110Z"
    }
   },
   "outputs": [],
   "source": [
    "latest.to_csv(\"../data/processed/latest-counts.csv\", index=False)"
   ]
  },
  {
   "cell_type": "markdown",
   "id": "3df68181",
   "metadata": {},
   "source": [
    "# Load population data"
   ]
  },
  {
   "cell_type": "markdown",
   "id": "815f079c",
   "metadata": {},
   "source": [
    "In order to get per-capita rates, we'll need popuation data. Here we use the [Census Population Estimates Program's estimates for 2019](https://www2.census.gov/programs-surveys/popest/tables/2010-2019/state/detail/SCPRC-EST2019-18+POP-RES.xlsx), overall and for age 18+:"
   ]
  },
  {
   "cell_type": "code",
   "execution_count": 11,
   "id": "36523615",
   "metadata": {
    "execution": {
     "iopub.execute_input": "2021-09-15T18:32:26.559926Z",
     "iopub.status.busy": "2021-09-15T18:32:26.559193Z",
     "iopub.status.idle": "2021-09-15T18:32:27.209156Z",
     "shell.execute_reply": "2021-09-15T18:32:27.209790Z"
    }
   },
   "outputs": [
    {
     "data": {
      "text/html": [
       "<div>\n",
       "<style scoped>\n",
       "    .dataframe tbody tr th:only-of-type {\n",
       "        vertical-align: middle;\n",
       "    }\n",
       "\n",
       "    .dataframe tbody tr th {\n",
       "        vertical-align: top;\n",
       "    }\n",
       "\n",
       "    .dataframe thead th {\n",
       "        text-align: right;\n",
       "    }\n",
       "</style>\n",
       "<table border=\"1\" class=\"dataframe\">\n",
       "  <thead>\n",
       "    <tr style=\"text-align: right;\">\n",
       "      <th></th>\n",
       "      <th>state</th>\n",
       "      <th>pop_total</th>\n",
       "      <th>pop_adult</th>\n",
       "    </tr>\n",
       "  </thead>\n",
       "  <tbody>\n",
       "    <tr>\n",
       "      <th>0</th>\n",
       "      <td>Alabama</td>\n",
       "      <td>4903185</td>\n",
       "      <td>3814879</td>\n",
       "    </tr>\n",
       "    <tr>\n",
       "      <th>1</th>\n",
       "      <td>Alaska</td>\n",
       "      <td>731545</td>\n",
       "      <td>551562</td>\n",
       "    </tr>\n",
       "    <tr>\n",
       "      <th>2</th>\n",
       "      <td>Arizona</td>\n",
       "      <td>7278717</td>\n",
       "      <td>5638481</td>\n",
       "    </tr>\n",
       "    <tr>\n",
       "      <th>3</th>\n",
       "      <td>Arkansas</td>\n",
       "      <td>3017804</td>\n",
       "      <td>2317649</td>\n",
       "    </tr>\n",
       "    <tr>\n",
       "      <th>4</th>\n",
       "      <td>California</td>\n",
       "      <td>39512223</td>\n",
       "      <td>30617582</td>\n",
       "    </tr>\n",
       "    <tr>\n",
       "      <th>5</th>\n",
       "      <td>Colorado</td>\n",
       "      <td>5758736</td>\n",
       "      <td>4499217</td>\n",
       "    </tr>\n",
       "    <tr>\n",
       "      <th>6</th>\n",
       "      <td>Connecticut</td>\n",
       "      <td>3565287</td>\n",
       "      <td>2837847</td>\n",
       "    </tr>\n",
       "    <tr>\n",
       "      <th>7</th>\n",
       "      <td>Delaware</td>\n",
       "      <td>973764</td>\n",
       "      <td>770192</td>\n",
       "    </tr>\n",
       "    <tr>\n",
       "      <th>8</th>\n",
       "      <td>District of Columbia</td>\n",
       "      <td>705749</td>\n",
       "      <td>577581</td>\n",
       "    </tr>\n",
       "    <tr>\n",
       "      <th>9</th>\n",
       "      <td>Florida</td>\n",
       "      <td>21477737</td>\n",
       "      <td>17247808</td>\n",
       "    </tr>\n",
       "  </tbody>\n",
       "</table>\n",
       "</div>"
      ],
      "text/plain": [
       "                  state  pop_total  pop_adult\n",
       "0               Alabama    4903185    3814879\n",
       "1                Alaska     731545     551562\n",
       "2               Arizona    7278717    5638481\n",
       "3              Arkansas    3017804    2317649\n",
       "4            California   39512223   30617582\n",
       "5              Colorado    5758736    4499217\n",
       "6           Connecticut    3565287    2837847\n",
       "7              Delaware     973764     770192\n",
       "8  District of Columbia     705749     577581\n",
       "9               Florida   21477737   17247808"
      ]
     },
     "execution_count": 11,
     "metadata": {},
     "output_type": "execute_result"
    }
   ],
   "source": [
    "populations = (\n",
    "    pd.read_excel(\n",
    "        \"../data/raw/census-populations-2019.xlsx\",\n",
    "        header=None,\n",
    "        skiprows=9,\n",
    "        skipfooter=7,\n",
    "        names = [ \"state\", \"pop_total\", \"pop_adult\", \"pct\" ],\n",
    "        dtype = {\n",
    "            \"pop_total\": int,\n",
    "            \"pop_adult\": int,\n",
    "        }\n",
    "    )\n",
    "    .drop(columns = [ \"pct\" ])\n",
    "    .assign(\n",
    "        state = lambda df: df[\"state\"].str.replace(r\"^\\.\", \"\", regex=True),\n",
    "    )\n",
    ")\n",
    "\n",
    "populations.head(10)"
   ]
  },
  {
   "cell_type": "code",
   "execution_count": 12,
   "id": "77bfd124",
   "metadata": {
    "execution": {
     "iopub.execute_input": "2021-09-15T18:32:27.215225Z",
     "iopub.status.busy": "2021-09-15T18:32:27.214421Z",
     "iopub.status.idle": "2021-09-15T18:32:27.217619Z",
     "shell.execute_reply": "2021-09-15T18:32:27.217121Z"
    }
   },
   "outputs": [
    {
     "data": {
      "text/plain": [
       "51"
      ]
     },
     "execution_count": 12,
     "metadata": {},
     "output_type": "execute_result"
    }
   ],
   "source": [
    "len(populations)"
   ]
  },
  {
   "cell_type": "code",
   "execution_count": 13,
   "id": "ba4c8e0d",
   "metadata": {
    "execution": {
     "iopub.execute_input": "2021-09-15T18:32:27.222226Z",
     "iopub.status.busy": "2021-09-15T18:32:27.221519Z",
     "iopub.status.idle": "2021-09-15T18:32:27.223224Z",
     "shell.execute_reply": "2021-09-15T18:32:27.223837Z"
    }
   },
   "outputs": [],
   "source": [
    "# Check that our state names match the Census's\n",
    "assert len(set(counts[\"state\"]) - set(populations[\"state\"])) == 0"
   ]
  },
  {
   "cell_type": "markdown",
   "id": "77e074b6",
   "metadata": {},
   "source": [
    "# Total the total-able data, and calculate per capita rates\n",
    "\n",
    "We merge the adult populations with the case count data and, for each jurisdiction and year, sum all `count`s where `for_total` is `\"Y\"` and `age_group` is `Adults ONLY`. Then we calculate the rate of filings per 100,000 adult residents."
   ]
  },
  {
   "cell_type": "code",
   "execution_count": 14,
   "id": "b1c80475",
   "metadata": {
    "execution": {
     "iopub.execute_input": "2021-09-15T18:32:27.229567Z",
     "iopub.status.busy": "2021-09-15T18:32:27.228917Z",
     "iopub.status.idle": "2021-09-15T18:32:27.231342Z",
     "shell.execute_reply": "2021-09-15T18:32:27.231797Z"
    }
   },
   "outputs": [],
   "source": [
    "def get_totals_and_rates(subset):\n",
    "    return (\n",
    "        subset\n",
    "        .groupby([\"state\", \"year\"])\n",
    "        [\"count\"]\n",
    "        .sum()\n",
    "        .to_frame(\"total\")\n",
    "        .reset_index()\n",
    "        .merge(\n",
    "            populations\n",
    "            [[\n",
    "                \"state\",\n",
    "                \"pop_adult\",\n",
    "            ]],\n",
    "            how = \"left\",\n",
    "            on = \"state\"\n",
    "        )\n",
    "        .assign(\n",
    "            per_100k = lambda df: df[\"total\"] / (df[\"pop_adult\"] / 1e5)\n",
    "        )\n",
    "    )"
   ]
  },
  {
   "cell_type": "code",
   "execution_count": 15,
   "id": "144b5f4c",
   "metadata": {
    "execution": {
     "iopub.execute_input": "2021-09-15T18:32:27.248053Z",
     "iopub.status.busy": "2021-09-15T18:32:27.246135Z",
     "iopub.status.idle": "2021-09-15T18:32:27.268436Z",
     "shell.execute_reply": "2021-09-15T18:32:27.269136Z"
    }
   },
   "outputs": [
    {
     "data": {
      "text/html": [
       "<div>\n",
       "<style scoped>\n",
       "    .dataframe tbody tr th:only-of-type {\n",
       "        vertical-align: middle;\n",
       "    }\n",
       "\n",
       "    .dataframe tbody tr th {\n",
       "        vertical-align: top;\n",
       "    }\n",
       "\n",
       "    .dataframe thead th {\n",
       "        text-align: right;\n",
       "    }\n",
       "</style>\n",
       "<table border=\"1\" class=\"dataframe\">\n",
       "  <thead>\n",
       "    <tr style=\"text-align: right;\">\n",
       "      <th></th>\n",
       "      <th>state</th>\n",
       "      <th>year</th>\n",
       "      <th>total</th>\n",
       "      <th>pop_adult</th>\n",
       "      <th>per_100k</th>\n",
       "    </tr>\n",
       "  </thead>\n",
       "  <tbody>\n",
       "    <tr>\n",
       "      <th>3</th>\n",
       "      <td>Connecticut</td>\n",
       "      <td>2019</td>\n",
       "      <td>4700</td>\n",
       "      <td>2837847</td>\n",
       "      <td>165.618513</td>\n",
       "    </tr>\n",
       "    <tr>\n",
       "      <th>9</th>\n",
       "      <td>Michigan</td>\n",
       "      <td>2019</td>\n",
       "      <td>12655</td>\n",
       "      <td>7842924</td>\n",
       "      <td>161.355637</td>\n",
       "    </tr>\n",
       "    <tr>\n",
       "      <th>12</th>\n",
       "      <td>Nebraska</td>\n",
       "      <td>2019</td>\n",
       "      <td>2109</td>\n",
       "      <td>1458334</td>\n",
       "      <td>144.617077</td>\n",
       "    </tr>\n",
       "    <tr>\n",
       "      <th>20</th>\n",
       "      <td>Vermont</td>\n",
       "      <td>2019</td>\n",
       "      <td>512</td>\n",
       "      <td>509984</td>\n",
       "      <td>100.395307</td>\n",
       "    </tr>\n",
       "    <tr>\n",
       "      <th>4</th>\n",
       "      <td>District of Columbia</td>\n",
       "      <td>2019</td>\n",
       "      <td>575</td>\n",
       "      <td>577581</td>\n",
       "      <td>99.553136</td>\n",
       "    </tr>\n",
       "    <tr>\n",
       "      <th>13</th>\n",
       "      <td>New Hampshire</td>\n",
       "      <td>2019</td>\n",
       "      <td>945</td>\n",
       "      <td>1104458</td>\n",
       "      <td>85.562330</td>\n",
       "    </tr>\n",
       "    <tr>\n",
       "      <th>16</th>\n",
       "      <td>Ohio</td>\n",
       "      <td>2019</td>\n",
       "      <td>6991</td>\n",
       "      <td>9111081</td>\n",
       "      <td>76.730741</td>\n",
       "    </tr>\n",
       "    <tr>\n",
       "      <th>8</th>\n",
       "      <td>Massachusetts</td>\n",
       "      <td>2019</td>\n",
       "      <td>4059</td>\n",
       "      <td>5539703</td>\n",
       "      <td>73.271076</td>\n",
       "    </tr>\n",
       "    <tr>\n",
       "      <th>11</th>\n",
       "      <td>Missouri</td>\n",
       "      <td>2019</td>\n",
       "      <td>2922</td>\n",
       "      <td>4766843</td>\n",
       "      <td>61.298432</td>\n",
       "    </tr>\n",
       "    <tr>\n",
       "      <th>10</th>\n",
       "      <td>Minnesota</td>\n",
       "      <td>2019</td>\n",
       "      <td>2658</td>\n",
       "      <td>4336475</td>\n",
       "      <td>61.294023</td>\n",
       "    </tr>\n",
       "    <tr>\n",
       "      <th>15</th>\n",
       "      <td>North Dakota</td>\n",
       "      <td>2019</td>\n",
       "      <td>314</td>\n",
       "      <td>581891</td>\n",
       "      <td>53.961996</td>\n",
       "    </tr>\n",
       "    <tr>\n",
       "      <th>6</th>\n",
       "      <td>Kansas</td>\n",
       "      <td>2019</td>\n",
       "      <td>1142</td>\n",
       "      <td>2213064</td>\n",
       "      <td>51.602665</td>\n",
       "    </tr>\n",
       "    <tr>\n",
       "      <th>1</th>\n",
       "      <td>Arkansas</td>\n",
       "      <td>2019</td>\n",
       "      <td>1164</td>\n",
       "      <td>2317649</td>\n",
       "      <td>50.223308</td>\n",
       "    </tr>\n",
       "    <tr>\n",
       "      <th>22</th>\n",
       "      <td>Washington</td>\n",
       "      <td>2019</td>\n",
       "      <td>2987</td>\n",
       "      <td>5951832</td>\n",
       "      <td>50.186228</td>\n",
       "    </tr>\n",
       "    <tr>\n",
       "      <th>5</th>\n",
       "      <td>Idaho</td>\n",
       "      <td>2019</td>\n",
       "      <td>594</td>\n",
       "      <td>1338864</td>\n",
       "      <td>44.365970</td>\n",
       "    </tr>\n",
       "    <tr>\n",
       "      <th>7</th>\n",
       "      <td>Kentucky</td>\n",
       "      <td>2019</td>\n",
       "      <td>1493</td>\n",
       "      <td>3464802</td>\n",
       "      <td>43.090485</td>\n",
       "    </tr>\n",
       "    <tr>\n",
       "      <th>14</th>\n",
       "      <td>New Mexico</td>\n",
       "      <td>2019</td>\n",
       "      <td>696</td>\n",
       "      <td>1620991</td>\n",
       "      <td>42.936697</td>\n",
       "    </tr>\n",
       "    <tr>\n",
       "      <th>0</th>\n",
       "      <td>Arizona</td>\n",
       "      <td>2019</td>\n",
       "      <td>2383</td>\n",
       "      <td>5638481</td>\n",
       "      <td>42.263156</td>\n",
       "    </tr>\n",
       "    <tr>\n",
       "      <th>17</th>\n",
       "      <td>Oregon</td>\n",
       "      <td>2019</td>\n",
       "      <td>1355</td>\n",
       "      <td>3351175</td>\n",
       "      <td>40.433579</td>\n",
       "    </tr>\n",
       "    <tr>\n",
       "      <th>21</th>\n",
       "      <td>Virginia</td>\n",
       "      <td>2019</td>\n",
       "      <td>2518</td>\n",
       "      <td>6674671</td>\n",
       "      <td>37.724706</td>\n",
       "    </tr>\n",
       "    <tr>\n",
       "      <th>19</th>\n",
       "      <td>Utah</td>\n",
       "      <td>2019</td>\n",
       "      <td>823</td>\n",
       "      <td>2274774</td>\n",
       "      <td>36.179418</td>\n",
       "    </tr>\n",
       "    <tr>\n",
       "      <th>18</th>\n",
       "      <td>Pennsylvania</td>\n",
       "      <td>2019</td>\n",
       "      <td>3304</td>\n",
       "      <td>10167376</td>\n",
       "      <td>32.496093</td>\n",
       "    </tr>\n",
       "    <tr>\n",
       "      <th>2</th>\n",
       "      <td>Colorado</td>\n",
       "      <td>2019</td>\n",
       "      <td>1417</td>\n",
       "      <td>4499217</td>\n",
       "      <td>31.494369</td>\n",
       "    </tr>\n",
       "  </tbody>\n",
       "</table>\n",
       "</div>"
      ],
      "text/plain": [
       "                   state  year  total  pop_adult    per_100k\n",
       "3            Connecticut  2019   4700    2837847  165.618513\n",
       "9               Michigan  2019  12655    7842924  161.355637\n",
       "12              Nebraska  2019   2109    1458334  144.617077\n",
       "20               Vermont  2019    512     509984  100.395307\n",
       "4   District of Columbia  2019    575     577581   99.553136\n",
       "13         New Hampshire  2019    945    1104458   85.562330\n",
       "16                  Ohio  2019   6991    9111081   76.730741\n",
       "8          Massachusetts  2019   4059    5539703   73.271076\n",
       "11              Missouri  2019   2922    4766843   61.298432\n",
       "10             Minnesota  2019   2658    4336475   61.294023\n",
       "15          North Dakota  2019    314     581891   53.961996\n",
       "6                 Kansas  2019   1142    2213064   51.602665\n",
       "1               Arkansas  2019   1164    2317649   50.223308\n",
       "22            Washington  2019   2987    5951832   50.186228\n",
       "5                  Idaho  2019    594    1338864   44.365970\n",
       "7               Kentucky  2019   1493    3464802   43.090485\n",
       "14            New Mexico  2019    696    1620991   42.936697\n",
       "0                Arizona  2019   2383    5638481   42.263156\n",
       "17                Oregon  2019   1355    3351175   40.433579\n",
       "21              Virginia  2019   2518    6674671   37.724706\n",
       "19                  Utah  2019    823    2274774   36.179418\n",
       "18          Pennsylvania  2019   3304   10167376   32.496093\n",
       "2               Colorado  2019   1417    4499217   31.494369"
      ]
     },
     "execution_count": 15,
     "metadata": {},
     "output_type": "execute_result"
    }
   ],
   "source": [
    "latest_totals = get_totals_and_rates(\n",
    "    latest\n",
    "    .loc[lambda df: df[\"for_total\"] == \"Y\"]\n",
    "    .loc[lambda df: df[\"age_group\"] == \"Adults ONLY\"]\n",
    ")\n",
    "\n",
    "latest_totals.sort_values(\"per_100k\", ascending=False)"
   ]
  },
  {
   "cell_type": "code",
   "execution_count": 16,
   "id": "a4145225",
   "metadata": {
    "execution": {
     "iopub.execute_input": "2021-09-15T18:32:27.273957Z",
     "iopub.status.busy": "2021-09-15T18:32:27.272859Z",
     "iopub.status.idle": "2021-09-15T18:32:27.276804Z",
     "shell.execute_reply": "2021-09-15T18:32:27.276244Z"
    }
   },
   "outputs": [
    {
     "data": {
      "text/plain": [
       "23"
      ]
     },
     "execution_count": 16,
     "metadata": {},
     "output_type": "execute_result"
    }
   ],
   "source": [
    "len(latest_totals)"
   ]
  },
  {
   "cell_type": "markdown",
   "id": "a903fcea",
   "metadata": {},
   "source": [
    "How many filings do these jurisdictions account for?:"
   ]
  },
  {
   "cell_type": "code",
   "execution_count": 17,
   "id": "08b9ded4",
   "metadata": {
    "execution": {
     "iopub.execute_input": "2021-09-15T18:32:27.282016Z",
     "iopub.status.busy": "2021-09-15T18:32:27.280830Z",
     "iopub.status.idle": "2021-09-15T18:32:27.283831Z",
     "shell.execute_reply": "2021-09-15T18:32:27.284257Z"
    }
   },
   "outputs": [
    {
     "name": "stdout",
     "output_type": "stream",
     "text": [
      "58316\n"
     ]
    }
   ],
   "source": [
    "known_total = latest_totals[\"total\"].sum()\n",
    "print(known_total)"
   ]
  },
  {
   "cell_type": "markdown",
   "id": "0154cac4",
   "metadata": {},
   "source": [
    "What proportion of the full adult population (of the 50 states and DC) do these jurisdictions account for?:"
   ]
  },
  {
   "cell_type": "code",
   "execution_count": 18,
   "id": "5add95db",
   "metadata": {
    "execution": {
     "iopub.execute_input": "2021-09-15T18:32:27.292931Z",
     "iopub.status.busy": "2021-09-15T18:32:27.292072Z",
     "iopub.status.idle": "2021-09-15T18:32:27.294598Z",
     "shell.execute_reply": "2021-09-15T18:32:27.295270Z"
    }
   },
   "outputs": [
    {
     "data": {
      "text/plain": [
       "0.346"
      ]
     },
     "execution_count": 18,
     "metadata": {},
     "output_type": "execute_result"
    }
   ],
   "source": [
    "(\n",
    "    (\n",
    "        populations\n",
    "        .loc[lambda df: df[\"state\"].isin(latest_totals[\"state\"])]\n",
    "        [\"pop_adult\"]\n",
    "        .sum() / populations[\"pop_adult\"].sum()\n",
    "    ) \n",
    "    .round(3)   \n",
    ")"
   ]
  },
  {
   "cell_type": "markdown",
   "id": "6758a3cb",
   "metadata": {},
   "source": [
    "And here we isolate the states for which we don't have usable totals:"
   ]
  },
  {
   "cell_type": "code",
   "execution_count": 19,
   "id": "e34e0726",
   "metadata": {
    "execution": {
     "iopub.execute_input": "2021-09-15T18:32:27.301541Z",
     "iopub.status.busy": "2021-09-15T18:32:27.300793Z",
     "iopub.status.idle": "2021-09-15T18:32:27.303850Z",
     "shell.execute_reply": "2021-09-15T18:32:27.304367Z"
    }
   },
   "outputs": [
    {
     "data": {
      "text/plain": [
       "28"
      ]
     },
     "execution_count": 19,
     "metadata": {},
     "output_type": "execute_result"
    }
   ],
   "source": [
    "not_counted = (\n",
    "    populations\n",
    "    .loc[~populations[\"state\"].isin(latest_totals[\"state\"])]\n",
    ")\n",
    "\n",
    "len(not_counted)"
   ]
  },
  {
   "cell_type": "markdown",
   "id": "bf67c8a4",
   "metadata": {},
   "source": [
    "# Examine the distribution of per capita filing rates\n",
    "\n",
    "To get an overview of our data, we examine some basic metrics (mean, median, range, standard deviation) of the filing rates:"
   ]
  },
  {
   "cell_type": "code",
   "execution_count": 20,
   "id": "c7d07457",
   "metadata": {
    "execution": {
     "iopub.execute_input": "2021-09-15T18:32:27.311741Z",
     "iopub.status.busy": "2021-09-15T18:32:27.310920Z",
     "iopub.status.idle": "2021-09-15T18:32:27.316907Z",
     "shell.execute_reply": "2021-09-15T18:32:27.317330Z"
    }
   },
   "outputs": [
    {
     "data": {
      "text/plain": [
       "count     23.000000\n",
       "mean      68.984998\n",
       "std       40.165010\n",
       "min       31.494369\n",
       "25%       42.599926\n",
       "50%       51.602665\n",
       "75%       81.146536\n",
       "max      165.618513\n",
       "Name: per_100k, dtype: float64"
      ]
     },
     "execution_count": 20,
     "metadata": {},
     "output_type": "execute_result"
    }
   ],
   "source": [
    "(\n",
    "    latest_totals\n",
    "    [\"per_100k\"]\n",
    "    .describe()\n",
    ")"
   ]
  },
  {
   "cell_type": "markdown",
   "id": "5dca5a45",
   "metadata": {},
   "source": [
    "... and create a histogram of the distribution:"
   ]
  },
  {
   "cell_type": "code",
   "execution_count": 21,
   "id": "d1865f30",
   "metadata": {
    "execution": {
     "iopub.execute_input": "2021-09-15T18:32:27.322159Z",
     "iopub.status.busy": "2021-09-15T18:32:27.321144Z",
     "iopub.status.idle": "2021-09-15T18:32:27.323258Z",
     "shell.execute_reply": "2021-09-15T18:32:27.323678Z"
    }
   },
   "outputs": [],
   "source": [
    "bin_width = 40\n",
    "bin_max = 250\n",
    "bin_count = int(bin_max / bin_width)\n",
    "bins = np.arange(0, bin_max, bin_width)"
   ]
  },
  {
   "cell_type": "code",
   "execution_count": 22,
   "id": "b87a1e34",
   "metadata": {
    "execution": {
     "iopub.execute_input": "2021-09-15T18:32:27.328315Z",
     "iopub.status.busy": "2021-09-15T18:32:27.327657Z",
     "iopub.status.idle": "2021-09-15T18:32:27.567725Z",
     "shell.execute_reply": "2021-09-15T18:32:27.568382Z"
    }
   },
   "outputs": [
    {
     "data": {
      "image/png": "[encoded data removed]",
      "text/plain": [
       "<Figure size 432x288 with 1 Axes>"
      ]
     },
     "metadata": {},
     "output_type": "display_data"
    }
   ],
   "source": [
    "ax = (\n",
    "    latest_totals\n",
    "    [\"per_100k\"]\n",
    "    .hist(bins=bins)\n",
    ")\n",
    "plt.xticks(bins)\n",
    "ax.set_xlabel(\"Cases per 100k Adults\")\n",
    "ax.set_ylabel(\"# States\")\n",
    "pass"
   ]
  },
  {
   "cell_type": "markdown",
   "id": "f4f65502",
   "metadata": {},
   "source": [
    "# Generating simple national estimates\n",
    "\n",
    "A simple approach to estimating the number of cases filed nationally in 2019 would be to multiply the *overall* filing rate per capita in the jurisdictions for which we have totals and to multiply it by the total adult population in all 50 states and DC (shortened below to the \"total US adult population,\" although please note that this number excludes US territories):"
   ]
  },
  {
   "cell_type": "code",
   "execution_count": 23,
   "id": "9ddb85b7",
   "metadata": {
    "execution": {
     "iopub.execute_input": "2021-09-15T18:32:27.573741Z",
     "iopub.status.busy": "2021-09-15T18:32:27.572957Z",
     "iopub.status.idle": "2021-09-15T18:32:27.576584Z",
     "shell.execute_reply": "2021-09-15T18:32:27.577031Z"
    }
   },
   "outputs": [
    {
     "data": {
      "text/plain": [
       "168771"
      ]
     },
     "execution_count": 23,
     "metadata": {},
     "output_type": "execute_result"
    }
   ],
   "source": [
    "round(\n",
    "    (latest_totals[\"total\"].sum() / latest_totals[\"pop_adult\"].sum()) * \n",
    "    populations[\"pop_adult\"].sum() \n",
    ")"
   ]
  },
  {
   "cell_type": "markdown",
   "id": "62a72018",
   "metadata": {},
   "source": [
    "Alternatively, but in the same vein, we could apply the *average state filing rate* to the total US adult population — an approach that mirrors [the methodology applied](https://www.eldersandcourts.org/__data/assets/pdf_file/0021/5844/ovc-brief-7.pdf) (see p. 4) by the National Center for State Courts to a survey of 2015 adult guardianship/conservatorship filings in 16 states, which resulted in a nearly identical figure (\"an estimated 180,000,\" [elsewhere summarized](http://web.archive.org/web/20170906012840/https://www.ncsc.org/Newsroom/Backgrounder/2016/Guardianship.aspx) as \"176,000\"):"
   ]
  },
  {
   "cell_type": "code",
   "execution_count": 24,
   "id": "ed072a68",
   "metadata": {
    "execution": {
     "iopub.execute_input": "2021-09-15T18:32:27.582179Z",
     "iopub.status.busy": "2021-09-15T18:32:27.581421Z",
     "iopub.status.idle": "2021-09-15T18:32:27.584170Z",
     "shell.execute_reply": "2021-09-15T18:32:27.584795Z"
    }
   },
   "outputs": [
    {
     "data": {
      "text/plain": [
       "176050"
      ]
     },
     "execution_count": 24,
     "metadata": {},
     "output_type": "execute_result"
    }
   ],
   "source": [
    "round(\n",
    "    (latest_totals[\"per_100k\"].mean() * populations[\"pop_adult\"].sum() / 1e5))"
   ]
  },
  {
   "cell_type": "markdown",
   "id": "051604ef",
   "metadata": {},
   "source": [
    "... or apply that average rate *only to the remaining states*, which reduces the estimate slightly:"
   ]
  },
  {
   "cell_type": "code",
   "execution_count": 25,
   "id": "4af79bd2",
   "metadata": {
    "execution": {
     "iopub.execute_input": "2021-09-15T18:32:27.590570Z",
     "iopub.status.busy": "2021-09-15T18:32:27.589181Z",
     "iopub.status.idle": "2021-09-15T18:32:27.592426Z",
     "shell.execute_reply": "2021-09-15T18:32:27.592840Z"
    }
   },
   "outputs": [
    {
     "data": {
      "text/plain": [
       "173535"
      ]
     },
     "execution_count": 25,
     "metadata": {},
     "output_type": "execute_result"
    }
   ],
   "source": [
    "round(\n",
    "    (latest_totals[\"per_100k\"].mean() * not_counted[\"pop_adult\"].sum() / 1e5)\n",
    "    + known_total\n",
    ")"
   ]
  },
  {
   "cell_type": "markdown",
   "id": "81314c66",
   "metadata": {},
   "source": [
    "These approaches may provide useful ballpark estimates but they also have some key disadvantages — mainly that they produce only single-number estimates, with no sense of how widely the range of actual possibilities may be.\n",
    "\n",
    "The first approach also gives more weight to the larger states we have observed, because they account for more of the population in the sample."
   ]
  },
  {
   "cell_type": "markdown",
   "id": "812ceceb",
   "metadata": {},
   "source": [
    "# Bootstrapping a national estimate\n",
    "\n",
    "Another approach we can take, to incorporate the uncertainty involved in the extrapolations, is to \"bootstrap\" a distribution of estimates for the remaining states. This method hypothetically assigns each of those states to one of the per capita filing rates we have observed (selected at random), calculates what the total would be for each of those state-rate combinations, and then sums up the total. Finally, we add each hypothetical's total for the those states to our known total."
   ]
  },
  {
   "cell_type": "code",
   "execution_count": 26,
   "id": "7c5215c0",
   "metadata": {
    "execution": {
     "iopub.execute_input": "2021-09-15T18:32:27.600181Z",
     "iopub.status.busy": "2021-09-15T18:32:27.599418Z",
     "iopub.status.idle": "2021-09-15T18:32:27.601299Z",
     "shell.execute_reply": "2021-09-15T18:32:27.601726Z"
    }
   },
   "outputs": [],
   "source": [
    "def gen_random_items(pool, n):\n",
    "    return [ random.choice(list(pool)) for _ in range(n) ]\n",
    "\n",
    "def gen_random_estimate(populations, rates):\n",
    "    rand_rates = gen_random_items(rates, len(populations))\n",
    "    return (populations * rand_rates).sum()\n",
    "\n",
    "def bootstrap(populations, rates, n=1e4):\n",
    "    return pd.Series(gen_random_estimate(populations, rates) for _ in range(int(n)))\n",
    "\n",
    "def describe(series):\n",
    "    return (\n",
    "        series\n",
    "        .describe(percentiles=[0.025, 0.25, 0.5, 0.75, 0.975])\n",
    "        .astype(int)\n",
    "    )\n",
    "\n",
    "def hist(series):\n",
    "    return (\n",
    "        series\n",
    "        .hist(\n",
    "            bins=np.arange(1e5, 3.1e5, int(1e4)),\n",
    "            alpha=0.5\n",
    "        )\n",
    "    )"
   ]
  },
  {
   "cell_type": "markdown",
   "id": "925b0278",
   "metadata": {},
   "source": [
    "Basic statistics about the resulting range of estimates:"
   ]
  },
  {
   "cell_type": "code",
   "execution_count": 27,
   "id": "28c8bb63",
   "metadata": {
    "execution": {
     "iopub.execute_input": "2021-09-15T18:32:27.690959Z",
     "iopub.status.busy": "2021-09-15T18:32:27.650817Z",
     "iopub.status.idle": "2021-09-15T18:32:31.375464Z",
     "shell.execute_reply": "2021-09-15T18:32:31.376186Z"
    }
   },
   "outputs": [
    {
     "data": {
      "text/plain": [
       "count     10000\n",
       "mean     173618\n",
       "std       19294\n",
       "min      127230\n",
       "2.5%     142919\n",
       "25%      158982\n",
       "50%      171300\n",
       "75%      186030\n",
       "97.5%    216686\n",
       "max      249941\n",
       "dtype: int64"
      ]
     },
     "execution_count": 27,
     "metadata": {},
     "output_type": "execute_result"
    }
   ],
   "source": [
    "bootstrapped_not_counted = bootstrap(\n",
    "    not_counted[\"pop_adult\"] / 1e5,\n",
    "    latest_totals[\"per_100k\"],\n",
    "    n = 1e4\n",
    ")\n",
    "\n",
    "describe(bootstrapped_not_counted + known_total)"
   ]
  },
  {
   "cell_type": "markdown",
   "id": "362ebe94",
   "metadata": {},
   "source": [
    "... and a histogram of of them:"
   ]
  },
  {
   "cell_type": "code",
   "execution_count": 28,
   "id": "44ac5c00",
   "metadata": {
    "execution": {
     "iopub.execute_input": "2021-09-15T18:32:31.398392Z",
     "iopub.status.busy": "2021-09-15T18:32:31.397780Z",
     "iopub.status.idle": "2021-09-15T18:32:31.641595Z",
     "shell.execute_reply": "2021-09-15T18:32:31.642324Z"
    }
   },
   "outputs": [
    {
     "data": {
      "image/png": "[encoded data removed]",
      "text/plain": [
       "<Figure size 432x288 with 1 Axes>"
      ]
     },
     "metadata": {},
     "output_type": "display_data"
    }
   ],
   "source": [
    "hist(bootstrapped_not_counted + known_total);"
   ]
  },
  {
   "cell_type": "markdown",
   "id": "20182653",
   "metadata": {},
   "source": [
    "# Modeling the counts through the negative binomial distribution\n",
    "\n",
    "The data collected represents a finite number of observations. If we had infinitely many states' of data, what might this distribution look like? We can \"model\" this by fitting the observed data to a statistical distribution that aligns — conceptually and empirically — with what we've seen.\n",
    "\n",
    "A reasonable candidate is the [negative binomial distribution](https://en.wikipedia.org/wiki/Negative_binomial_distribution), which statisticians often use to model count-based metrics and which in this case appears to match our observations reasonably well. Below we estimate the parameters for our negative binomial distribution, based on our *observed* per capita rates' mean and variance, and overlay it on our observed distribution in two ways:\n",
    "\n",
    "- A smooth line representing the negative binomial's [probability mass function](https://en.wikipedia.org/wiki/Probability_mass_function)\n",
    "\n",
    "- A histogram representing 10,000 hypothetical observations randomly generated from the negative binomial"
   ]
  },
  {
   "cell_type": "code",
   "execution_count": 29,
   "id": "b147876d",
   "metadata": {
    "execution": {
     "iopub.execute_input": "2021-09-15T18:32:31.649878Z",
     "iopub.status.busy": "2021-09-15T18:32:31.648857Z",
     "iopub.status.idle": "2021-09-15T18:32:31.653732Z",
     "shell.execute_reply": "2021-09-15T18:32:31.654665Z"
    }
   },
   "outputs": [],
   "source": [
    "def calculate_nbinom_np(rates):\n",
    "    mean = rates.mean()\n",
    "    variance = rates.var()\n",
    "    n = pow(mean, 2) / (variance - mean)\n",
    "    p = mean / variance\n",
    "    return n, p\n",
    "\n",
    "def nbinom_from_rates(rates):\n",
    "    return nbinom(*calculate_nbinom_np(rates))"
   ]
  },
  {
   "cell_type": "code",
   "execution_count": 30,
   "id": "8a94f12d",
   "metadata": {
    "execution": {
     "iopub.execute_input": "2021-09-15T18:32:31.661753Z",
     "iopub.status.busy": "2021-09-15T18:32:31.660822Z",
     "iopub.status.idle": "2021-09-15T18:32:31.664038Z",
     "shell.execute_reply": "2021-09-15T18:32:31.663288Z"
    }
   },
   "outputs": [],
   "source": [
    "nbinom_dist = nbinom_from_rates(latest_totals[\"per_100k\"])"
   ]
  },
  {
   "cell_type": "code",
   "execution_count": 31,
   "id": "19c9c421",
   "metadata": {
    "execution": {
     "iopub.execute_input": "2021-09-15T18:32:31.682407Z",
     "iopub.status.busy": "2021-09-15T18:32:31.680750Z",
     "iopub.status.idle": "2021-09-15T18:32:31.933696Z",
     "shell.execute_reply": "2021-09-15T18:32:31.934240Z"
    }
   },
   "outputs": [
    {
     "data": {
      "image/png": "[encoded data removed]",
      "text/plain": [
       "<Figure size 432x288 with 1 Axes>"
      ]
     },
     "metadata": {},
     "output_type": "display_data"
    }
   ],
   "source": [
    "_x = np.arange(0, bin_max)\n",
    "\n",
    "ax = (\n",
    "    latest_totals\n",
    "    [\"per_100k\"]\n",
    "    .hist(bins=bins, density=True)\n",
    ")\n",
    "plt.xticks(bins)\n",
    "ax.set_xlabel(\"Cases per 100k Adults\")\n",
    "ax.set_ylabel(\"Observation Density\")\n",
    "\n",
    "ax.hist(\n",
    "    nbinom_dist.rvs(size=10000),\n",
    "    bins=bins,\n",
    "    density=True,\n",
    "    alpha=0.5,\n",
    "    rwidth=0.25,\n",
    "    align=\"mid\",\n",
    "    edgecolor=\"orange\",\n",
    "    color=\"orange\",\n",
    ")\n",
    "\n",
    "ax.plot(_x, nbinom_dist.pmf(_x), color=\"orange\", alpha=0.5)\n",
    "pass"
   ]
  },
  {
   "cell_type": "markdown",
   "id": "2e11220e",
   "metadata": {},
   "source": [
    "The fit isn't *perfect*, and with our relatively small sample size we wouldn't expect it to be. But it appears to represent our data fairly well."
   ]
  },
  {
   "cell_type": "markdown",
   "id": "772fb9c2",
   "metadata": {},
   "source": [
    "# Using the negative binomial distribution for a Monte Carlo simulation\n",
    "\n",
    "One motivation for modeling the data with a negative binomial distribution is so that we can use it to generate a set of estimates using the \"Monte Carlo\" method — an approach similar to bootstrapping. Unlike the bootstrap method above, where we randomly select per capita filing rates from our pool of observations, we now randomly select them from our negative binomial distribution."
   ]
  },
  {
   "cell_type": "code",
   "execution_count": 32,
   "id": "524144d0",
   "metadata": {
    "execution": {
     "iopub.execute_input": "2021-09-15T18:32:31.940711Z",
     "iopub.status.busy": "2021-09-15T18:32:31.937775Z",
     "iopub.status.idle": "2021-09-15T18:32:31.943011Z",
     "shell.execute_reply": "2021-09-15T18:32:31.943567Z"
    }
   },
   "outputs": [],
   "source": [
    "def gen_random_estimate_mc(populations, dist):\n",
    "    rand_rates = dist.rvs(size=len(populations))\n",
    "    return (populations * rand_rates).sum()\n",
    "\n",
    "def monte_carlo(populations, dist, n=1e4):\n",
    "    return pd.Series(gen_random_estimate_mc(populations, dist) for _ in range(int(n)))"
   ]
  },
  {
   "cell_type": "code",
   "execution_count": 33,
   "id": "f900049f",
   "metadata": {
    "execution": {
     "iopub.execute_input": "2021-09-15T18:32:31.951590Z",
     "iopub.status.busy": "2021-09-15T18:32:31.949304Z",
     "iopub.status.idle": "2021-09-15T18:32:35.169319Z",
     "shell.execute_reply": "2021-09-15T18:32:35.170125Z"
    }
   },
   "outputs": [
    {
     "data": {
      "text/html": [
       "<div>\n",
       "<style scoped>\n",
       "    .dataframe tbody tr th:only-of-type {\n",
       "        vertical-align: middle;\n",
       "    }\n",
       "\n",
       "    .dataframe tbody tr th {\n",
       "        vertical-align: top;\n",
       "    }\n",
       "\n",
       "    .dataframe thead th {\n",
       "        text-align: right;\n",
       "    }\n",
       "</style>\n",
       "<table border=\"1\" class=\"dataframe\">\n",
       "  <thead>\n",
       "    <tr style=\"text-align: right;\">\n",
       "      <th></th>\n",
       "      <th>Bootstrap</th>\n",
       "      <th>Monte Carlo</th>\n",
       "    </tr>\n",
       "  </thead>\n",
       "  <tbody>\n",
       "    <tr>\n",
       "      <th>count</th>\n",
       "      <td>10000</td>\n",
       "      <td>10000</td>\n",
       "    </tr>\n",
       "    <tr>\n",
       "      <th>mean</th>\n",
       "      <td>173618</td>\n",
       "      <td>173317</td>\n",
       "    </tr>\n",
       "    <tr>\n",
       "      <th>std</th>\n",
       "      <td>19294</td>\n",
       "      <td>19754</td>\n",
       "    </tr>\n",
       "    <tr>\n",
       "      <th>min</th>\n",
       "      <td>127230</td>\n",
       "      <td>114994</td>\n",
       "    </tr>\n",
       "    <tr>\n",
       "      <th>2.5%</th>\n",
       "      <td>142919</td>\n",
       "      <td>138835</td>\n",
       "    </tr>\n",
       "    <tr>\n",
       "      <th>25%</th>\n",
       "      <td>158982</td>\n",
       "      <td>159509</td>\n",
       "    </tr>\n",
       "    <tr>\n",
       "      <th>50%</th>\n",
       "      <td>171300</td>\n",
       "      <td>171885</td>\n",
       "    </tr>\n",
       "    <tr>\n",
       "      <th>75%</th>\n",
       "      <td>186030</td>\n",
       "      <td>185492</td>\n",
       "    </tr>\n",
       "    <tr>\n",
       "      <th>97.5%</th>\n",
       "      <td>216686</td>\n",
       "      <td>216515</td>\n",
       "    </tr>\n",
       "    <tr>\n",
       "      <th>max</th>\n",
       "      <td>249941</td>\n",
       "      <td>271559</td>\n",
       "    </tr>\n",
       "  </tbody>\n",
       "</table>\n",
       "</div>"
      ],
      "text/plain": [
       "       Bootstrap  Monte Carlo\n",
       "count      10000        10000\n",
       "mean      173618       173317\n",
       "std        19294        19754\n",
       "min       127230       114994\n",
       "2.5%      142919       138835\n",
       "25%       158982       159509\n",
       "50%       171300       171885\n",
       "75%       186030       185492\n",
       "97.5%     216686       216515\n",
       "max       249941       271559"
      ]
     },
     "execution_count": 33,
     "metadata": {},
     "output_type": "execute_result"
    }
   ],
   "source": [
    "mc_nbinom_not_counted = monte_carlo(\n",
    "    not_counted[\"pop_adult\"] / 1e5,\n",
    "    nbinom_dist,\n",
    "    n = 1e4\n",
    ")\n",
    "\n",
    "pd.DataFrame({\n",
    "    \"Bootstrap\": describe(bootstrapped_not_counted + known_total),\n",
    "    \"Monte Carlo\": describe(mc_nbinom_not_counted + known_total),\n",
    "})"
   ]
  },
  {
   "cell_type": "markdown",
   "id": "bdefae58",
   "metadata": {},
   "source": [
    "Although the assumptions here are slightly different than for the bootstrap, and allow for a greater range of rates, the resulting estimates end up remarkable similar. Here are histograms of the two results, with the bootstrap in blue and the Monte Carlo simulation in orange:"
   ]
  },
  {
   "cell_type": "code",
   "execution_count": 34,
   "id": "9d27d252",
   "metadata": {
    "execution": {
     "iopub.execute_input": "2021-09-15T18:32:35.177392Z",
     "iopub.status.busy": "2021-09-15T18:32:35.176450Z",
     "iopub.status.idle": "2021-09-15T18:32:35.435934Z",
     "shell.execute_reply": "2021-09-15T18:32:35.435486Z"
    }
   },
   "outputs": [
    {
     "data": {
      "image/png": "[encoded data removed]",
      "text/plain": [
       "<Figure size 432x288 with 1 Axes>"
      ]
     },
     "metadata": {},
     "output_type": "display_data"
    }
   ],
   "source": [
    "hist(bootstrapped_not_counted + known_total)\n",
    "hist(mc_nbinom_not_counted + known_total);"
   ]
  },
  {
   "cell_type": "markdown",
   "id": "ea1884ed",
   "metadata": {},
   "source": [
    "# Incorporating data from states that do not disambiguate adults/minors\n",
    "\n",
    "Although we don't have fully-usable data from states that do not disambiguate between guardianships of adults and those of minors, we can still use this information to construct some bounds. There cannot be, for instance, more adult guardianship filings in these states than there are total adult+minor filings combined. And adult guardianship filings are likely to be some substantial portion of those filings. Although that portion is unknown, in states that do disambiguate those two types of cases the adult proportion appears to typically be between 50% and 95% of the total. Below, we generate a series of estimates that combine the following totals:\n",
    "\n",
    "- The known totals in our 23 disambiguated jurisdictions\n",
    "- The `Adults+Minors` totals for the states that provide them, multiplied by 0.5, 0.6, 0.7, 0.8, or 0.9\n",
    "- The results of a Monte Carlo simulation, using the same negative binomial distribution as above, for the remaining states\n",
    "\n",
    "This gives us a sense of the potential outcomes, given a range of adult:total ratios for the `Adults+Minors` states. Because we are multiplying all states by the same adult:total ratio, the distributions of each set of results is artificially narrow, but they provide a further sense of the possible national totals."
   ]
  },
  {
   "cell_type": "code",
   "execution_count": 35,
   "id": "efc85d4c",
   "metadata": {
    "execution": {
     "iopub.execute_input": "2021-09-15T18:32:35.452481Z",
     "iopub.status.busy": "2021-09-15T18:32:35.446050Z",
     "iopub.status.idle": "2021-09-15T18:32:35.455491Z",
     "shell.execute_reply": "2021-09-15T18:32:35.455914Z"
    }
   },
   "outputs": [
    {
     "name": "stdout",
     "output_type": "stream",
     "text": [
      "12 states with Adults+Minors counts\n"
     ]
    },
    {
     "data": {
      "text/html": [
       "<div>\n",
       "<style scoped>\n",
       "    .dataframe tbody tr th:only-of-type {\n",
       "        vertical-align: middle;\n",
       "    }\n",
       "\n",
       "    .dataframe tbody tr th {\n",
       "        vertical-align: top;\n",
       "    }\n",
       "\n",
       "    .dataframe thead th {\n",
       "        text-align: right;\n",
       "    }\n",
       "</style>\n",
       "<table border=\"1\" class=\"dataframe\">\n",
       "  <thead>\n",
       "    <tr style=\"text-align: right;\">\n",
       "      <th></th>\n",
       "      <th>state</th>\n",
       "      <th>year</th>\n",
       "      <th>total</th>\n",
       "      <th>pop_adult</th>\n",
       "      <th>per_100k</th>\n",
       "    </tr>\n",
       "  </thead>\n",
       "  <tbody>\n",
       "    <tr>\n",
       "      <th>0</th>\n",
       "      <td>Alaska</td>\n",
       "      <td>2019</td>\n",
       "      <td>1084</td>\n",
       "      <td>551562</td>\n",
       "      <td>196.532756</td>\n",
       "    </tr>\n",
       "    <tr>\n",
       "      <th>1</th>\n",
       "      <td>California</td>\n",
       "      <td>2019</td>\n",
       "      <td>16634</td>\n",
       "      <td>30617582</td>\n",
       "      <td>54.328261</td>\n",
       "    </tr>\n",
       "    <tr>\n",
       "      <th>2</th>\n",
       "      <td>Delaware</td>\n",
       "      <td>2019</td>\n",
       "      <td>1744</td>\n",
       "      <td>770192</td>\n",
       "      <td>226.437044</td>\n",
       "    </tr>\n",
       "    <tr>\n",
       "      <th>3</th>\n",
       "      <td>Florida</td>\n",
       "      <td>2019</td>\n",
       "      <td>7906</td>\n",
       "      <td>17247808</td>\n",
       "      <td>45.837709</td>\n",
       "    </tr>\n",
       "    <tr>\n",
       "      <th>4</th>\n",
       "      <td>Hawaii</td>\n",
       "      <td>2019</td>\n",
       "      <td>613</td>\n",
       "      <td>1116004</td>\n",
       "      <td>54.928119</td>\n",
       "    </tr>\n",
       "    <tr>\n",
       "      <th>5</th>\n",
       "      <td>Indiana</td>\n",
       "      <td>2019</td>\n",
       "      <td>8301</td>\n",
       "      <td>5164245</td>\n",
       "      <td>160.739856</td>\n",
       "    </tr>\n",
       "    <tr>\n",
       "      <th>6</th>\n",
       "      <td>Montana</td>\n",
       "      <td>2019</td>\n",
       "      <td>1129</td>\n",
       "      <td>840190</td>\n",
       "      <td>134.374368</td>\n",
       "    </tr>\n",
       "    <tr>\n",
       "      <th>7</th>\n",
       "      <td>Nevada</td>\n",
       "      <td>2019</td>\n",
       "      <td>2513</td>\n",
       "      <td>2387517</td>\n",
       "      <td>105.255795</td>\n",
       "    </tr>\n",
       "    <tr>\n",
       "      <th>8</th>\n",
       "      <td>New York</td>\n",
       "      <td>2019</td>\n",
       "      <td>26763</td>\n",
       "      <td>15425262</td>\n",
       "      <td>173.501105</td>\n",
       "    </tr>\n",
       "    <tr>\n",
       "      <th>9</th>\n",
       "      <td>North Carolina</td>\n",
       "      <td>2019</td>\n",
       "      <td>4649</td>\n",
       "      <td>8187369</td>\n",
       "      <td>56.782588</td>\n",
       "    </tr>\n",
       "    <tr>\n",
       "      <th>10</th>\n",
       "      <td>Tennessee</td>\n",
       "      <td>2019</td>\n",
       "      <td>3754</td>\n",
       "      <td>5319123</td>\n",
       "      <td>70.575544</td>\n",
       "    </tr>\n",
       "    <tr>\n",
       "      <th>11</th>\n",
       "      <td>Wisconsin</td>\n",
       "      <td>2019</td>\n",
       "      <td>6051</td>\n",
       "      <td>4555837</td>\n",
       "      <td>132.818624</td>\n",
       "    </tr>\n",
       "  </tbody>\n",
       "</table>\n",
       "</div>"
      ],
      "text/plain": [
       "             state  year  total  pop_adult    per_100k\n",
       "0           Alaska  2019   1084     551562  196.532756\n",
       "1       California  2019  16634   30617582   54.328261\n",
       "2         Delaware  2019   1744     770192  226.437044\n",
       "3          Florida  2019   7906   17247808   45.837709\n",
       "4           Hawaii  2019    613    1116004   54.928119\n",
       "5          Indiana  2019   8301    5164245  160.739856\n",
       "6          Montana  2019   1129     840190  134.374368\n",
       "7           Nevada  2019   2513    2387517  105.255795\n",
       "8         New York  2019  26763   15425262  173.501105\n",
       "9   North Carolina  2019   4649    8187369   56.782588\n",
       "10       Tennessee  2019   3754    5319123   70.575544\n",
       "11       Wisconsin  2019   6051    4555837  132.818624"
      ]
     },
     "execution_count": 35,
     "metadata": {},
     "output_type": "execute_result"
    }
   ],
   "source": [
    "latest_totals_all_ages = get_totals_and_rates(\n",
    "    counts\n",
    "    .loc[lambda df: df[\"year\"] == 2019]\n",
    "    .loc[lambda df: df[\"for_total\"] == \"Y\"]\n",
    "    .loc[lambda df: df[\"age_group\"] == \"Adults+Minors\"]\n",
    ")\n",
    "\n",
    "assert latest_totals_all_ages[\"state\"].isin(latest_totals[\"state\"]).sum() == 0\n",
    "\n",
    "print(f\"{len(latest_totals_all_ages)} states with Adults+Minors counts\")\n",
    "latest_totals_all_ages"
   ]
  },
  {
   "cell_type": "code",
   "execution_count": 36,
   "id": "8c2d933d",
   "metadata": {
    "execution": {
     "iopub.execute_input": "2021-09-15T18:32:35.466896Z",
     "iopub.status.busy": "2021-09-15T18:32:35.461345Z",
     "iopub.status.idle": "2021-09-15T18:32:39.607026Z",
     "shell.execute_reply": "2021-09-15T18:32:39.607952Z"
    }
   },
   "outputs": [],
   "source": [
    "mc_nbinom_no_data = monte_carlo(\n",
    "    (\n",
    "        populations\n",
    "        .loc[lambda df: ~df[\"state\"].isin(latest_totals[\"state\"])]\n",
    "        .loc[lambda df: ~df[\"state\"].isin(latest_totals_all_ages[\"state\"])]\n",
    "        [\"pop_adult\"]\n",
    "    ) / 1e5,\n",
    "    nbinom_dist,\n",
    "    n = 1e4\n",
    ")"
   ]
  },
  {
   "cell_type": "code",
   "execution_count": 37,
   "id": "ea567a35",
   "metadata": {
    "execution": {
     "iopub.execute_input": "2021-09-15T18:32:39.616185Z",
     "iopub.status.busy": "2021-09-15T18:32:39.614339Z",
     "iopub.status.idle": "2021-09-15T18:32:39.641317Z",
     "shell.execute_reply": "2021-09-15T18:32:39.642112Z"
    }
   },
   "outputs": [
    {
     "data": {
      "text/html": [
       "<div>\n",
       "<style scoped>\n",
       "    .dataframe tbody tr th:only-of-type {\n",
       "        vertical-align: middle;\n",
       "    }\n",
       "\n",
       "    .dataframe tbody tr th {\n",
       "        vertical-align: top;\n",
       "    }\n",
       "\n",
       "    .dataframe thead th {\n",
       "        text-align: right;\n",
       "    }\n",
       "</style>\n",
       "<table border=\"1\" class=\"dataframe\">\n",
       "  <thead>\n",
       "    <tr style=\"text-align: right;\">\n",
       "      <th></th>\n",
       "      <th>50%</th>\n",
       "      <th>60%</th>\n",
       "      <th>70%</th>\n",
       "      <th>80%</th>\n",
       "      <th>90%</th>\n",
       "    </tr>\n",
       "  </thead>\n",
       "  <tbody>\n",
       "    <tr>\n",
       "      <th>count</th>\n",
       "      <td>10000</td>\n",
       "      <td>10000</td>\n",
       "      <td>10000</td>\n",
       "      <td>10000</td>\n",
       "      <td>10000</td>\n",
       "    </tr>\n",
       "    <tr>\n",
       "      <th>mean</th>\n",
       "      <td>150645</td>\n",
       "      <td>158759</td>\n",
       "      <td>166873</td>\n",
       "      <td>174987</td>\n",
       "      <td>183101</td>\n",
       "    </tr>\n",
       "    <tr>\n",
       "      <th>std</th>\n",
       "      <td>11030</td>\n",
       "      <td>11030</td>\n",
       "      <td>11030</td>\n",
       "      <td>11030</td>\n",
       "      <td>11030</td>\n",
       "    </tr>\n",
       "    <tr>\n",
       "      <th>min</th>\n",
       "      <td>120251</td>\n",
       "      <td>128365</td>\n",
       "      <td>136479</td>\n",
       "      <td>144593</td>\n",
       "      <td>152707</td>\n",
       "    </tr>\n",
       "    <tr>\n",
       "      <th>2.5%</th>\n",
       "      <td>132219</td>\n",
       "      <td>140333</td>\n",
       "      <td>148447</td>\n",
       "      <td>156561</td>\n",
       "      <td>164675</td>\n",
       "    </tr>\n",
       "    <tr>\n",
       "      <th>25%</th>\n",
       "      <td>142858</td>\n",
       "      <td>150972</td>\n",
       "      <td>159086</td>\n",
       "      <td>167200</td>\n",
       "      <td>175315</td>\n",
       "    </tr>\n",
       "    <tr>\n",
       "      <th>50%</th>\n",
       "      <td>149594</td>\n",
       "      <td>157708</td>\n",
       "      <td>165822</td>\n",
       "      <td>173936</td>\n",
       "      <td>182050</td>\n",
       "    </tr>\n",
       "    <tr>\n",
       "      <th>75%</th>\n",
       "      <td>157073</td>\n",
       "      <td>165187</td>\n",
       "      <td>173301</td>\n",
       "      <td>181415</td>\n",
       "      <td>189529</td>\n",
       "    </tr>\n",
       "    <tr>\n",
       "      <th>97.5%</th>\n",
       "      <td>175776</td>\n",
       "      <td>183890</td>\n",
       "      <td>192004</td>\n",
       "      <td>200119</td>\n",
       "      <td>208233</td>\n",
       "    </tr>\n",
       "    <tr>\n",
       "      <th>max</th>\n",
       "      <td>205186</td>\n",
       "      <td>213301</td>\n",
       "      <td>221415</td>\n",
       "      <td>229529</td>\n",
       "      <td>237643</td>\n",
       "    </tr>\n",
       "  </tbody>\n",
       "</table>\n",
       "</div>"
      ],
      "text/plain": [
       "          50%     60%     70%     80%     90%\n",
       "count   10000   10000   10000   10000   10000\n",
       "mean   150645  158759  166873  174987  183101\n",
       "std     11030   11030   11030   11030   11030\n",
       "min    120251  128365  136479  144593  152707\n",
       "2.5%   132219  140333  148447  156561  164675\n",
       "25%    142858  150972  159086  167200  175315\n",
       "50%    149594  157708  165822  173936  182050\n",
       "75%    157073  165187  173301  181415  189529\n",
       "97.5%  175776  183890  192004  200119  208233\n",
       "max    205186  213301  221415  229529  237643"
      ]
     },
     "execution_count": 37,
     "metadata": {},
     "output_type": "execute_result"
    }
   ],
   "source": [
    "pd.DataFrame({\n",
    "    f\"{x*100:.0f}%\": describe(mc_nbinom_no_data + known_total + latest_totals_all_ages[\"total\"].sum() * x) \n",
    "    for x in np.arange(0.5, 1, 0.1)\n",
    "})"
   ]
  },
  {
   "cell_type": "markdown",
   "id": "f3ded250",
   "metadata": {},
   "source": [
    "# Examining prior years\n",
    "\n",
    "Although our data is most complete from 2019, which is also the most recent pre-pandemic year, we might be intersted to see how the rates have has changed from prior years. To do so, we calculate the negative binomial distribution for 2017 and 2018 and compare it to 2019. Such comparisons should be taken lightly, since the sample is different for each year, but they seem to indicate that filing rates have likely increased during this time: "
   ]
  },
  {
   "cell_type": "code",
   "execution_count": 38,
   "id": "27f6dd63",
   "metadata": {
    "execution": {
     "iopub.execute_input": "2021-09-15T18:32:39.649359Z",
     "iopub.status.busy": "2021-09-15T18:32:39.644682Z",
     "iopub.status.idle": "2021-09-15T18:32:39.684639Z",
     "shell.execute_reply": "2021-09-15T18:32:39.685170Z"
    }
   },
   "outputs": [],
   "source": [
    "nbinom_dist_years = pd.Series({ year:(\n",
    "    nbinom_from_rates(\n",
    "        get_totals_and_rates(\n",
    "            counts\n",
    "            .loc[lambda df: df[\"year\"] == year]\n",
    "            .loc[lambda df: df[\"for_total\"] == \"Y\"]\n",
    "            .loc[lambda df: df[\"age_group\"] == \"Adults ONLY\"]\n",
    "        )\n",
    "        [\"per_100k\"]\n",
    "    )\n",
    ") for year in [ 2017, 2018, 2019 ]})"
   ]
  },
  {
   "cell_type": "code",
   "execution_count": 39,
   "id": "621fcc66",
   "metadata": {
    "execution": {
     "iopub.execute_input": "2021-09-15T18:32:39.694171Z",
     "iopub.status.busy": "2021-09-15T18:32:39.693213Z",
     "iopub.status.idle": "2021-09-15T18:32:39.701855Z",
     "shell.execute_reply": "2021-09-15T18:32:39.702292Z"
    }
   },
   "outputs": [
    {
     "data": {
      "text/plain": [
       "2017    57.9\n",
       "2018    63.7\n",
       "2019    69.0\n",
       "dtype: float64"
      ]
     },
     "execution_count": 39,
     "metadata": {},
     "output_type": "execute_result"
    }
   ],
   "source": [
    "nbinom_dist_years.apply(lambda dist: dist.mean()).round(1)"
   ]
  },
  {
   "cell_type": "code",
   "execution_count": 40,
   "id": "067b2d13",
   "metadata": {
    "execution": {
     "iopub.execute_input": "2021-09-15T18:32:39.710459Z",
     "iopub.status.busy": "2021-09-15T18:32:39.704769Z",
     "iopub.status.idle": "2021-09-15T18:32:40.014653Z",
     "shell.execute_reply": "2021-09-15T18:32:40.015177Z"
    }
   },
   "outputs": [
    {
     "data": {
      "image/png": "[encoded data removed]",
      "text/plain": [
       "<Figure size 432x288 with 1 Axes>"
      ]
     },
     "metadata": {},
     "output_type": "display_data"
    }
   ],
   "source": [
    "nbinom_pmf_years = nbinom_dist_years.apply(lambda dist: pd.Series(dist.pmf(_x))).T\n",
    "nbinom_pmf_years.loc[:,:2019].plot();"
   ]
  },
  {
   "cell_type": "markdown",
   "id": "d5dd283f",
   "metadata": {},
   "source": [
    "Another, more direct way of looking at this is to compare filing rates in both 2018 and 2019 for the jurisdictions where we have both counts. Here, we see a slight increase in the majority of jurisdictions and overall:"
   ]
  },
  {
   "cell_type": "code",
   "execution_count": 41,
   "id": "d6a88591",
   "metadata": {
    "execution": {
     "iopub.execute_input": "2021-09-15T18:32:40.028138Z",
     "iopub.status.busy": "2021-09-15T18:32:40.017613Z",
     "iopub.status.idle": "2021-09-15T18:32:40.071707Z",
     "shell.execute_reply": "2021-09-15T18:32:40.072346Z"
    }
   },
   "outputs": [
    {
     "data": {
      "text/html": [
       "<div>\n",
       "<style scoped>\n",
       "    .dataframe tbody tr th:only-of-type {\n",
       "        vertical-align: middle;\n",
       "    }\n",
       "\n",
       "    .dataframe tbody tr th {\n",
       "        vertical-align: top;\n",
       "    }\n",
       "\n",
       "    .dataframe thead th {\n",
       "        text-align: right;\n",
       "    }\n",
       "</style>\n",
       "<table border=\"1\" class=\"dataframe\">\n",
       "  <thead>\n",
       "    <tr style=\"text-align: right;\">\n",
       "      <th>year</th>\n",
       "      <th>2018</th>\n",
       "      <th>2019</th>\n",
       "      <th>change</th>\n",
       "    </tr>\n",
       "    <tr>\n",
       "      <th>state</th>\n",
       "      <th></th>\n",
       "      <th></th>\n",
       "      <th></th>\n",
       "    </tr>\n",
       "  </thead>\n",
       "  <tbody>\n",
       "    <tr>\n",
       "      <th>Kentucky</th>\n",
       "      <td>35.62</td>\n",
       "      <td>43.09</td>\n",
       "      <td>7.48</td>\n",
       "    </tr>\n",
       "    <tr>\n",
       "      <th>Nebraska</th>\n",
       "      <td>138.31</td>\n",
       "      <td>144.62</td>\n",
       "      <td>6.31</td>\n",
       "    </tr>\n",
       "    <tr>\n",
       "      <th>Vermont</th>\n",
       "      <td>96.67</td>\n",
       "      <td>100.40</td>\n",
       "      <td>3.73</td>\n",
       "    </tr>\n",
       "    <tr>\n",
       "      <th>Utah</th>\n",
       "      <td>32.49</td>\n",
       "      <td>36.18</td>\n",
       "      <td>3.69</td>\n",
       "    </tr>\n",
       "    <tr>\n",
       "      <th>Washington</th>\n",
       "      <td>47.06</td>\n",
       "      <td>50.19</td>\n",
       "      <td>3.13</td>\n",
       "    </tr>\n",
       "    <tr>\n",
       "      <th>Kansas</th>\n",
       "      <td>49.07</td>\n",
       "      <td>51.60</td>\n",
       "      <td>2.53</td>\n",
       "    </tr>\n",
       "    <tr>\n",
       "      <th>Ohio</th>\n",
       "      <td>74.22</td>\n",
       "      <td>76.73</td>\n",
       "      <td>2.51</td>\n",
       "    </tr>\n",
       "    <tr>\n",
       "      <th>New Mexico</th>\n",
       "      <td>40.96</td>\n",
       "      <td>42.94</td>\n",
       "      <td>1.97</td>\n",
       "    </tr>\n",
       "    <tr>\n",
       "      <th>Michigan</th>\n",
       "      <td>159.77</td>\n",
       "      <td>161.36</td>\n",
       "      <td>1.58</td>\n",
       "    </tr>\n",
       "    <tr>\n",
       "      <th>Idaho</th>\n",
       "      <td>43.47</td>\n",
       "      <td>44.37</td>\n",
       "      <td>0.90</td>\n",
       "    </tr>\n",
       "    <tr>\n",
       "      <th>District of Columbia</th>\n",
       "      <td>98.86</td>\n",
       "      <td>99.55</td>\n",
       "      <td>0.69</td>\n",
       "    </tr>\n",
       "    <tr>\n",
       "      <th>Minnesota</th>\n",
       "      <td>60.63</td>\n",
       "      <td>61.29</td>\n",
       "      <td>0.67</td>\n",
       "    </tr>\n",
       "    <tr>\n",
       "      <th>Virginia</th>\n",
       "      <td>37.13</td>\n",
       "      <td>37.72</td>\n",
       "      <td>0.60</td>\n",
       "    </tr>\n",
       "    <tr>\n",
       "      <th>Massachusetts</th>\n",
       "      <td>72.71</td>\n",
       "      <td>73.27</td>\n",
       "      <td>0.56</td>\n",
       "    </tr>\n",
       "    <tr>\n",
       "      <th>Oregon</th>\n",
       "      <td>39.93</td>\n",
       "      <td>40.43</td>\n",
       "      <td>0.51</td>\n",
       "    </tr>\n",
       "    <tr>\n",
       "      <th>Arkansas</th>\n",
       "      <td>49.75</td>\n",
       "      <td>50.22</td>\n",
       "      <td>0.47</td>\n",
       "    </tr>\n",
       "    <tr>\n",
       "      <th>Colorado</th>\n",
       "      <td>31.16</td>\n",
       "      <td>31.49</td>\n",
       "      <td>0.33</td>\n",
       "    </tr>\n",
       "    <tr>\n",
       "      <th>Pennsylvania</th>\n",
       "      <td>33.59</td>\n",
       "      <td>32.50</td>\n",
       "      <td>-1.09</td>\n",
       "    </tr>\n",
       "    <tr>\n",
       "      <th>New Hampshire</th>\n",
       "      <td>86.83</td>\n",
       "      <td>85.56</td>\n",
       "      <td>-1.27</td>\n",
       "    </tr>\n",
       "    <tr>\n",
       "      <th>Missouri</th>\n",
       "      <td>64.55</td>\n",
       "      <td>61.30</td>\n",
       "      <td>-3.25</td>\n",
       "    </tr>\n",
       "    <tr>\n",
       "      <th>North Dakota</th>\n",
       "      <td>59.12</td>\n",
       "      <td>53.96</td>\n",
       "      <td>-5.16</td>\n",
       "    </tr>\n",
       "    <tr>\n",
       "      <th>Arizona</th>\n",
       "      <td>49.66</td>\n",
       "      <td>42.26</td>\n",
       "      <td>-7.40</td>\n",
       "    </tr>\n",
       "  </tbody>\n",
       "</table>\n",
       "</div>"
      ],
      "text/plain": [
       "year                    2018    2019  change\n",
       "state                                       \n",
       "Kentucky               35.62   43.09    7.48\n",
       "Nebraska              138.31  144.62    6.31\n",
       "Vermont                96.67  100.40    3.73\n",
       "Utah                   32.49   36.18    3.69\n",
       "Washington             47.06   50.19    3.13\n",
       "Kansas                 49.07   51.60    2.53\n",
       "Ohio                   74.22   76.73    2.51\n",
       "New Mexico             40.96   42.94    1.97\n",
       "Michigan              159.77  161.36    1.58\n",
       "Idaho                  43.47   44.37    0.90\n",
       "District of Columbia   98.86   99.55    0.69\n",
       "Minnesota              60.63   61.29    0.67\n",
       "Virginia               37.13   37.72    0.60\n",
       "Massachusetts          72.71   73.27    0.56\n",
       "Oregon                 39.93   40.43    0.51\n",
       "Arkansas               49.75   50.22    0.47\n",
       "Colorado               31.16   31.49    0.33\n",
       "Pennsylvania           33.59   32.50   -1.09\n",
       "New Hampshire          86.83   85.56   -1.27\n",
       "Missouri               64.55   61.30   -3.25\n",
       "North Dakota           59.12   53.96   -5.16\n",
       "Arizona                49.66   42.26   -7.40"
      ]
     },
     "execution_count": 41,
     "metadata": {},
     "output_type": "execute_result"
    }
   ],
   "source": [
    "change_2018_19 = (\n",
    "    get_totals_and_rates(\n",
    "        counts\n",
    "        .loc[lambda df: df[\"for_total\"] == \"Y\"]\n",
    "        .loc[lambda df: df[\"age_group\"] == \"Adults ONLY\"]        \n",
    "    )\n",
    "    .loc[lambda df: df[\"year\"].isin([ 2018, 2019 ])]\n",
    "    .set_index([\n",
    "        \"state\",\n",
    "        \"year\"\n",
    "    ])\n",
    "    [\"per_100k\"]\n",
    "    .unstack()\n",
    "    .dropna()\n",
    "    .assign(\n",
    "        change = lambda df: df[2019] - df[2018]\n",
    "    )\n",
    ")\n",
    "\n",
    "change_2018_19.sort_values(\"change\", ascending=False).round(2)"
   ]
  },
  {
   "cell_type": "code",
   "execution_count": 42,
   "id": "0adc7616",
   "metadata": {
    "execution": {
     "iopub.execute_input": "2021-09-15T18:32:40.082623Z",
     "iopub.status.busy": "2021-09-15T18:32:40.081520Z",
     "iopub.status.idle": "2021-09-15T18:32:40.088990Z",
     "shell.execute_reply": "2021-09-15T18:32:40.089635Z"
    }
   },
   "outputs": [
    {
     "data": {
      "text/plain": [
       "count    22.000000\n",
       "mean      0.886168\n",
       "std       3.326963\n",
       "min      -7.395609\n",
       "25%       0.368698\n",
       "50%       0.680645\n",
       "75%       2.526177\n",
       "max       7.475175\n",
       "Name: change, dtype: float64"
      ]
     },
     "execution_count": 42,
     "metadata": {},
     "output_type": "execute_result"
    }
   ],
   "source": [
    "change_2018_19[\"change\"].describe()"
   ]
  },
  {
   "cell_type": "markdown",
   "id": "734f5d7e",
   "metadata": {},
   "source": [
    "# Appendix A: Adjusting for population size\n",
    "\n",
    "Our sample of jurisdictions for which we have fully usable data spans a broad range of populations, but slightly overrepresents smaller states and slightly underrepresents larger states. We can this see by grouping all jurisdictions into three population terciles and comparing the size-distribution in and out of our sample:"
   ]
  },
  {
   "cell_type": "code",
   "execution_count": 43,
   "id": "3567e92e",
   "metadata": {
    "execution": {
     "iopub.execute_input": "2021-09-15T18:32:40.098596Z",
     "iopub.status.busy": "2021-09-15T18:32:40.097399Z",
     "iopub.status.idle": "2021-09-15T18:32:40.138887Z",
     "shell.execute_reply": "2021-09-15T18:32:40.139510Z"
    }
   },
   "outputs": [
    {
     "data": {
      "text/html": [
       "<div>\n",
       "<style scoped>\n",
       "    .dataframe tbody tr th:only-of-type {\n",
       "        vertical-align: middle;\n",
       "    }\n",
       "\n",
       "    .dataframe tbody tr th {\n",
       "        vertical-align: top;\n",
       "    }\n",
       "\n",
       "    .dataframe thead th {\n",
       "        text-align: right;\n",
       "    }\n",
       "</style>\n",
       "<table border=\"1\" class=\"dataframe\">\n",
       "  <thead>\n",
       "    <tr style=\"text-align: right;\">\n",
       "      <th>in_sample</th>\n",
       "      <th>False</th>\n",
       "      <th>True</th>\n",
       "    </tr>\n",
       "  </thead>\n",
       "  <tbody>\n",
       "    <tr>\n",
       "      <th>(445024.999, 2254204.0]</th>\n",
       "      <td>0.32</td>\n",
       "      <td>0.35</td>\n",
       "    </tr>\n",
       "    <tr>\n",
       "      <th>(2254204.0, 4899310.333]</th>\n",
       "      <td>0.32</td>\n",
       "      <td>0.35</td>\n",
       "    </tr>\n",
       "    <tr>\n",
       "      <th>(4899310.333, 30617582.0]</th>\n",
       "      <td>0.36</td>\n",
       "      <td>0.30</td>\n",
       "    </tr>\n",
       "  </tbody>\n",
       "</table>\n",
       "</div>"
      ],
      "text/plain": [
       "in_sample                  False  True\n",
       "(445024.999, 2254204.0]     0.32  0.35\n",
       "(2254204.0, 4899310.333]    0.32  0.35\n",
       "(4899310.333, 30617582.0]   0.36  0.30"
      ]
     },
     "execution_count": 43,
     "metadata": {},
     "output_type": "execute_result"
    }
   ],
   "source": [
    "(\n",
    "    populations\n",
    "    .assign(\n",
    "        in_sample = lambda df: df[\"state\"].isin(latest_totals[\"state\"]),\n",
    "        pop_adult_tercile = lambda df: pd.qcut(df[\"pop_adult\"], 3),\n",
    "    )\n",
    "    .groupby(\"in_sample\")\n",
    "    [\"pop_adult_tercile\"]\n",
    "    .value_counts(normalize=True)\n",
    "    .unstack()\n",
    "    .T\n",
    "    .round(2)\n",
    ")"
   ]
  },
  {
   "cell_type": "markdown",
   "id": "bc9f2bab",
   "metadata": {},
   "source": [
    "We also observe a *potential* negative correlation between population size and filings per capita:"
   ]
  },
  {
   "cell_type": "code",
   "execution_count": 44,
   "id": "1c491e95",
   "metadata": {
    "execution": {
     "iopub.execute_input": "2021-09-15T18:32:40.150382Z",
     "iopub.status.busy": "2021-09-15T18:32:40.149391Z",
     "iopub.status.idle": "2021-09-15T18:32:40.562018Z",
     "shell.execute_reply": "2021-09-15T18:32:40.562656Z"
    }
   },
   "outputs": [
    {
     "data": {
      "image/png": "[encoded data removed]",
      "text/plain": [
       "<Figure size 432x288 with 1 Axes>"
      ]
     },
     "metadata": {},
     "output_type": "display_data"
    }
   ],
   "source": [
    "(\n",
    "    latest_totals\n",
    "    .pipe(lambda df: sns.regplot(\n",
    "        x = df[\"pop_adult\"].apply(np.log10),\n",
    "        y = df[\"per_100k\"],\n",
    "        truncate = False,\n",
    "        scatter_kws = { \"alpha\": 0.5 }\n",
    "    ))\n",
    ")\n",
    "pass"
   ]
  },
  {
   "cell_type": "markdown",
   "id": "2048f6a0",
   "metadata": {},
   "source": [
    "The relationship does not reach standard levels of statistical significance, although our observations may be underpowered (i.e., sample size too small) to reach that level:"
   ]
  },
  {
   "cell_type": "code",
   "execution_count": 45,
   "id": "71cb048b",
   "metadata": {
    "execution": {
     "iopub.execute_input": "2021-09-15T18:32:40.577493Z",
     "iopub.status.busy": "2021-09-15T18:32:40.576784Z",
     "iopub.status.idle": "2021-09-15T18:32:40.605349Z",
     "shell.execute_reply": "2021-09-15T18:32:40.605810Z"
    }
   },
   "outputs": [
    {
     "data": {
      "text/html": [
       "<table class=\"simpletable\">\n",
       "<caption>OLS Regression Results</caption>\n",
       "<tr>\n",
       "  <th>Dep. Variable:</th>        <td>per_100k</td>     <th>  R-squared:         </th> <td>   0.028</td>\n",
       "</tr>\n",
       "<tr>\n",
       "  <th>Model:</th>                   <td>OLS</td>       <th>  Adj. R-squared:    </th> <td>  -0.019</td>\n",
       "</tr>\n",
       "<tr>\n",
       "  <th>Method:</th>             <td>Least Squares</td>  <th>  F-statistic:       </th> <td>  0.5992</td>\n",
       "</tr>\n",
       "<tr>\n",
       "  <th>Date:</th>             <td>Fri, 17 Sep 2021</td> <th>  Prob (F-statistic):</th>  <td> 0.447</td> \n",
       "</tr>\n",
       "<tr>\n",
       "  <th>Time:</th>                 <td>10:23:20</td>     <th>  Log-Likelihood:    </th> <td> -116.74</td>\n",
       "</tr>\n",
       "<tr>\n",
       "  <th>No. Observations:</th>      <td>    23</td>      <th>  AIC:               </th> <td>   237.5</td>\n",
       "</tr>\n",
       "<tr>\n",
       "  <th>Df Residuals:</th>          <td>    21</td>      <th>  BIC:               </th> <td>   239.8</td>\n",
       "</tr>\n",
       "<tr>\n",
       "  <th>Df Model:</th>              <td>     1</td>      <th>                     </th>     <td> </td>   \n",
       "</tr>\n",
       "<tr>\n",
       "  <th>Covariance Type:</th>      <td>nonrobust</td>    <th>                     </th>     <td> </td>   \n",
       "</tr>\n",
       "</table>\n",
       "<table class=\"simpletable\">\n",
       "<tr>\n",
       "      <td></td>         <th>coef</th>     <th>std err</th>      <th>t</th>      <th>P>|t|</th>  <th>[0.025</th>    <th>0.975]</th>  \n",
       "</tr>\n",
       "<tr>\n",
       "  <th>const</th>     <td>  180.9806</td> <td>  144.923</td> <td>    1.249</td> <td> 0.225</td> <td> -120.403</td> <td>  482.364</td>\n",
       "</tr>\n",
       "<tr>\n",
       "  <th>pop_adult</th> <td>  -17.3712</td> <td>   22.440</td> <td>   -0.774</td> <td> 0.447</td> <td>  -64.038</td> <td>   29.296</td>\n",
       "</tr>\n",
       "</table>\n",
       "<table class=\"simpletable\">\n",
       "<tr>\n",
       "  <th>Omnibus:</th>       <td>12.103</td> <th>  Durbin-Watson:     </th> <td>   1.905</td>\n",
       "</tr>\n",
       "<tr>\n",
       "  <th>Prob(Omnibus):</th> <td> 0.002</td> <th>  Jarque-Bera (JB):  </th> <td>  10.388</td>\n",
       "</tr>\n",
       "<tr>\n",
       "  <th>Skew:</th>          <td> 1.520</td> <th>  Prob(JB):          </th> <td> 0.00555</td>\n",
       "</tr>\n",
       "<tr>\n",
       "  <th>Kurtosis:</th>      <td> 4.263</td> <th>  Cond. No.          </th> <td>    113.</td>\n",
       "</tr>\n",
       "</table><br/><br/>Notes:<br/>[1] Standard Errors assume that the covariance matrix of the errors is correctly specified."
      ],
      "text/plain": [
       "<class 'statsmodels.iolib.summary.Summary'>\n",
       "\"\"\"\n",
       "                            OLS Regression Results                            \n",
       "==============================================================================\n",
       "Dep. Variable:               per_100k   R-squared:                       0.028\n",
       "Model:                            OLS   Adj. R-squared:                 -0.019\n",
       "Method:                 Least Squares   F-statistic:                    0.5992\n",
       "Date:                Fri, 17 Sep 2021   Prob (F-statistic):              0.447\n",
       "Time:                        10:23:20   Log-Likelihood:                -116.74\n",
       "No. Observations:                  23   AIC:                             237.5\n",
       "Df Residuals:                      21   BIC:                             239.8\n",
       "Df Model:                           1                                         \n",
       "Covariance Type:            nonrobust                                         \n",
       "==============================================================================\n",
       "                 coef    std err          t      P>|t|      [0.025      0.975]\n",
       "------------------------------------------------------------------------------\n",
       "const        180.9806    144.923      1.249      0.225    -120.403     482.364\n",
       "pop_adult    -17.3712     22.440     -0.774      0.447     -64.038      29.296\n",
       "==============================================================================\n",
       "Omnibus:                       12.103   Durbin-Watson:                   1.905\n",
       "Prob(Omnibus):                  0.002   Jarque-Bera (JB):               10.388\n",
       "Skew:                           1.520   Prob(JB):                      0.00555\n",
       "Kurtosis:                       4.263   Cond. No.                         113.\n",
       "==============================================================================\n",
       "\n",
       "Notes:\n",
       "[1] Standard Errors assume that the covariance matrix of the errors is correctly specified.\n",
       "\"\"\""
      ]
     },
     "execution_count": 45,
     "metadata": {},
     "output_type": "execute_result"
    }
   ],
   "source": [
    "pop_ols = (\n",
    "    latest_totals\n",
    "    .pipe(lambda df: (\n",
    "        sm.OLS(\n",
    "            df[\"per_100k\"],\n",
    "            sm.add_constant(df[\"pop_adult\"].apply(np.log10)),\n",
    "        )\n",
    "     ))\n",
    "    .fit()\n",
    ")\n",
    "\n",
    "pop_ols.summary()"
   ]
  },
  {
   "cell_type": "markdown",
   "id": "57c3bdc8",
   "metadata": {},
   "source": [
    "It's unclear whether the relationship is causal, or whether it even holds across the full set of states. But to test the sensitivity our estimates to such a possible influence, we can repeat our bootstrap approach while adjusting for population size.\n",
    "\n",
    "We'll use the observed correlation above; it is somewhat arbitrary, but should serve as a useful demonstration.\n",
    "\n",
    "We calculate the adjustment in this manner: `coef * (log10(state's adult population) - log10(average state adult population))`, where `coef` is the coefficient for `log10(adult_pop)` in the regression above."
   ]
  },
  {
   "cell_type": "code",
   "execution_count": 46,
   "id": "dcd6cdfb",
   "metadata": {
    "execution": {
     "iopub.execute_input": "2021-09-15T18:32:40.620969Z",
     "iopub.status.busy": "2021-09-15T18:32:40.620159Z",
     "iopub.status.idle": "2021-09-15T18:32:40.624891Z",
     "shell.execute_reply": "2021-09-15T18:32:40.623432Z"
    }
   },
   "outputs": [
    {
     "data": {
      "text/html": [
       "<div>\n",
       "<style scoped>\n",
       "    .dataframe tbody tr th:only-of-type {\n",
       "        vertical-align: middle;\n",
       "    }\n",
       "\n",
       "    .dataframe tbody tr th {\n",
       "        vertical-align: top;\n",
       "    }\n",
       "\n",
       "    .dataframe thead th {\n",
       "        text-align: right;\n",
       "    }\n",
       "</style>\n",
       "<table border=\"1\" class=\"dataframe\">\n",
       "  <thead>\n",
       "    <tr style=\"text-align: right;\">\n",
       "      <th></th>\n",
       "      <th>state</th>\n",
       "      <th>pop_total</th>\n",
       "      <th>pop_adult</th>\n",
       "      <th>pop_adult_log10</th>\n",
       "      <th>adj</th>\n",
       "    </tr>\n",
       "  </thead>\n",
       "  <tbody>\n",
       "    <tr>\n",
       "      <th>0</th>\n",
       "      <td>Alabama</td>\n",
       "      <td>4903185</td>\n",
       "      <td>3814879</td>\n",
       "      <td>6.581481</td>\n",
       "      <td>-1.756828</td>\n",
       "    </tr>\n",
       "    <tr>\n",
       "      <th>1</th>\n",
       "      <td>Alaska</td>\n",
       "      <td>731545</td>\n",
       "      <td>551562</td>\n",
       "      <td>5.741594</td>\n",
       "      <td>12.832977</td>\n",
       "    </tr>\n",
       "    <tr>\n",
       "      <th>2</th>\n",
       "      <td>Arizona</td>\n",
       "      <td>7278717</td>\n",
       "      <td>5638481</td>\n",
       "      <td>6.751162</td>\n",
       "      <td>-4.704390</td>\n",
       "    </tr>\n",
       "    <tr>\n",
       "      <th>3</th>\n",
       "      <td>Arkansas</td>\n",
       "      <td>3017804</td>\n",
       "      <td>2317649</td>\n",
       "      <td>6.365048</td>\n",
       "      <td>2.002867</td>\n",
       "    </tr>\n",
       "    <tr>\n",
       "      <th>4</th>\n",
       "      <td>California</td>\n",
       "      <td>39512223</td>\n",
       "      <td>30617582</td>\n",
       "      <td>7.485971</td>\n",
       "      <td>-17.468873</td>\n",
       "    </tr>\n",
       "  </tbody>\n",
       "</table>\n",
       "</div>"
      ],
      "text/plain": [
       "        state  pop_total  pop_adult  pop_adult_log10        adj\n",
       "0     Alabama    4903185    3814879         6.581481  -1.756828\n",
       "1      Alaska     731545     551562         5.741594  12.832977\n",
       "2     Arizona    7278717    5638481         6.751162  -4.704390\n",
       "3    Arkansas    3017804    2317649         6.365048   2.002867\n",
       "4  California   39512223   30617582         7.485971 -17.468873"
      ]
     },
     "execution_count": 46,
     "metadata": {},
     "output_type": "execute_result"
    }
   ],
   "source": [
    "adjustment_table = (\n",
    "    populations\n",
    "    .assign(\n",
    "        pop_adult_log10 = lambda df: df[\"pop_adult\"].apply(np.log10),\n",
    "        adj = lambda df: (\n",
    "            pop_ols.params[\"pop_adult\"] * \n",
    "            (df[\"pop_adult_log10\"] - df[\"pop_adult_log10\"].mean())\n",
    "        )\n",
    "    )\n",
    ")\n",
    "\n",
    "adjustment_table.head()"
   ]
  },
  {
   "cell_type": "code",
   "execution_count": 47,
   "id": "0176834e",
   "metadata": {
    "execution": {
     "iopub.execute_input": "2021-09-15T18:32:40.630552Z",
     "iopub.status.busy": "2021-09-15T18:32:40.629461Z",
     "iopub.status.idle": "2021-09-15T18:32:40.631850Z",
     "shell.execute_reply": "2021-09-15T18:32:40.632394Z"
    }
   },
   "outputs": [],
   "source": [
    "# Make sure that the positive and negative adjustments balance out\n",
    "assert int(adjustment_table[\"adj\"].sum()) == 0"
   ]
  },
  {
   "cell_type": "markdown",
   "id": "bbf43bfa",
   "metadata": {},
   "source": [
    "Next, we subtract the adjustment factor from each of our observed per capita filiing rates to generate a set of normalized rates, effectively asking \"What might this rate be if the state had the average population?\" \n",
    "\n",
    "We also plot the normalized rates (in orange) against the observed rates (in blue) to visualize the shift, and we observe that it acheives our goal of flattening the regression line:"
   ]
  },
  {
   "cell_type": "code",
   "execution_count": 48,
   "id": "b3b3d659",
   "metadata": {
    "execution": {
     "iopub.execute_input": "2021-09-15T18:32:40.669636Z",
     "iopub.status.busy": "2021-09-15T18:32:40.667948Z",
     "iopub.status.idle": "2021-09-15T18:32:41.111567Z",
     "shell.execute_reply": "2021-09-15T18:32:41.112101Z"
    }
   },
   "outputs": [
    {
     "data": {
      "image/png": "[encoded data removed]",
      "text/plain": [
       "<Figure size 432x288 with 1 Axes>"
      ]
     },
     "metadata": {},
     "output_type": "display_data"
    }
   ],
   "source": [
    "latest_totals_adj = (\n",
    "    latest_totals\n",
    "    .merge(\n",
    "        adjustment_table\n",
    "        [[\n",
    "            \"state\",\n",
    "            \"pop_adult_log10\",\n",
    "            \"adj\"\n",
    "        ]],\n",
    "        how = \"left\"\n",
    "    )\n",
    "    .assign(\n",
    "        per_100k_adj = lambda df: df[\"per_100k\"] - df[\"adj\"]\n",
    "    )\n",
    ")\n",
    "\n",
    "(\n",
    "    latest_totals_adj\n",
    "    .pipe(lambda df: sns.regplot(\n",
    "        y = df[\"per_100k\"],\n",
    "        x = df[\"pop_adult_log10\"],\n",
    "        truncate = False,\n",
    "        scatter_kws = { \"alpha\": 0.25 }\n",
    "    ))\n",
    ")\n",
    "\n",
    "(\n",
    "    latest_totals_adj\n",
    "    .pipe(lambda df: sns.regplot(\n",
    "        y = df[\"per_100k_adj\"],\n",
    "        x = df[\"pop_adult_log10\"],\n",
    "        truncate = False,\n",
    "        scatter_kws = { \"alpha\": 0.5 }\n",
    "    ))\n",
    ")\n",
    "\n",
    "pass"
   ]
  },
  {
   "cell_type": "markdown",
   "id": "56598350",
   "metadata": {},
   "source": [
    "Finally, we modify the bootstrap approach to take these adjustments into account. Specifically, for each sub-iteration, we pair a state with a random draw of one of the *normalized* rates, but then add the adjustment (increasing the effective rate for small states and decreasing it for large states) before calculating the product."
   ]
  },
  {
   "cell_type": "code",
   "execution_count": 49,
   "id": "d1eff566",
   "metadata": {
    "execution": {
     "iopub.execute_input": "2021-09-15T18:32:41.117599Z",
     "iopub.status.busy": "2021-09-15T18:32:41.116855Z",
     "iopub.status.idle": "2021-09-15T18:32:41.118959Z",
     "shell.execute_reply": "2021-09-15T18:32:41.119448Z"
    }
   },
   "outputs": [],
   "source": [
    "def gen_random_estimate_with_adj(populations, adj, rates):\n",
    "    rand_rates = gen_random_items(rates, len(populations))\n",
    "    return ((populations * (rand_rates + adj))).sum()\n",
    "\n",
    "def bootstrap_with_adj(populations, adj, rates, n=1e4):\n",
    "    return pd.Series(\n",
    "        gen_random_estimate_with_adj(populations, adj, rates)\n",
    "        for _ in range(int(n))\n",
    "    )"
   ]
  },
  {
   "cell_type": "markdown",
   "id": "3a242cad",
   "metadata": {},
   "source": [
    "This produces, as one would expect given the negative coefficient and the under-representation of large states in our sample, somewhat smaller estimates. Although, as noted above, unclear whether adjusting for population sizes produces a more accurate estimate, these results help provide an understanding of how the estimates might change *if* there were an underlying mechanism that decreased filing rates in larger states:"
   ]
  },
  {
   "cell_type": "code",
   "execution_count": 50,
   "id": "af39e6e7",
   "metadata": {
    "execution": {
     "iopub.execute_input": "2021-09-15T18:32:41.125002Z",
     "iopub.status.busy": "2021-09-15T18:32:41.123937Z",
     "iopub.status.idle": "2021-09-15T18:32:41.126634Z",
     "shell.execute_reply": "2021-09-15T18:32:41.127213Z"
    }
   },
   "outputs": [],
   "source": [
    "adjustment_table_not_counted = (\n",
    "    adjustment_table\n",
    "    .loc[lambda df: df[\"state\"].isin(not_counted[\"state\"])]\n",
    ")"
   ]
  },
  {
   "cell_type": "code",
   "execution_count": 51,
   "id": "267d8c61",
   "metadata": {
    "execution": {
     "iopub.execute_input": "2021-09-15T18:32:41.170531Z",
     "iopub.status.busy": "2021-09-15T18:32:41.169611Z",
     "iopub.status.idle": "2021-09-15T18:32:46.598973Z",
     "shell.execute_reply": "2021-09-15T18:32:46.598386Z"
    }
   },
   "outputs": [],
   "source": [
    "bootstrapped_adj_not_counted = bootstrap_with_adj(\n",
    "    adjustment_table_not_counted[\"pop_adult\"] / 1e5,\n",
    "    adjustment_table_not_counted[\"adj\"],\n",
    "    latest_totals_adj[\"per_100k_adj\"],\n",
    "    1e4\n",
    ")"
   ]
  },
  {
   "cell_type": "code",
   "execution_count": 52,
   "id": "349e042d",
   "metadata": {
    "execution": {
     "iopub.execute_input": "2021-09-15T18:32:46.604016Z",
     "iopub.status.busy": "2021-09-15T18:32:46.603388Z",
     "iopub.status.idle": "2021-09-15T18:32:46.619103Z",
     "shell.execute_reply": "2021-09-15T18:32:46.619610Z"
    }
   },
   "outputs": [
    {
     "data": {
      "text/html": [
       "<div>\n",
       "<style scoped>\n",
       "    .dataframe tbody tr th:only-of-type {\n",
       "        vertical-align: middle;\n",
       "    }\n",
       "\n",
       "    .dataframe tbody tr th {\n",
       "        vertical-align: top;\n",
       "    }\n",
       "\n",
       "    .dataframe thead th {\n",
       "        text-align: right;\n",
       "    }\n",
       "</style>\n",
       "<table border=\"1\" class=\"dataframe\">\n",
       "  <thead>\n",
       "    <tr style=\"text-align: right;\">\n",
       "      <th></th>\n",
       "      <th>Bootstrap</th>\n",
       "      <th>Monte Carlo</th>\n",
       "      <th>Pop.-adj. Bootstrap</th>\n",
       "    </tr>\n",
       "  </thead>\n",
       "  <tbody>\n",
       "    <tr>\n",
       "      <th>count</th>\n",
       "      <td>10000</td>\n",
       "      <td>10000</td>\n",
       "      <td>10000</td>\n",
       "    </tr>\n",
       "    <tr>\n",
       "      <th>mean</th>\n",
       "      <td>173618</td>\n",
       "      <td>173317</td>\n",
       "      <td>156942</td>\n",
       "    </tr>\n",
       "    <tr>\n",
       "      <th>std</th>\n",
       "      <td>19294</td>\n",
       "      <td>19754</td>\n",
       "      <td>18724</td>\n",
       "    </tr>\n",
       "    <tr>\n",
       "      <th>min</th>\n",
       "      <td>127230</td>\n",
       "      <td>114994</td>\n",
       "      <td>115434</td>\n",
       "    </tr>\n",
       "    <tr>\n",
       "      <th>2.5%</th>\n",
       "      <td>142919</td>\n",
       "      <td>138835</td>\n",
       "      <td>127557</td>\n",
       "    </tr>\n",
       "    <tr>\n",
       "      <th>25%</th>\n",
       "      <td>158982</td>\n",
       "      <td>159509</td>\n",
       "      <td>143092</td>\n",
       "    </tr>\n",
       "    <tr>\n",
       "      <th>50%</th>\n",
       "      <td>171300</td>\n",
       "      <td>171885</td>\n",
       "      <td>154506</td>\n",
       "    </tr>\n",
       "    <tr>\n",
       "      <th>75%</th>\n",
       "      <td>186030</td>\n",
       "      <td>185492</td>\n",
       "      <td>168509</td>\n",
       "    </tr>\n",
       "    <tr>\n",
       "      <th>97.5%</th>\n",
       "      <td>216686</td>\n",
       "      <td>216515</td>\n",
       "      <td>199750</td>\n",
       "    </tr>\n",
       "    <tr>\n",
       "      <th>max</th>\n",
       "      <td>249941</td>\n",
       "      <td>271559</td>\n",
       "      <td>238711</td>\n",
       "    </tr>\n",
       "  </tbody>\n",
       "</table>\n",
       "</div>"
      ],
      "text/plain": [
       "       Bootstrap  Monte Carlo  Pop.-adj. Bootstrap\n",
       "count      10000        10000                10000\n",
       "mean      173618       173317               156942\n",
       "std        19294        19754                18724\n",
       "min       127230       114994               115434\n",
       "2.5%      142919       138835               127557\n",
       "25%       158982       159509               143092\n",
       "50%       171300       171885               154506\n",
       "75%       186030       185492               168509\n",
       "97.5%     216686       216515               199750\n",
       "max       249941       271559               238711"
      ]
     },
     "execution_count": 52,
     "metadata": {},
     "output_type": "execute_result"
    }
   ],
   "source": [
    "pd.DataFrame({\n",
    "    \"Bootstrap\": describe(bootstrapped_not_counted + known_total),\n",
    "    \"Monte Carlo\": describe(mc_nbinom_not_counted + known_total),\n",
    "    \"Pop.-adj. Bootstrap\": describe(bootstrapped_adj_not_counted + known_total),\n",
    "})"
   ]
  },
  {
   "cell_type": "markdown",
   "id": "5792943a",
   "metadata": {},
   "source": [
    "Here we compare the initial bootstrap estimates (in blue) to the population-adjusted ones (in orange):"
   ]
  },
  {
   "cell_type": "code",
   "execution_count": 53,
   "id": "8b0fac77",
   "metadata": {
    "execution": {
     "iopub.execute_input": "2021-09-15T18:32:46.626345Z",
     "iopub.status.busy": "2021-09-15T18:32:46.625611Z",
     "iopub.status.idle": "2021-09-15T18:32:46.869804Z",
     "shell.execute_reply": "2021-09-15T18:32:46.870280Z"
    }
   },
   "outputs": [
    {
     "data": {
      "image/png": "[encoded data removed]",
      "text/plain": [
       "<Figure size 432x288 with 1 Axes>"
      ]
     },
     "metadata": {},
     "output_type": "display_data"
    }
   ],
   "source": [
    "hist(bootstrapped_not_counted + known_total)\n",
    "hist(bootstrapped_adj_not_counted + known_total)\n",
    "pass"
   ]
  },
  {
   "cell_type": "markdown",
   "id": "c0f491eb",
   "metadata": {},
   "source": [
    "# Appendix B: Incorporating information about legal requirements\n",
    "\n",
    "Various factors likely influence the number of guardianship cases filed in a given state. Some state laws make filing guardianship cases harder than others, for instance by requiring certain types of documentation. Others try to create alternatives to guardianship, such as through [Supported Decision-Making Agreements](https://www.americanbar.org/groups/law_aging/publications/bifocal/vol-41/volume-41-issue-1/where-states-stand-on-supported-decision-making/). BuzzFeed News collected data on four such aspects of guardianship law for each jurisdiction, and compared them to the observed filing rates:\n",
    "\n",
    "- `sdma`: Did the state allow for Supported Decision-Making Agreements in 2019?\n",
    "- `lra`: Did the state require judges to consider less restrictive alternatives to guardianship before granting a petition in 2019?\n",
    "- `ex_parte`: Did the state allow for ex parte orders of guardianship in 2019?\n",
    "- `documentation_required`: Did the state require documentation of incapacity to be submitted with the guardianship petition in 2019?\n",
    "\n",
    "Although it would be reasonable to assume these laws have some effect, we saw no clear pattern we could confidently incorporate into our estimates, perhaps due to our small sample size or perhaps because other factors outweigh these."
   ]
  },
  {
   "cell_type": "code",
   "execution_count": 54,
   "id": "9b99aefd",
   "metadata": {
    "execution": {
     "iopub.execute_input": "2021-09-15T18:32:46.879949Z",
     "iopub.status.busy": "2021-09-15T18:32:46.873432Z",
     "iopub.status.idle": "2021-09-15T18:32:47.037379Z",
     "shell.execute_reply": "2021-09-15T18:32:47.037882Z"
    }
   },
   "outputs": [
    {
     "data": {
      "text/html": [
       "<div>\n",
       "<style scoped>\n",
       "    .dataframe tbody tr th:only-of-type {\n",
       "        vertical-align: middle;\n",
       "    }\n",
       "\n",
       "    .dataframe tbody tr th {\n",
       "        vertical-align: top;\n",
       "    }\n",
       "\n",
       "    .dataframe thead th {\n",
       "        text-align: right;\n",
       "    }\n",
       "</style>\n",
       "<table border=\"1\" class=\"dataframe\">\n",
       "  <thead>\n",
       "    <tr style=\"text-align: right;\">\n",
       "      <th></th>\n",
       "      <th>state</th>\n",
       "      <th>sdma</th>\n",
       "      <th>lra</th>\n",
       "      <th>ex_parte</th>\n",
       "      <th>docu_req</th>\n",
       "      <th>num_constraints</th>\n",
       "      <th>has_constraint</th>\n",
       "      <th>per_100k</th>\n",
       "      <th>pop_adult</th>\n",
       "      <th>pop_adult_log10</th>\n",
       "      <th>in_sample</th>\n",
       "    </tr>\n",
       "  </thead>\n",
       "  <tbody>\n",
       "    <tr>\n",
       "      <th>6</th>\n",
       "      <td>Connecticut</td>\n",
       "      <td>0</td>\n",
       "      <td>1</td>\n",
       "      <td>1</td>\n",
       "      <td>0</td>\n",
       "      <td>1</td>\n",
       "      <td>True</td>\n",
       "      <td>165.618513</td>\n",
       "      <td>2837847</td>\n",
       "      <td>6.452989</td>\n",
       "      <td>True</td>\n",
       "    </tr>\n",
       "    <tr>\n",
       "      <th>22</th>\n",
       "      <td>Michigan</td>\n",
       "      <td>0</td>\n",
       "      <td>0</td>\n",
       "      <td>1</td>\n",
       "      <td>0</td>\n",
       "      <td>0</td>\n",
       "      <td>False</td>\n",
       "      <td>161.355637</td>\n",
       "      <td>7842924</td>\n",
       "      <td>6.894478</td>\n",
       "      <td>True</td>\n",
       "    </tr>\n",
       "    <tr>\n",
       "      <th>27</th>\n",
       "      <td>Nebraska</td>\n",
       "      <td>0</td>\n",
       "      <td>1</td>\n",
       "      <td>1</td>\n",
       "      <td>0</td>\n",
       "      <td>1</td>\n",
       "      <td>True</td>\n",
       "      <td>144.617077</td>\n",
       "      <td>1458334</td>\n",
       "      <td>6.163857</td>\n",
       "      <td>True</td>\n",
       "    </tr>\n",
       "    <tr>\n",
       "      <th>45</th>\n",
       "      <td>Vermont</td>\n",
       "      <td>0</td>\n",
       "      <td>0</td>\n",
       "      <td>1</td>\n",
       "      <td>0</td>\n",
       "      <td>0</td>\n",
       "      <td>False</td>\n",
       "      <td>100.395307</td>\n",
       "      <td>509984</td>\n",
       "      <td>5.707557</td>\n",
       "      <td>True</td>\n",
       "    </tr>\n",
       "    <tr>\n",
       "      <th>8</th>\n",
       "      <td>District of Columbia</td>\n",
       "      <td>1</td>\n",
       "      <td>1</td>\n",
       "      <td>1</td>\n",
       "      <td>0</td>\n",
       "      <td>2</td>\n",
       "      <td>True</td>\n",
       "      <td>99.553136</td>\n",
       "      <td>577581</td>\n",
       "      <td>5.761613</td>\n",
       "      <td>True</td>\n",
       "    </tr>\n",
       "    <tr>\n",
       "      <th>29</th>\n",
       "      <td>New Hampshire</td>\n",
       "      <td>0</td>\n",
       "      <td>1</td>\n",
       "      <td>1</td>\n",
       "      <td>1</td>\n",
       "      <td>2</td>\n",
       "      <td>True</td>\n",
       "      <td>85.562330</td>\n",
       "      <td>1104458</td>\n",
       "      <td>6.043149</td>\n",
       "      <td>True</td>\n",
       "    </tr>\n",
       "    <tr>\n",
       "      <th>35</th>\n",
       "      <td>Ohio</td>\n",
       "      <td>0</td>\n",
       "      <td>0</td>\n",
       "      <td>1</td>\n",
       "      <td>0</td>\n",
       "      <td>0</td>\n",
       "      <td>False</td>\n",
       "      <td>76.730741</td>\n",
       "      <td>9111081</td>\n",
       "      <td>6.959570</td>\n",
       "      <td>True</td>\n",
       "    </tr>\n",
       "    <tr>\n",
       "      <th>21</th>\n",
       "      <td>Massachusetts</td>\n",
       "      <td>0</td>\n",
       "      <td>1</td>\n",
       "      <td>1</td>\n",
       "      <td>1</td>\n",
       "      <td>2</td>\n",
       "      <td>True</td>\n",
       "      <td>73.271076</td>\n",
       "      <td>5539703</td>\n",
       "      <td>6.743486</td>\n",
       "      <td>True</td>\n",
       "    </tr>\n",
       "    <tr>\n",
       "      <th>25</th>\n",
       "      <td>Missouri</td>\n",
       "      <td>0</td>\n",
       "      <td>1</td>\n",
       "      <td>0</td>\n",
       "      <td>0</td>\n",
       "      <td>2</td>\n",
       "      <td>True</td>\n",
       "      <td>61.298432</td>\n",
       "      <td>4766843</td>\n",
       "      <td>6.678231</td>\n",
       "      <td>True</td>\n",
       "    </tr>\n",
       "    <tr>\n",
       "      <th>23</th>\n",
       "      <td>Minnesota</td>\n",
       "      <td>0</td>\n",
       "      <td>1</td>\n",
       "      <td>1</td>\n",
       "      <td>0</td>\n",
       "      <td>1</td>\n",
       "      <td>True</td>\n",
       "      <td>61.294023</td>\n",
       "      <td>4336475</td>\n",
       "      <td>6.637137</td>\n",
       "      <td>True</td>\n",
       "    </tr>\n",
       "    <tr>\n",
       "      <th>34</th>\n",
       "      <td>North Dakota</td>\n",
       "      <td>1</td>\n",
       "      <td>1</td>\n",
       "      <td>1</td>\n",
       "      <td>0</td>\n",
       "      <td>2</td>\n",
       "      <td>True</td>\n",
       "      <td>53.961996</td>\n",
       "      <td>581891</td>\n",
       "      <td>5.764842</td>\n",
       "      <td>True</td>\n",
       "    </tr>\n",
       "    <tr>\n",
       "      <th>16</th>\n",
       "      <td>Kansas</td>\n",
       "      <td>0</td>\n",
       "      <td>1</td>\n",
       "      <td>1</td>\n",
       "      <td>0</td>\n",
       "      <td>1</td>\n",
       "      <td>True</td>\n",
       "      <td>51.602665</td>\n",
       "      <td>2213064</td>\n",
       "      <td>6.344994</td>\n",
       "      <td>True</td>\n",
       "    </tr>\n",
       "    <tr>\n",
       "      <th>3</th>\n",
       "      <td>Arkansas</td>\n",
       "      <td>0</td>\n",
       "      <td>1</td>\n",
       "      <td>1</td>\n",
       "      <td>0</td>\n",
       "      <td>1</td>\n",
       "      <td>True</td>\n",
       "      <td>50.223308</td>\n",
       "      <td>2317649</td>\n",
       "      <td>6.365048</td>\n",
       "      <td>True</td>\n",
       "    </tr>\n",
       "    <tr>\n",
       "      <th>47</th>\n",
       "      <td>Washington</td>\n",
       "      <td>0</td>\n",
       "      <td>1</td>\n",
       "      <td>1</td>\n",
       "      <td>0</td>\n",
       "      <td>1</td>\n",
       "      <td>True</td>\n",
       "      <td>50.186228</td>\n",
       "      <td>5951832</td>\n",
       "      <td>6.774651</td>\n",
       "      <td>True</td>\n",
       "    </tr>\n",
       "    <tr>\n",
       "      <th>12</th>\n",
       "      <td>Idaho</td>\n",
       "      <td>0</td>\n",
       "      <td>0</td>\n",
       "      <td>1</td>\n",
       "      <td>0</td>\n",
       "      <td>0</td>\n",
       "      <td>False</td>\n",
       "      <td>44.365970</td>\n",
       "      <td>1338864</td>\n",
       "      <td>6.126736</td>\n",
       "      <td>True</td>\n",
       "    </tr>\n",
       "    <tr>\n",
       "      <th>17</th>\n",
       "      <td>Kentucky</td>\n",
       "      <td>0</td>\n",
       "      <td>0</td>\n",
       "      <td>0</td>\n",
       "      <td>0</td>\n",
       "      <td>1</td>\n",
       "      <td>True</td>\n",
       "      <td>43.090485</td>\n",
       "      <td>3464802</td>\n",
       "      <td>6.539678</td>\n",
       "      <td>True</td>\n",
       "    </tr>\n",
       "    <tr>\n",
       "      <th>31</th>\n",
       "      <td>New Mexico</td>\n",
       "      <td>0</td>\n",
       "      <td>1</td>\n",
       "      <td>1</td>\n",
       "      <td>0</td>\n",
       "      <td>1</td>\n",
       "      <td>True</td>\n",
       "      <td>42.936697</td>\n",
       "      <td>1620991</td>\n",
       "      <td>6.209781</td>\n",
       "      <td>True</td>\n",
       "    </tr>\n",
       "    <tr>\n",
       "      <th>2</th>\n",
       "      <td>Arizona</td>\n",
       "      <td>0</td>\n",
       "      <td>1</td>\n",
       "      <td>1</td>\n",
       "      <td>0</td>\n",
       "      <td>1</td>\n",
       "      <td>True</td>\n",
       "      <td>42.263156</td>\n",
       "      <td>5638481</td>\n",
       "      <td>6.751162</td>\n",
       "      <td>True</td>\n",
       "    </tr>\n",
       "    <tr>\n",
       "      <th>37</th>\n",
       "      <td>Oregon</td>\n",
       "      <td>0</td>\n",
       "      <td>1</td>\n",
       "      <td>1</td>\n",
       "      <td>0</td>\n",
       "      <td>1</td>\n",
       "      <td>True</td>\n",
       "      <td>40.433579</td>\n",
       "      <td>3351175</td>\n",
       "      <td>6.525197</td>\n",
       "      <td>True</td>\n",
       "    </tr>\n",
       "    <tr>\n",
       "      <th>46</th>\n",
       "      <td>Virginia</td>\n",
       "      <td>0</td>\n",
       "      <td>1</td>\n",
       "      <td>1</td>\n",
       "      <td>0</td>\n",
       "      <td>1</td>\n",
       "      <td>True</td>\n",
       "      <td>37.724706</td>\n",
       "      <td>6674671</td>\n",
       "      <td>6.824430</td>\n",
       "      <td>True</td>\n",
       "    </tr>\n",
       "    <tr>\n",
       "      <th>44</th>\n",
       "      <td>Utah</td>\n",
       "      <td>0</td>\n",
       "      <td>1</td>\n",
       "      <td>1</td>\n",
       "      <td>0</td>\n",
       "      <td>1</td>\n",
       "      <td>True</td>\n",
       "      <td>36.179418</td>\n",
       "      <td>2274774</td>\n",
       "      <td>6.356938</td>\n",
       "      <td>True</td>\n",
       "    </tr>\n",
       "    <tr>\n",
       "      <th>38</th>\n",
       "      <td>Pennsylvania</td>\n",
       "      <td>0</td>\n",
       "      <td>1</td>\n",
       "      <td>1</td>\n",
       "      <td>1</td>\n",
       "      <td>2</td>\n",
       "      <td>True</td>\n",
       "      <td>32.496093</td>\n",
       "      <td>10167376</td>\n",
       "      <td>7.007209</td>\n",
       "      <td>True</td>\n",
       "    </tr>\n",
       "    <tr>\n",
       "      <th>5</th>\n",
       "      <td>Colorado</td>\n",
       "      <td>0</td>\n",
       "      <td>1</td>\n",
       "      <td>1</td>\n",
       "      <td>0</td>\n",
       "      <td>1</td>\n",
       "      <td>True</td>\n",
       "      <td>31.494369</td>\n",
       "      <td>4499217</td>\n",
       "      <td>6.653137</td>\n",
       "      <td>True</td>\n",
       "    </tr>\n",
       "  </tbody>\n",
       "</table>\n",
       "</div>"
      ],
      "text/plain": [
       "                   state  sdma  lra  ex_parte  docu_req  num_constraints  \\\n",
       "6            Connecticut     0    1         1         0                1   \n",
       "22              Michigan     0    0         1         0                0   \n",
       "27              Nebraska     0    1         1         0                1   \n",
       "45               Vermont     0    0         1         0                0   \n",
       "8   District of Columbia     1    1         1         0                2   \n",
       "29         New Hampshire     0    1         1         1                2   \n",
       "35                  Ohio     0    0         1         0                0   \n",
       "21         Massachusetts     0    1         1         1                2   \n",
       "25              Missouri     0    1         0         0                2   \n",
       "23             Minnesota     0    1         1         0                1   \n",
       "34          North Dakota     1    1         1         0                2   \n",
       "16                Kansas     0    1         1         0                1   \n",
       "3               Arkansas     0    1         1         0                1   \n",
       "47            Washington     0    1         1         0                1   \n",
       "12                 Idaho     0    0         1         0                0   \n",
       "17              Kentucky     0    0         0         0                1   \n",
       "31            New Mexico     0    1         1         0                1   \n",
       "2                Arizona     0    1         1         0                1   \n",
       "37                Oregon     0    1         1         0                1   \n",
       "46              Virginia     0    1         1         0                1   \n",
       "44                  Utah     0    1         1         0                1   \n",
       "38          Pennsylvania     0    1         1         1                2   \n",
       "5               Colorado     0    1         1         0                1   \n",
       "\n",
       "    has_constraint    per_100k  pop_adult  pop_adult_log10  in_sample  \n",
       "6             True  165.618513    2837847         6.452989       True  \n",
       "22           False  161.355637    7842924         6.894478       True  \n",
       "27            True  144.617077    1458334         6.163857       True  \n",
       "45           False  100.395307     509984         5.707557       True  \n",
       "8             True   99.553136     577581         5.761613       True  \n",
       "29            True   85.562330    1104458         6.043149       True  \n",
       "35           False   76.730741    9111081         6.959570       True  \n",
       "21            True   73.271076    5539703         6.743486       True  \n",
       "25            True   61.298432    4766843         6.678231       True  \n",
       "23            True   61.294023    4336475         6.637137       True  \n",
       "34            True   53.961996     581891         5.764842       True  \n",
       "16            True   51.602665    2213064         6.344994       True  \n",
       "3             True   50.223308    2317649         6.365048       True  \n",
       "47            True   50.186228    5951832         6.774651       True  \n",
       "12           False   44.365970    1338864         6.126736       True  \n",
       "17            True   43.090485    3464802         6.539678       True  \n",
       "31            True   42.936697    1620991         6.209781       True  \n",
       "2             True   42.263156    5638481         6.751162       True  \n",
       "37            True   40.433579    3351175         6.525197       True  \n",
       "46            True   37.724706    6674671         6.824430       True  \n",
       "44            True   36.179418    2274774         6.356938       True  \n",
       "38            True   32.496093   10167376         7.007209       True  \n",
       "5             True   31.494369    4499217         6.653137       True  "
      ]
     },
     "execution_count": 54,
     "metadata": {},
     "output_type": "execute_result"
    }
   ],
   "source": [
    "regimes = (\n",
    "    pd.read_csv(\"../data/raw/legal-regimes.csv\")\n",
    "    [[\n",
    "        \"state\",\n",
    "        \"sdma\",\n",
    "        \"lra\",\n",
    "        \"ex_parte\",\n",
    "        \"documentation_required\",\n",
    "    ]]\n",
    "    .rename(columns = {\"documentation_required\": \"docu_req\"})\n",
    "    .assign(\n",
    "        num_constraints = lambda df: (\n",
    "            df[\"sdma\"] + df[\"lra\"] + (df[\"ex_parte\"] == 0) + df[\"docu_req\"]\n",
    "        ),\n",
    "        has_constraint = lambda df: df[\"num_constraints\"] > 0\n",
    "    )\n",
    "    .merge(\n",
    "        latest_totals_adj\n",
    "        [[\n",
    "            \"state\",\n",
    "            \"per_100k\",\n",
    "        ]],\n",
    "        how = \"left\",\n",
    "    )\n",
    "    .merge(\n",
    "        populations\n",
    "        [[\n",
    "            \"state\",\n",
    "            \"pop_adult\",\n",
    "        ]],\n",
    "        how = \"left\"\n",
    "    )\n",
    "    .assign(\n",
    "        pop_adult_log10 = lambda df: df[\"pop_adult\"].apply(np.log10),\n",
    "        in_sample = lambda df: df[\"state\"].isin(latest_totals[\"state\"])\n",
    "    )\n",
    ")\n",
    "\n",
    "regimes.sort_values(\"per_100k\", ascending=False).dropna()"
   ]
  },
  {
   "cell_type": "markdown",
   "id": "4307d942",
   "metadata": {},
   "source": [
    "Jurisdictions outside our sample were roughly equally likely (~80%) to exhibit at least one of these four constraints (either `sdma==1`, `lra==1`, `documentation_required==1`, or `ex_parte==0`):"
   ]
  },
  {
   "cell_type": "code",
   "execution_count": 55,
   "id": "b1e33cca",
   "metadata": {
    "execution": {
     "iopub.execute_input": "2021-09-15T18:32:47.042873Z",
     "iopub.status.busy": "2021-09-15T18:32:47.042205Z",
     "iopub.status.idle": "2021-09-15T18:32:47.051044Z",
     "shell.execute_reply": "2021-09-15T18:32:47.051555Z"
    }
   },
   "outputs": [
    {
     "data": {
      "text/html": [
       "<div>\n",
       "<style scoped>\n",
       "    .dataframe tbody tr th:only-of-type {\n",
       "        vertical-align: middle;\n",
       "    }\n",
       "\n",
       "    .dataframe tbody tr th {\n",
       "        vertical-align: top;\n",
       "    }\n",
       "\n",
       "    .dataframe thead th {\n",
       "        text-align: right;\n",
       "    }\n",
       "</style>\n",
       "<table border=\"1\" class=\"dataframe\">\n",
       "  <thead>\n",
       "    <tr style=\"text-align: right;\">\n",
       "      <th>has_constraint</th>\n",
       "      <th>False</th>\n",
       "      <th>True</th>\n",
       "      <th>prop</th>\n",
       "    </tr>\n",
       "    <tr>\n",
       "      <th>in_sample</th>\n",
       "      <th></th>\n",
       "      <th></th>\n",
       "      <th></th>\n",
       "    </tr>\n",
       "  </thead>\n",
       "  <tbody>\n",
       "    <tr>\n",
       "      <th>False</th>\n",
       "      <td>6</td>\n",
       "      <td>22</td>\n",
       "      <td>0.786</td>\n",
       "    </tr>\n",
       "    <tr>\n",
       "      <th>True</th>\n",
       "      <td>4</td>\n",
       "      <td>19</td>\n",
       "      <td>0.826</td>\n",
       "    </tr>\n",
       "  </tbody>\n",
       "</table>\n",
       "</div>"
      ],
      "text/plain": [
       "has_constraint  False  True   prop\n",
       "in_sample                         \n",
       "False               6    22  0.786\n",
       "True                4    19  0.826"
      ]
     },
     "execution_count": 55,
     "metadata": {},
     "output_type": "execute_result"
    }
   ],
   "source": [
    "(    \n",
    "    regimes\n",
    "    .groupby([\"in_sample\"])\n",
    "    [\"has_constraint\"]\n",
    "    .value_counts(normalize=False)\n",
    "    .unstack()\n",
    "    .assign(prop = lambda df: (df[True] / df.sum(axis = 1)).round(3))\n",
    ")"
   ]
  },
  {
   "cell_type": "markdown",
   "id": "2a6ad029",
   "metadata": {},
   "source": [
    "... and both had a median of one constraint, though out-of-sample jurisdictions had slightly more total constraints on average:"
   ]
  },
  {
   "cell_type": "code",
   "execution_count": 56,
   "id": "ea83f1ec",
   "metadata": {
    "execution": {
     "iopub.execute_input": "2021-09-15T18:32:47.064291Z",
     "iopub.status.busy": "2021-09-15T18:32:47.063523Z",
     "iopub.status.idle": "2021-09-15T18:32:47.066423Z",
     "shell.execute_reply": "2021-09-15T18:32:47.066839Z"
    }
   },
   "outputs": [
    {
     "data": {
      "text/html": [
       "<div>\n",
       "<style scoped>\n",
       "    .dataframe tbody tr th:only-of-type {\n",
       "        vertical-align: middle;\n",
       "    }\n",
       "\n",
       "    .dataframe tbody tr th {\n",
       "        vertical-align: top;\n",
       "    }\n",
       "\n",
       "    .dataframe thead th {\n",
       "        text-align: right;\n",
       "    }\n",
       "</style>\n",
       "<table border=\"1\" class=\"dataframe\">\n",
       "  <thead>\n",
       "    <tr style=\"text-align: right;\">\n",
       "      <th></th>\n",
       "      <th>c_median</th>\n",
       "      <th>c_mean</th>\n",
       "    </tr>\n",
       "    <tr>\n",
       "      <th>in_sample</th>\n",
       "      <th></th>\n",
       "      <th></th>\n",
       "    </tr>\n",
       "  </thead>\n",
       "  <tbody>\n",
       "    <tr>\n",
       "      <th>False</th>\n",
       "      <td>1.0</td>\n",
       "      <td>1.464</td>\n",
       "    </tr>\n",
       "    <tr>\n",
       "      <th>True</th>\n",
       "      <td>1.0</td>\n",
       "      <td>1.087</td>\n",
       "    </tr>\n",
       "  </tbody>\n",
       "</table>\n",
       "</div>"
      ],
      "text/plain": [
       "           c_median  c_mean\n",
       "in_sample                  \n",
       "False           1.0   1.464\n",
       "True            1.0   1.087"
      ]
     },
     "execution_count": 56,
     "metadata": {},
     "output_type": "execute_result"
    }
   ],
   "source": [
    "(    \n",
    "    regimes\n",
    "    .groupby([\"in_sample\"])\n",
    "    .pipe(lambda grp: pd.DataFrame({\n",
    "        \"c_median\": grp[\"num_constraints\"].median(),\n",
    "        \"c_mean\": grp[\"num_constraints\"].mean().round(3),\n",
    "    }))\n",
    ")"
   ]
  },
  {
   "cell_type": "markdown",
   "id": "b3a8a0fe",
   "metadata": {},
   "source": [
    "The number of constraints, however, does not seem to be clearly predictive of per-capita filing rates, especially given how few jurisdictions fall into most buckets:"
   ]
  },
  {
   "cell_type": "code",
   "execution_count": 57,
   "id": "39ae4602",
   "metadata": {
    "execution": {
     "iopub.execute_input": "2021-09-15T18:32:47.070083Z",
     "iopub.status.busy": "2021-09-15T18:32:47.069350Z",
     "iopub.status.idle": "2021-09-15T18:32:47.091929Z",
     "shell.execute_reply": "2021-09-15T18:32:47.092431Z"
    }
   },
   "outputs": [
    {
     "data": {
      "text/html": [
       "<div>\n",
       "<style scoped>\n",
       "    .dataframe tbody tr th:only-of-type {\n",
       "        vertical-align: middle;\n",
       "    }\n",
       "\n",
       "    .dataframe tbody tr th {\n",
       "        vertical-align: top;\n",
       "    }\n",
       "\n",
       "    .dataframe thead th {\n",
       "        text-align: right;\n",
       "    }\n",
       "</style>\n",
       "<table border=\"1\" class=\"dataframe\">\n",
       "  <thead>\n",
       "    <tr style=\"text-align: right;\">\n",
       "      <th></th>\n",
       "      <th>count</th>\n",
       "      <th>mean</th>\n",
       "      <th>std</th>\n",
       "      <th>min</th>\n",
       "      <th>25%</th>\n",
       "      <th>50%</th>\n",
       "      <th>75%</th>\n",
       "      <th>max</th>\n",
       "    </tr>\n",
       "    <tr>\n",
       "      <th>num_constraints</th>\n",
       "      <th></th>\n",
       "      <th></th>\n",
       "      <th></th>\n",
       "      <th></th>\n",
       "      <th></th>\n",
       "      <th></th>\n",
       "      <th></th>\n",
       "      <th></th>\n",
       "    </tr>\n",
       "  </thead>\n",
       "  <tbody>\n",
       "    <tr>\n",
       "      <th>0</th>\n",
       "      <td>4.0</td>\n",
       "      <td>95.71</td>\n",
       "      <td>49.42</td>\n",
       "      <td>44.37</td>\n",
       "      <td>68.64</td>\n",
       "      <td>88.56</td>\n",
       "      <td>115.64</td>\n",
       "      <td>161.36</td>\n",
       "    </tr>\n",
       "    <tr>\n",
       "      <th>1</th>\n",
       "      <td>13.0</td>\n",
       "      <td>61.36</td>\n",
       "      <td>42.53</td>\n",
       "      <td>31.49</td>\n",
       "      <td>40.43</td>\n",
       "      <td>43.09</td>\n",
       "      <td>51.60</td>\n",
       "      <td>165.62</td>\n",
       "    </tr>\n",
       "    <tr>\n",
       "      <th>2</th>\n",
       "      <td>6.0</td>\n",
       "      <td>67.69</td>\n",
       "      <td>23.81</td>\n",
       "      <td>32.50</td>\n",
       "      <td>55.80</td>\n",
       "      <td>67.28</td>\n",
       "      <td>82.49</td>\n",
       "      <td>99.55</td>\n",
       "    </tr>\n",
       "    <tr>\n",
       "      <th>3</th>\n",
       "      <td>0.0</td>\n",
       "      <td>NaN</td>\n",
       "      <td>NaN</td>\n",
       "      <td>NaN</td>\n",
       "      <td>NaN</td>\n",
       "      <td>NaN</td>\n",
       "      <td>NaN</td>\n",
       "      <td>NaN</td>\n",
       "    </tr>\n",
       "  </tbody>\n",
       "</table>\n",
       "</div>"
      ],
      "text/plain": [
       "                 count   mean    std    min    25%    50%     75%     max\n",
       "num_constraints                                                          \n",
       "0                  4.0  95.71  49.42  44.37  68.64  88.56  115.64  161.36\n",
       "1                 13.0  61.36  42.53  31.49  40.43  43.09   51.60  165.62\n",
       "2                  6.0  67.69  23.81  32.50  55.80  67.28   82.49   99.55\n",
       "3                  0.0    NaN    NaN    NaN    NaN    NaN     NaN     NaN"
      ]
     },
     "execution_count": 57,
     "metadata": {},
     "output_type": "execute_result"
    }
   ],
   "source": [
    "(    \n",
    "    regimes\n",
    "    .groupby(\"num_constraints\")\n",
    "    [\"per_100k\"]\n",
    "    .describe()\n",
    "    .round(2)\n",
    ")"
   ]
  },
  {
   "cell_type": "markdown",
   "id": "cb4adaba",
   "metadata": {},
   "source": [
    "... and it is difficult to discern clear patterns from each individual constraint, in part because the comparisons each involve one very small grouping:"
   ]
  },
  {
   "cell_type": "code",
   "execution_count": 58,
   "id": "bd732b1e",
   "metadata": {
    "execution": {
     "iopub.execute_input": "2021-09-15T18:32:47.100077Z",
     "iopub.status.busy": "2021-09-15T18:32:47.094763Z",
     "iopub.status.idle": "2021-09-15T18:32:47.134088Z",
     "shell.execute_reply": "2021-09-15T18:32:47.134606Z"
    }
   },
   "outputs": [
    {
     "name": "stdout",
     "output_type": "stream",
     "text": [
      "=== sdma ===\n",
      "sdma        0      1\n",
      "count   21.00   2.00\n",
      "mean    68.24  76.76\n",
      "std     41.42  32.24\n",
      "min     31.49  53.96\n",
      "25%     42.26  65.36\n",
      "50%     50.22  76.76\n",
      "75%     76.73  88.16\n",
      "max    165.62  99.55\n",
      "\n",
      "=== lra ===\n",
      "lra         0       1\n",
      "count    5.00   18.00\n",
      "mean    85.19   64.48\n",
      "std     48.84   37.78\n",
      "min     43.09   31.49\n",
      "25%     44.37   40.89\n",
      "50%     76.73   50.91\n",
      "75%    100.40   70.28\n",
      "max    161.36  165.62\n",
      "\n",
      "=== ex_parte ===\n",
      "ex_parte      0       1\n",
      "count      2.00   21.00\n",
      "mean      52.19   70.58\n",
      "std       12.87   41.66\n",
      "min       43.09   31.49\n",
      "25%       47.64   42.26\n",
      "50%       52.19   51.60\n",
      "75%       56.75   85.56\n",
      "max       61.30  165.62\n",
      "\n",
      "=== docu_req ===\n",
      "docu_req       0      1\n",
      "count      20.00   3.00\n",
      "mean       69.77  63.78\n",
      "std        42.21  27.78\n",
      "min        31.49  32.50\n",
      "25%        42.77  52.88\n",
      "50%        50.91  73.27\n",
      "75%        82.44  79.42\n",
      "max       165.62  85.56\n",
      "\n"
     ]
    }
   ],
   "source": [
    "for col in [ \"sdma\", \"lra\", \"ex_parte\", \"docu_req\" ]:\n",
    "    print(f\"=== {col} ===\")\n",
    "    print(regimes.groupby(col)[\"per_100k\"].describe().T.round(2))\n",
    "    print(\"\")"
   ]
  },
  {
   "cell_type": "markdown",
   "id": "30d4b17f",
   "metadata": {},
   "source": [
    "# Appendix C: Examining spatial correlation\n",
    "\n",
    "Statisticians suggested that we also check for spatial correlation in our observations — i.e., do states near one another have a greater tendency to have similar rates?\n",
    "\n",
    "To do so, we compare each state's filing rate to those of its neighbors (states that share a border or corner):"
   ]
  },
  {
   "cell_type": "code",
   "execution_count": 59,
   "id": "6f817159",
   "metadata": {
    "execution": {
     "iopub.execute_input": "2021-09-15T18:32:47.141206Z",
     "iopub.status.busy": "2021-09-15T18:32:47.137190Z",
     "iopub.status.idle": "2021-09-15T18:32:47.155633Z",
     "shell.execute_reply": "2021-09-15T18:32:47.156056Z"
    }
   },
   "outputs": [
    {
     "data": {
      "text/html": [
       "<div>\n",
       "<style scoped>\n",
       "    .dataframe tbody tr th:only-of-type {\n",
       "        vertical-align: middle;\n",
       "    }\n",
       "\n",
       "    .dataframe tbody tr th {\n",
       "        vertical-align: top;\n",
       "    }\n",
       "\n",
       "    .dataframe thead th {\n",
       "        text-align: right;\n",
       "    }\n",
       "</style>\n",
       "<table border=\"1\" class=\"dataframe\">\n",
       "  <thead>\n",
       "    <tr style=\"text-align: right;\">\n",
       "      <th></th>\n",
       "      <th>state</th>\n",
       "      <th>neighbor</th>\n",
       "    </tr>\n",
       "  </thead>\n",
       "  <tbody>\n",
       "    <tr>\n",
       "      <th>0</th>\n",
       "      <td>Alabama</td>\n",
       "      <td>Florida</td>\n",
       "    </tr>\n",
       "    <tr>\n",
       "      <th>1</th>\n",
       "      <td>Alabama</td>\n",
       "      <td>Georgia</td>\n",
       "    </tr>\n",
       "    <tr>\n",
       "      <th>2</th>\n",
       "      <td>Alabama</td>\n",
       "      <td>Mississippi</td>\n",
       "    </tr>\n",
       "    <tr>\n",
       "      <th>3</th>\n",
       "      <td>Alabama</td>\n",
       "      <td>Tennessee</td>\n",
       "    </tr>\n",
       "    <tr>\n",
       "      <th>4</th>\n",
       "      <td>Arkansas</td>\n",
       "      <td>Louisiana</td>\n",
       "    </tr>\n",
       "  </tbody>\n",
       "</table>\n",
       "</div>"
      ],
      "text/plain": [
       "      state     neighbor\n",
       "0   Alabama      Florida\n",
       "1   Alabama      Georgia\n",
       "2   Alabama  Mississippi\n",
       "3   Alabama    Tennessee\n",
       "4  Arkansas    Louisiana"
      ]
     },
     "execution_count": 59,
     "metadata": {},
     "output_type": "execute_result"
    }
   ],
   "source": [
    "adjacencies = (\n",
    "    # Data source: https://gist.github.com/rietta/4112447\n",
    "    pd.read_csv(\"../data/raw/adjacent-states.csv\")\n",
    "    .assign(\n",
    "        state = lambda df: df[\"state\"].apply(states.lookup).astype(str),\n",
    "        neighbor = lambda df: df[\"neighbor\"].apply(states.lookup).astype(str),\n",
    "    )\n",
    ")    \n",
    "adjacencies.head()"
   ]
  },
  {
   "cell_type": "code",
   "execution_count": 60,
   "id": "f8d0b122",
   "metadata": {
    "execution": {
     "iopub.execute_input": "2021-09-15T18:32:47.162467Z",
     "iopub.status.busy": "2021-09-15T18:32:47.158493Z",
     "iopub.status.idle": "2021-09-15T18:32:47.164592Z",
     "shell.execute_reply": "2021-09-15T18:32:47.165067Z"
    }
   },
   "outputs": [],
   "source": [
    "def compare_neighbors(rates):\n",
    "    return (\n",
    "        rates\n",
    "        [[\n",
    "            \"state\",\n",
    "            \"per_100k\",\n",
    "        ]]\n",
    "        .rename(columns = { \"state\": \"neighbor\" })\n",
    "        .merge(\n",
    "            adjacencies,\n",
    "            on = \"neighbor\",\n",
    "            how = \"left\",\n",
    "        )\n",
    "        .groupby(\"state\")\n",
    "        .pipe(lambda grp: pd.DataFrame({\n",
    "            \"per_100k_neighbor_mean\": grp[\"per_100k\"].mean(),\n",
    "            \"neighbors\": grp[\"neighbor\"].apply(set).apply(sorted),\n",
    "        }))\n",
    "        .reset_index()\n",
    "        .pipe(lambda df: (\n",
    "            rates\n",
    "            [[\n",
    "                \"state\",\n",
    "                \"per_100k\",\n",
    "            ]]\n",
    "            .merge(\n",
    "                df,\n",
    "                how = \"left\",\n",
    "                on = \"state\",\n",
    "            )\n",
    "        ))\n",
    "        .dropna()\n",
    "    )"
   ]
  },
  {
   "cell_type": "code",
   "execution_count": 61,
   "id": "64f97c5a",
   "metadata": {
    "execution": {
     "iopub.execute_input": "2021-09-15T18:32:47.192483Z",
     "iopub.status.busy": "2021-09-15T18:32:47.167427Z",
     "iopub.status.idle": "2021-09-15T18:32:47.195600Z",
     "shell.execute_reply": "2021-09-15T18:32:47.196030Z"
    }
   },
   "outputs": [
    {
     "data": {
      "text/html": [
       "<div>\n",
       "<style scoped>\n",
       "    .dataframe tbody tr th:only-of-type {\n",
       "        vertical-align: middle;\n",
       "    }\n",
       "\n",
       "    .dataframe tbody tr th {\n",
       "        vertical-align: top;\n",
       "    }\n",
       "\n",
       "    .dataframe thead th {\n",
       "        text-align: right;\n",
       "    }\n",
       "</style>\n",
       "<table border=\"1\" class=\"dataframe\">\n",
       "  <thead>\n",
       "    <tr style=\"text-align: right;\">\n",
       "      <th></th>\n",
       "      <th>state</th>\n",
       "      <th>per_100k</th>\n",
       "      <th>per_100k_neighbor_mean</th>\n",
       "      <th>neighbors</th>\n",
       "    </tr>\n",
       "  </thead>\n",
       "  <tbody>\n",
       "    <tr>\n",
       "      <th>0</th>\n",
       "      <td>Arizona</td>\n",
       "      <td>42.263156</td>\n",
       "      <td>36.870162</td>\n",
       "      <td>[Colorado, New Mexico, Utah]</td>\n",
       "    </tr>\n",
       "    <tr>\n",
       "      <th>1</th>\n",
       "      <td>Arkansas</td>\n",
       "      <td>50.223308</td>\n",
       "      <td>61.298432</td>\n",
       "      <td>[Missouri]</td>\n",
       "    </tr>\n",
       "    <tr>\n",
       "      <th>2</th>\n",
       "      <td>Colorado</td>\n",
       "      <td>31.494369</td>\n",
       "      <td>63.519803</td>\n",
       "      <td>[Arizona, Kansas, Nebraska, New Mexico, Utah]</td>\n",
       "    </tr>\n",
       "    <tr>\n",
       "      <th>3</th>\n",
       "      <td>Connecticut</td>\n",
       "      <td>165.618513</td>\n",
       "      <td>73.271076</td>\n",
       "      <td>[Massachusetts]</td>\n",
       "    </tr>\n",
       "    <tr>\n",
       "      <th>4</th>\n",
       "      <td>District of Columbia</td>\n",
       "      <td>99.553136</td>\n",
       "      <td>37.724706</td>\n",
       "      <td>[Virginia]</td>\n",
       "    </tr>\n",
       "  </tbody>\n",
       "</table>\n",
       "</div>"
      ],
      "text/plain": [
       "                  state    per_100k  per_100k_neighbor_mean  \\\n",
       "0               Arizona   42.263156               36.870162   \n",
       "1              Arkansas   50.223308               61.298432   \n",
       "2              Colorado   31.494369               63.519803   \n",
       "3           Connecticut  165.618513               73.271076   \n",
       "4  District of Columbia   99.553136               37.724706   \n",
       "\n",
       "                                       neighbors  \n",
       "0                   [Colorado, New Mexico, Utah]  \n",
       "1                                     [Missouri]  \n",
       "2  [Arizona, Kansas, Nebraska, New Mexico, Utah]  \n",
       "3                                [Massachusetts]  \n",
       "4                                     [Virginia]  "
      ]
     },
     "execution_count": 61,
     "metadata": {},
     "output_type": "execute_result"
    }
   ],
   "source": [
    "neighbor_comparison = compare_neighbors(latest_totals)\n",
    "\n",
    "neighbor_comparison.head()"
   ]
  },
  {
   "cell_type": "markdown",
   "id": "c2e1595a",
   "metadata": {},
   "source": [
    "We see some correlation, but it does not reach the standard level of statistical significance — although, again, our sample size may simply be too small to detect it."
   ]
  },
  {
   "cell_type": "code",
   "execution_count": 62,
   "id": "9a73e837",
   "metadata": {
    "execution": {
     "iopub.execute_input": "2021-09-15T18:32:47.227774Z",
     "iopub.status.busy": "2021-09-15T18:32:47.221072Z",
     "iopub.status.idle": "2021-09-15T18:32:47.459574Z",
     "shell.execute_reply": "2021-09-15T18:32:47.460187Z"
    },
    "scrolled": true
   },
   "outputs": [
    {
     "data": {
      "image/png": "[encoded data removed]",
      "text/plain": [
       "<Figure size 432x288 with 1 Axes>"
      ]
     },
     "metadata": {},
     "output_type": "display_data"
    }
   ],
   "source": [
    "(\n",
    "    neighbor_comparison\n",
    "    .pipe(lambda df: sns.regplot(\n",
    "        y = df[\"per_100k\"],\n",
    "        x = df[\"per_100k_neighbor_mean\"],\n",
    "        truncate = False,\n",
    "        scatter_kws = { \"alpha\": 0.5 },\n",
    "    ))\n",
    ")\n",
    "pass"
   ]
  },
  {
   "cell_type": "code",
   "execution_count": 63,
   "id": "e1e6171e",
   "metadata": {
    "execution": {
     "iopub.execute_input": "2021-09-15T18:32:47.477792Z",
     "iopub.status.busy": "2021-09-15T18:32:47.477083Z",
     "iopub.status.idle": "2021-09-15T18:32:47.480059Z",
     "shell.execute_reply": "2021-09-15T18:32:47.480511Z"
    }
   },
   "outputs": [
    {
     "data": {
      "text/html": [
       "<table class=\"simpletable\">\n",
       "<caption>OLS Regression Results</caption>\n",
       "<tr>\n",
       "  <th>Dep. Variable:</th>        <td>per_100k</td>     <th>  R-squared:         </th> <td>   0.056</td>\n",
       "</tr>\n",
       "<tr>\n",
       "  <th>Model:</th>                   <td>OLS</td>       <th>  Adj. R-squared:    </th> <td>   0.011</td>\n",
       "</tr>\n",
       "<tr>\n",
       "  <th>Method:</th>             <td>Least Squares</td>  <th>  F-statistic:       </th> <td>   1.253</td>\n",
       "</tr>\n",
       "<tr>\n",
       "  <th>Date:</th>             <td>Fri, 17 Sep 2021</td> <th>  Prob (F-statistic):</th>  <td> 0.276</td> \n",
       "</tr>\n",
       "<tr>\n",
       "  <th>Time:</th>                 <td>10:23:26</td>     <th>  Log-Likelihood:    </th> <td> -116.40</td>\n",
       "</tr>\n",
       "<tr>\n",
       "  <th>No. Observations:</th>      <td>    23</td>      <th>  AIC:               </th> <td>   236.8</td>\n",
       "</tr>\n",
       "<tr>\n",
       "  <th>Df Residuals:</th>          <td>    21</td>      <th>  BIC:               </th> <td>   239.1</td>\n",
       "</tr>\n",
       "<tr>\n",
       "  <th>Df Model:</th>              <td>     1</td>      <th>                     </th>     <td> </td>   \n",
       "</tr>\n",
       "<tr>\n",
       "  <th>Covariance Type:</th>      <td>nonrobust</td>    <th>                     </th>     <td> </td>   \n",
       "</tr>\n",
       "</table>\n",
       "<table class=\"simpletable\">\n",
       "<tr>\n",
       "             <td></td>               <th>coef</th>     <th>std err</th>      <th>t</th>      <th>P>|t|</th>  <th>[0.025</th>    <th>0.975]</th>  \n",
       "</tr>\n",
       "<tr>\n",
       "  <th>const</th>                  <td>   39.2511</td> <td>   27.833</td> <td>    1.410</td> <td> 0.173</td> <td>  -18.631</td> <td>   97.133</td>\n",
       "</tr>\n",
       "<tr>\n",
       "  <th>per_100k_neighbor_mean</th> <td>    0.4742</td> <td>    0.424</td> <td>    1.120</td> <td> 0.276</td> <td>   -0.407</td> <td>    1.355</td>\n",
       "</tr>\n",
       "</table>\n",
       "<table class=\"simpletable\">\n",
       "<tr>\n",
       "  <th>Omnibus:</th>       <td> 9.862</td> <th>  Durbin-Watson:     </th> <td>   1.961</td>\n",
       "</tr>\n",
       "<tr>\n",
       "  <th>Prob(Omnibus):</th> <td> 0.007</td> <th>  Jarque-Bera (JB):  </th> <td>   8.080</td>\n",
       "</tr>\n",
       "<tr>\n",
       "  <th>Skew:</th>          <td> 1.402</td> <th>  Prob(JB):          </th> <td>  0.0176</td>\n",
       "</tr>\n",
       "<tr>\n",
       "  <th>Kurtosis:</th>      <td> 3.757</td> <th>  Cond. No.          </th> <td>    220.</td>\n",
       "</tr>\n",
       "</table><br/><br/>Notes:<br/>[1] Standard Errors assume that the covariance matrix of the errors is correctly specified."
      ],
      "text/plain": [
       "<class 'statsmodels.iolib.summary.Summary'>\n",
       "\"\"\"\n",
       "                            OLS Regression Results                            \n",
       "==============================================================================\n",
       "Dep. Variable:               per_100k   R-squared:                       0.056\n",
       "Model:                            OLS   Adj. R-squared:                  0.011\n",
       "Method:                 Least Squares   F-statistic:                     1.253\n",
       "Date:                Fri, 17 Sep 2021   Prob (F-statistic):              0.276\n",
       "Time:                        10:23:26   Log-Likelihood:                -116.40\n",
       "No. Observations:                  23   AIC:                             236.8\n",
       "Df Residuals:                      21   BIC:                             239.1\n",
       "Df Model:                           1                                         \n",
       "Covariance Type:            nonrobust                                         \n",
       "==========================================================================================\n",
       "                             coef    std err          t      P>|t|      [0.025      0.975]\n",
       "------------------------------------------------------------------------------------------\n",
       "const                     39.2511     27.833      1.410      0.173     -18.631      97.133\n",
       "per_100k_neighbor_mean     0.4742      0.424      1.120      0.276      -0.407       1.355\n",
       "==============================================================================\n",
       "Omnibus:                        9.862   Durbin-Watson:                   1.961\n",
       "Prob(Omnibus):                  0.007   Jarque-Bera (JB):                8.080\n",
       "Skew:                           1.402   Prob(JB):                       0.0176\n",
       "Kurtosis:                       3.757   Cond. No.                         220.\n",
       "==============================================================================\n",
       "\n",
       "Notes:\n",
       "[1] Standard Errors assume that the covariance matrix of the errors is correctly specified.\n",
       "\"\"\""
      ]
     },
     "execution_count": 63,
     "metadata": {},
     "output_type": "execute_result"
    }
   ],
   "source": [
    "(\n",
    "    neighbor_comparison\n",
    "    .pipe(lambda df: (\n",
    "        sm.OLS(\n",
    "            df[\"per_100k\"],\n",
    "            sm.add_constant(df[\"per_100k_neighbor_mean\"]),\n",
    "        )\n",
    "     ))\n",
    "    .fit()\n",
    "    .summary()\n",
    ")"
   ]
  },
  {
   "cell_type": "markdown",
   "id": "45e3fd99",
   "metadata": {},
   "source": [
    "---\n",
    "\n",
    "---\n",
    "\n",
    "---"
   ]
  }
 ],
 "metadata": {
  "kernelspec": {
   "display_name": "Python 3",
   "language": "python",
   "name": "python3"
  },
  "language_info": {
   "codemirror_mode": {
    "name": "ipython",
    "version": 3
   },
   "file_extension": ".py",
   "mimetype": "text/x-python",
   "name": "python",
   "nbconvert_exporter": "python",
   "pygments_lexer": "ipython3",
   "version": "3.9.1"
  }
 },
 "nbformat": 4,
 "nbformat_minor": 5
}
